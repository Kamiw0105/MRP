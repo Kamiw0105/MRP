{
  "nbformat": 4,
  "nbformat_minor": 0,
  "metadata": {
    "colab": {
      "provenance": [],
      "gpuType": "T4",
      "machine_shape": "hm"
    },
    "kernelspec": {
      "name": "python3",
      "display_name": "Python 3"
    },
    "language_info": {
      "name": "python"
    },
    "accelerator": "GPU",
    "widgets": {
      "application/vnd.jupyter.widget-state+json": {
        "530295c7b1564947943674fcd90b3ae7": {
          "model_module": "@jupyter-widgets/controls",
          "model_name": "HBoxModel",
          "model_module_version": "1.5.0",
          "state": {
            "_dom_classes": [],
            "_model_module": "@jupyter-widgets/controls",
            "_model_module_version": "1.5.0",
            "_model_name": "HBoxModel",
            "_view_count": null,
            "_view_module": "@jupyter-widgets/controls",
            "_view_module_version": "1.5.0",
            "_view_name": "HBoxView",
            "box_style": "",
            "children": [
              "IPY_MODEL_0a63ba61dde841deacfdfe317e0e4e91",
              "IPY_MODEL_caa5e7baf67f4e06aa7c625c439fa0fd",
              "IPY_MODEL_83789ed1dba14aa9af8954d21fa20fec"
            ],
            "layout": "IPY_MODEL_5fa4583d24884fcca6552fb17b91897d"
          }
        },
        "0a63ba61dde841deacfdfe317e0e4e91": {
          "model_module": "@jupyter-widgets/controls",
          "model_name": "HTMLModel",
          "model_module_version": "1.5.0",
          "state": {
            "_dom_classes": [],
            "_model_module": "@jupyter-widgets/controls",
            "_model_module_version": "1.5.0",
            "_model_name": "HTMLModel",
            "_view_count": null,
            "_view_module": "@jupyter-widgets/controls",
            "_view_module_version": "1.5.0",
            "_view_name": "HTMLView",
            "description": "",
            "description_tooltip": null,
            "layout": "IPY_MODEL_b7b81aebcf964d3c8a235699105dddd7",
            "placeholder": "​",
            "style": "IPY_MODEL_f3b983de962e433d9dbe1837047c4802",
            "value": "tokenizer_config.json: 100%"
          }
        },
        "caa5e7baf67f4e06aa7c625c439fa0fd": {
          "model_module": "@jupyter-widgets/controls",
          "model_name": "FloatProgressModel",
          "model_module_version": "1.5.0",
          "state": {
            "_dom_classes": [],
            "_model_module": "@jupyter-widgets/controls",
            "_model_module_version": "1.5.0",
            "_model_name": "FloatProgressModel",
            "_view_count": null,
            "_view_module": "@jupyter-widgets/controls",
            "_view_module_version": "1.5.0",
            "_view_name": "ProgressView",
            "bar_style": "success",
            "description": "",
            "description_tooltip": null,
            "layout": "IPY_MODEL_88e1a9fd7b7844fd9dae908e745b8a48",
            "max": 48,
            "min": 0,
            "orientation": "horizontal",
            "style": "IPY_MODEL_d707aa1128bc41b98570c1c475f97dac",
            "value": 48
          }
        },
        "83789ed1dba14aa9af8954d21fa20fec": {
          "model_module": "@jupyter-widgets/controls",
          "model_name": "HTMLModel",
          "model_module_version": "1.5.0",
          "state": {
            "_dom_classes": [],
            "_model_module": "@jupyter-widgets/controls",
            "_model_module_version": "1.5.0",
            "_model_name": "HTMLModel",
            "_view_count": null,
            "_view_module": "@jupyter-widgets/controls",
            "_view_module_version": "1.5.0",
            "_view_name": "HTMLView",
            "description": "",
            "description_tooltip": null,
            "layout": "IPY_MODEL_4a25df873f424ab18efa8f0741eae62d",
            "placeholder": "​",
            "style": "IPY_MODEL_05be88085dd94d35a5b82d3c3ed224b5",
            "value": " 48.0/48.0 [00:00&lt;00:00, 3.98kB/s]"
          }
        },
        "5fa4583d24884fcca6552fb17b91897d": {
          "model_module": "@jupyter-widgets/base",
          "model_name": "LayoutModel",
          "model_module_version": "1.2.0",
          "state": {
            "_model_module": "@jupyter-widgets/base",
            "_model_module_version": "1.2.0",
            "_model_name": "LayoutModel",
            "_view_count": null,
            "_view_module": "@jupyter-widgets/base",
            "_view_module_version": "1.2.0",
            "_view_name": "LayoutView",
            "align_content": null,
            "align_items": null,
            "align_self": null,
            "border": null,
            "bottom": null,
            "display": null,
            "flex": null,
            "flex_flow": null,
            "grid_area": null,
            "grid_auto_columns": null,
            "grid_auto_flow": null,
            "grid_auto_rows": null,
            "grid_column": null,
            "grid_gap": null,
            "grid_row": null,
            "grid_template_areas": null,
            "grid_template_columns": null,
            "grid_template_rows": null,
            "height": null,
            "justify_content": null,
            "justify_items": null,
            "left": null,
            "margin": null,
            "max_height": null,
            "max_width": null,
            "min_height": null,
            "min_width": null,
            "object_fit": null,
            "object_position": null,
            "order": null,
            "overflow": null,
            "overflow_x": null,
            "overflow_y": null,
            "padding": null,
            "right": null,
            "top": null,
            "visibility": null,
            "width": null
          }
        },
        "b7b81aebcf964d3c8a235699105dddd7": {
          "model_module": "@jupyter-widgets/base",
          "model_name": "LayoutModel",
          "model_module_version": "1.2.0",
          "state": {
            "_model_module": "@jupyter-widgets/base",
            "_model_module_version": "1.2.0",
            "_model_name": "LayoutModel",
            "_view_count": null,
            "_view_module": "@jupyter-widgets/base",
            "_view_module_version": "1.2.0",
            "_view_name": "LayoutView",
            "align_content": null,
            "align_items": null,
            "align_self": null,
            "border": null,
            "bottom": null,
            "display": null,
            "flex": null,
            "flex_flow": null,
            "grid_area": null,
            "grid_auto_columns": null,
            "grid_auto_flow": null,
            "grid_auto_rows": null,
            "grid_column": null,
            "grid_gap": null,
            "grid_row": null,
            "grid_template_areas": null,
            "grid_template_columns": null,
            "grid_template_rows": null,
            "height": null,
            "justify_content": null,
            "justify_items": null,
            "left": null,
            "margin": null,
            "max_height": null,
            "max_width": null,
            "min_height": null,
            "min_width": null,
            "object_fit": null,
            "object_position": null,
            "order": null,
            "overflow": null,
            "overflow_x": null,
            "overflow_y": null,
            "padding": null,
            "right": null,
            "top": null,
            "visibility": null,
            "width": null
          }
        },
        "f3b983de962e433d9dbe1837047c4802": {
          "model_module": "@jupyter-widgets/controls",
          "model_name": "DescriptionStyleModel",
          "model_module_version": "1.5.0",
          "state": {
            "_model_module": "@jupyter-widgets/controls",
            "_model_module_version": "1.5.0",
            "_model_name": "DescriptionStyleModel",
            "_view_count": null,
            "_view_module": "@jupyter-widgets/base",
            "_view_module_version": "1.2.0",
            "_view_name": "StyleView",
            "description_width": ""
          }
        },
        "88e1a9fd7b7844fd9dae908e745b8a48": {
          "model_module": "@jupyter-widgets/base",
          "model_name": "LayoutModel",
          "model_module_version": "1.2.0",
          "state": {
            "_model_module": "@jupyter-widgets/base",
            "_model_module_version": "1.2.0",
            "_model_name": "LayoutModel",
            "_view_count": null,
            "_view_module": "@jupyter-widgets/base",
            "_view_module_version": "1.2.0",
            "_view_name": "LayoutView",
            "align_content": null,
            "align_items": null,
            "align_self": null,
            "border": null,
            "bottom": null,
            "display": null,
            "flex": null,
            "flex_flow": null,
            "grid_area": null,
            "grid_auto_columns": null,
            "grid_auto_flow": null,
            "grid_auto_rows": null,
            "grid_column": null,
            "grid_gap": null,
            "grid_row": null,
            "grid_template_areas": null,
            "grid_template_columns": null,
            "grid_template_rows": null,
            "height": null,
            "justify_content": null,
            "justify_items": null,
            "left": null,
            "margin": null,
            "max_height": null,
            "max_width": null,
            "min_height": null,
            "min_width": null,
            "object_fit": null,
            "object_position": null,
            "order": null,
            "overflow": null,
            "overflow_x": null,
            "overflow_y": null,
            "padding": null,
            "right": null,
            "top": null,
            "visibility": null,
            "width": null
          }
        },
        "d707aa1128bc41b98570c1c475f97dac": {
          "model_module": "@jupyter-widgets/controls",
          "model_name": "ProgressStyleModel",
          "model_module_version": "1.5.0",
          "state": {
            "_model_module": "@jupyter-widgets/controls",
            "_model_module_version": "1.5.0",
            "_model_name": "ProgressStyleModel",
            "_view_count": null,
            "_view_module": "@jupyter-widgets/base",
            "_view_module_version": "1.2.0",
            "_view_name": "StyleView",
            "bar_color": null,
            "description_width": ""
          }
        },
        "4a25df873f424ab18efa8f0741eae62d": {
          "model_module": "@jupyter-widgets/base",
          "model_name": "LayoutModel",
          "model_module_version": "1.2.0",
          "state": {
            "_model_module": "@jupyter-widgets/base",
            "_model_module_version": "1.2.0",
            "_model_name": "LayoutModel",
            "_view_count": null,
            "_view_module": "@jupyter-widgets/base",
            "_view_module_version": "1.2.0",
            "_view_name": "LayoutView",
            "align_content": null,
            "align_items": null,
            "align_self": null,
            "border": null,
            "bottom": null,
            "display": null,
            "flex": null,
            "flex_flow": null,
            "grid_area": null,
            "grid_auto_columns": null,
            "grid_auto_flow": null,
            "grid_auto_rows": null,
            "grid_column": null,
            "grid_gap": null,
            "grid_row": null,
            "grid_template_areas": null,
            "grid_template_columns": null,
            "grid_template_rows": null,
            "height": null,
            "justify_content": null,
            "justify_items": null,
            "left": null,
            "margin": null,
            "max_height": null,
            "max_width": null,
            "min_height": null,
            "min_width": null,
            "object_fit": null,
            "object_position": null,
            "order": null,
            "overflow": null,
            "overflow_x": null,
            "overflow_y": null,
            "padding": null,
            "right": null,
            "top": null,
            "visibility": null,
            "width": null
          }
        },
        "05be88085dd94d35a5b82d3c3ed224b5": {
          "model_module": "@jupyter-widgets/controls",
          "model_name": "DescriptionStyleModel",
          "model_module_version": "1.5.0",
          "state": {
            "_model_module": "@jupyter-widgets/controls",
            "_model_module_version": "1.5.0",
            "_model_name": "DescriptionStyleModel",
            "_view_count": null,
            "_view_module": "@jupyter-widgets/base",
            "_view_module_version": "1.2.0",
            "_view_name": "StyleView",
            "description_width": ""
          }
        },
        "992beb33e7684b92aa9dfe204b884f2e": {
          "model_module": "@jupyter-widgets/controls",
          "model_name": "HBoxModel",
          "model_module_version": "1.5.0",
          "state": {
            "_dom_classes": [],
            "_model_module": "@jupyter-widgets/controls",
            "_model_module_version": "1.5.0",
            "_model_name": "HBoxModel",
            "_view_count": null,
            "_view_module": "@jupyter-widgets/controls",
            "_view_module_version": "1.5.0",
            "_view_name": "HBoxView",
            "box_style": "",
            "children": [
              "IPY_MODEL_8d7dd146624a4a81bb03a76f3b7a6472",
              "IPY_MODEL_fbdd1940ea0a497b84a9826d15a9fd98",
              "IPY_MODEL_de2531b7a097458db8affd383e20dd48"
            ],
            "layout": "IPY_MODEL_fce415063cf84d0b9c0c85b3ca374a70"
          }
        },
        "8d7dd146624a4a81bb03a76f3b7a6472": {
          "model_module": "@jupyter-widgets/controls",
          "model_name": "HTMLModel",
          "model_module_version": "1.5.0",
          "state": {
            "_dom_classes": [],
            "_model_module": "@jupyter-widgets/controls",
            "_model_module_version": "1.5.0",
            "_model_name": "HTMLModel",
            "_view_count": null,
            "_view_module": "@jupyter-widgets/controls",
            "_view_module_version": "1.5.0",
            "_view_name": "HTMLView",
            "description": "",
            "description_tooltip": null,
            "layout": "IPY_MODEL_53b2df004cb845f3990633492afbf097",
            "placeholder": "​",
            "style": "IPY_MODEL_3aef35e651e54591b5bdcc0294698368",
            "value": "vocab.txt: 100%"
          }
        },
        "fbdd1940ea0a497b84a9826d15a9fd98": {
          "model_module": "@jupyter-widgets/controls",
          "model_name": "FloatProgressModel",
          "model_module_version": "1.5.0",
          "state": {
            "_dom_classes": [],
            "_model_module": "@jupyter-widgets/controls",
            "_model_module_version": "1.5.0",
            "_model_name": "FloatProgressModel",
            "_view_count": null,
            "_view_module": "@jupyter-widgets/controls",
            "_view_module_version": "1.5.0",
            "_view_name": "ProgressView",
            "bar_style": "success",
            "description": "",
            "description_tooltip": null,
            "layout": "IPY_MODEL_8e152b8e13b04f128117d8a2c8f328e2",
            "max": 231508,
            "min": 0,
            "orientation": "horizontal",
            "style": "IPY_MODEL_7ad6527130094e9db88e1be8a192b647",
            "value": 231508
          }
        },
        "de2531b7a097458db8affd383e20dd48": {
          "model_module": "@jupyter-widgets/controls",
          "model_name": "HTMLModel",
          "model_module_version": "1.5.0",
          "state": {
            "_dom_classes": [],
            "_model_module": "@jupyter-widgets/controls",
            "_model_module_version": "1.5.0",
            "_model_name": "HTMLModel",
            "_view_count": null,
            "_view_module": "@jupyter-widgets/controls",
            "_view_module_version": "1.5.0",
            "_view_name": "HTMLView",
            "description": "",
            "description_tooltip": null,
            "layout": "IPY_MODEL_b15024c8d31c4967994c8f8b099a3f52",
            "placeholder": "​",
            "style": "IPY_MODEL_90e1536d02b040ce94ae3bc4c9c84161",
            "value": " 232k/232k [00:00&lt;00:00, 1.41MB/s]"
          }
        },
        "fce415063cf84d0b9c0c85b3ca374a70": {
          "model_module": "@jupyter-widgets/base",
          "model_name": "LayoutModel",
          "model_module_version": "1.2.0",
          "state": {
            "_model_module": "@jupyter-widgets/base",
            "_model_module_version": "1.2.0",
            "_model_name": "LayoutModel",
            "_view_count": null,
            "_view_module": "@jupyter-widgets/base",
            "_view_module_version": "1.2.0",
            "_view_name": "LayoutView",
            "align_content": null,
            "align_items": null,
            "align_self": null,
            "border": null,
            "bottom": null,
            "display": null,
            "flex": null,
            "flex_flow": null,
            "grid_area": null,
            "grid_auto_columns": null,
            "grid_auto_flow": null,
            "grid_auto_rows": null,
            "grid_column": null,
            "grid_gap": null,
            "grid_row": null,
            "grid_template_areas": null,
            "grid_template_columns": null,
            "grid_template_rows": null,
            "height": null,
            "justify_content": null,
            "justify_items": null,
            "left": null,
            "margin": null,
            "max_height": null,
            "max_width": null,
            "min_height": null,
            "min_width": null,
            "object_fit": null,
            "object_position": null,
            "order": null,
            "overflow": null,
            "overflow_x": null,
            "overflow_y": null,
            "padding": null,
            "right": null,
            "top": null,
            "visibility": null,
            "width": null
          }
        },
        "53b2df004cb845f3990633492afbf097": {
          "model_module": "@jupyter-widgets/base",
          "model_name": "LayoutModel",
          "model_module_version": "1.2.0",
          "state": {
            "_model_module": "@jupyter-widgets/base",
            "_model_module_version": "1.2.0",
            "_model_name": "LayoutModel",
            "_view_count": null,
            "_view_module": "@jupyter-widgets/base",
            "_view_module_version": "1.2.0",
            "_view_name": "LayoutView",
            "align_content": null,
            "align_items": null,
            "align_self": null,
            "border": null,
            "bottom": null,
            "display": null,
            "flex": null,
            "flex_flow": null,
            "grid_area": null,
            "grid_auto_columns": null,
            "grid_auto_flow": null,
            "grid_auto_rows": null,
            "grid_column": null,
            "grid_gap": null,
            "grid_row": null,
            "grid_template_areas": null,
            "grid_template_columns": null,
            "grid_template_rows": null,
            "height": null,
            "justify_content": null,
            "justify_items": null,
            "left": null,
            "margin": null,
            "max_height": null,
            "max_width": null,
            "min_height": null,
            "min_width": null,
            "object_fit": null,
            "object_position": null,
            "order": null,
            "overflow": null,
            "overflow_x": null,
            "overflow_y": null,
            "padding": null,
            "right": null,
            "top": null,
            "visibility": null,
            "width": null
          }
        },
        "3aef35e651e54591b5bdcc0294698368": {
          "model_module": "@jupyter-widgets/controls",
          "model_name": "DescriptionStyleModel",
          "model_module_version": "1.5.0",
          "state": {
            "_model_module": "@jupyter-widgets/controls",
            "_model_module_version": "1.5.0",
            "_model_name": "DescriptionStyleModel",
            "_view_count": null,
            "_view_module": "@jupyter-widgets/base",
            "_view_module_version": "1.2.0",
            "_view_name": "StyleView",
            "description_width": ""
          }
        },
        "8e152b8e13b04f128117d8a2c8f328e2": {
          "model_module": "@jupyter-widgets/base",
          "model_name": "LayoutModel",
          "model_module_version": "1.2.0",
          "state": {
            "_model_module": "@jupyter-widgets/base",
            "_model_module_version": "1.2.0",
            "_model_name": "LayoutModel",
            "_view_count": null,
            "_view_module": "@jupyter-widgets/base",
            "_view_module_version": "1.2.0",
            "_view_name": "LayoutView",
            "align_content": null,
            "align_items": null,
            "align_self": null,
            "border": null,
            "bottom": null,
            "display": null,
            "flex": null,
            "flex_flow": null,
            "grid_area": null,
            "grid_auto_columns": null,
            "grid_auto_flow": null,
            "grid_auto_rows": null,
            "grid_column": null,
            "grid_gap": null,
            "grid_row": null,
            "grid_template_areas": null,
            "grid_template_columns": null,
            "grid_template_rows": null,
            "height": null,
            "justify_content": null,
            "justify_items": null,
            "left": null,
            "margin": null,
            "max_height": null,
            "max_width": null,
            "min_height": null,
            "min_width": null,
            "object_fit": null,
            "object_position": null,
            "order": null,
            "overflow": null,
            "overflow_x": null,
            "overflow_y": null,
            "padding": null,
            "right": null,
            "top": null,
            "visibility": null,
            "width": null
          }
        },
        "7ad6527130094e9db88e1be8a192b647": {
          "model_module": "@jupyter-widgets/controls",
          "model_name": "ProgressStyleModel",
          "model_module_version": "1.5.0",
          "state": {
            "_model_module": "@jupyter-widgets/controls",
            "_model_module_version": "1.5.0",
            "_model_name": "ProgressStyleModel",
            "_view_count": null,
            "_view_module": "@jupyter-widgets/base",
            "_view_module_version": "1.2.0",
            "_view_name": "StyleView",
            "bar_color": null,
            "description_width": ""
          }
        },
        "b15024c8d31c4967994c8f8b099a3f52": {
          "model_module": "@jupyter-widgets/base",
          "model_name": "LayoutModel",
          "model_module_version": "1.2.0",
          "state": {
            "_model_module": "@jupyter-widgets/base",
            "_model_module_version": "1.2.0",
            "_model_name": "LayoutModel",
            "_view_count": null,
            "_view_module": "@jupyter-widgets/base",
            "_view_module_version": "1.2.0",
            "_view_name": "LayoutView",
            "align_content": null,
            "align_items": null,
            "align_self": null,
            "border": null,
            "bottom": null,
            "display": null,
            "flex": null,
            "flex_flow": null,
            "grid_area": null,
            "grid_auto_columns": null,
            "grid_auto_flow": null,
            "grid_auto_rows": null,
            "grid_column": null,
            "grid_gap": null,
            "grid_row": null,
            "grid_template_areas": null,
            "grid_template_columns": null,
            "grid_template_rows": null,
            "height": null,
            "justify_content": null,
            "justify_items": null,
            "left": null,
            "margin": null,
            "max_height": null,
            "max_width": null,
            "min_height": null,
            "min_width": null,
            "object_fit": null,
            "object_position": null,
            "order": null,
            "overflow": null,
            "overflow_x": null,
            "overflow_y": null,
            "padding": null,
            "right": null,
            "top": null,
            "visibility": null,
            "width": null
          }
        },
        "90e1536d02b040ce94ae3bc4c9c84161": {
          "model_module": "@jupyter-widgets/controls",
          "model_name": "DescriptionStyleModel",
          "model_module_version": "1.5.0",
          "state": {
            "_model_module": "@jupyter-widgets/controls",
            "_model_module_version": "1.5.0",
            "_model_name": "DescriptionStyleModel",
            "_view_count": null,
            "_view_module": "@jupyter-widgets/base",
            "_view_module_version": "1.2.0",
            "_view_name": "StyleView",
            "description_width": ""
          }
        },
        "8574751270e0428bb7ebafbee5d6c03c": {
          "model_module": "@jupyter-widgets/controls",
          "model_name": "HBoxModel",
          "model_module_version": "1.5.0",
          "state": {
            "_dom_classes": [],
            "_model_module": "@jupyter-widgets/controls",
            "_model_module_version": "1.5.0",
            "_model_name": "HBoxModel",
            "_view_count": null,
            "_view_module": "@jupyter-widgets/controls",
            "_view_module_version": "1.5.0",
            "_view_name": "HBoxView",
            "box_style": "",
            "children": [
              "IPY_MODEL_7a191def9ebd46aebed97e3a5f61d703",
              "IPY_MODEL_b9e0001cdb914681b5dfea781f5c7777",
              "IPY_MODEL_9ed5157613e6413488eff1285fd181f7"
            ],
            "layout": "IPY_MODEL_e176ff62940a4d228fca0fe91371f00b"
          }
        },
        "7a191def9ebd46aebed97e3a5f61d703": {
          "model_module": "@jupyter-widgets/controls",
          "model_name": "HTMLModel",
          "model_module_version": "1.5.0",
          "state": {
            "_dom_classes": [],
            "_model_module": "@jupyter-widgets/controls",
            "_model_module_version": "1.5.0",
            "_model_name": "HTMLModel",
            "_view_count": null,
            "_view_module": "@jupyter-widgets/controls",
            "_view_module_version": "1.5.0",
            "_view_name": "HTMLView",
            "description": "",
            "description_tooltip": null,
            "layout": "IPY_MODEL_a4c1f934f81e43d586397df59b23cad6",
            "placeholder": "​",
            "style": "IPY_MODEL_5dfb365e880f42cc99f66d4e6567853b",
            "value": "tokenizer.json: 100%"
          }
        },
        "b9e0001cdb914681b5dfea781f5c7777": {
          "model_module": "@jupyter-widgets/controls",
          "model_name": "FloatProgressModel",
          "model_module_version": "1.5.0",
          "state": {
            "_dom_classes": [],
            "_model_module": "@jupyter-widgets/controls",
            "_model_module_version": "1.5.0",
            "_model_name": "FloatProgressModel",
            "_view_count": null,
            "_view_module": "@jupyter-widgets/controls",
            "_view_module_version": "1.5.0",
            "_view_name": "ProgressView",
            "bar_style": "success",
            "description": "",
            "description_tooltip": null,
            "layout": "IPY_MODEL_706fec200a394f798cd2f829eb804210",
            "max": 466062,
            "min": 0,
            "orientation": "horizontal",
            "style": "IPY_MODEL_f73cb7d94f8b4f64949402939ec62d99",
            "value": 466062
          }
        },
        "9ed5157613e6413488eff1285fd181f7": {
          "model_module": "@jupyter-widgets/controls",
          "model_name": "HTMLModel",
          "model_module_version": "1.5.0",
          "state": {
            "_dom_classes": [],
            "_model_module": "@jupyter-widgets/controls",
            "_model_module_version": "1.5.0",
            "_model_name": "HTMLModel",
            "_view_count": null,
            "_view_module": "@jupyter-widgets/controls",
            "_view_module_version": "1.5.0",
            "_view_name": "HTMLView",
            "description": "",
            "description_tooltip": null,
            "layout": "IPY_MODEL_b8fa73103da8469da1248d4fb77dcdcb",
            "placeholder": "​",
            "style": "IPY_MODEL_a38ab87b13a64063b33d8123bc089271",
            "value": " 466k/466k [00:00&lt;00:00, 1.89MB/s]"
          }
        },
        "e176ff62940a4d228fca0fe91371f00b": {
          "model_module": "@jupyter-widgets/base",
          "model_name": "LayoutModel",
          "model_module_version": "1.2.0",
          "state": {
            "_model_module": "@jupyter-widgets/base",
            "_model_module_version": "1.2.0",
            "_model_name": "LayoutModel",
            "_view_count": null,
            "_view_module": "@jupyter-widgets/base",
            "_view_module_version": "1.2.0",
            "_view_name": "LayoutView",
            "align_content": null,
            "align_items": null,
            "align_self": null,
            "border": null,
            "bottom": null,
            "display": null,
            "flex": null,
            "flex_flow": null,
            "grid_area": null,
            "grid_auto_columns": null,
            "grid_auto_flow": null,
            "grid_auto_rows": null,
            "grid_column": null,
            "grid_gap": null,
            "grid_row": null,
            "grid_template_areas": null,
            "grid_template_columns": null,
            "grid_template_rows": null,
            "height": null,
            "justify_content": null,
            "justify_items": null,
            "left": null,
            "margin": null,
            "max_height": null,
            "max_width": null,
            "min_height": null,
            "min_width": null,
            "object_fit": null,
            "object_position": null,
            "order": null,
            "overflow": null,
            "overflow_x": null,
            "overflow_y": null,
            "padding": null,
            "right": null,
            "top": null,
            "visibility": null,
            "width": null
          }
        },
        "a4c1f934f81e43d586397df59b23cad6": {
          "model_module": "@jupyter-widgets/base",
          "model_name": "LayoutModel",
          "model_module_version": "1.2.0",
          "state": {
            "_model_module": "@jupyter-widgets/base",
            "_model_module_version": "1.2.0",
            "_model_name": "LayoutModel",
            "_view_count": null,
            "_view_module": "@jupyter-widgets/base",
            "_view_module_version": "1.2.0",
            "_view_name": "LayoutView",
            "align_content": null,
            "align_items": null,
            "align_self": null,
            "border": null,
            "bottom": null,
            "display": null,
            "flex": null,
            "flex_flow": null,
            "grid_area": null,
            "grid_auto_columns": null,
            "grid_auto_flow": null,
            "grid_auto_rows": null,
            "grid_column": null,
            "grid_gap": null,
            "grid_row": null,
            "grid_template_areas": null,
            "grid_template_columns": null,
            "grid_template_rows": null,
            "height": null,
            "justify_content": null,
            "justify_items": null,
            "left": null,
            "margin": null,
            "max_height": null,
            "max_width": null,
            "min_height": null,
            "min_width": null,
            "object_fit": null,
            "object_position": null,
            "order": null,
            "overflow": null,
            "overflow_x": null,
            "overflow_y": null,
            "padding": null,
            "right": null,
            "top": null,
            "visibility": null,
            "width": null
          }
        },
        "5dfb365e880f42cc99f66d4e6567853b": {
          "model_module": "@jupyter-widgets/controls",
          "model_name": "DescriptionStyleModel",
          "model_module_version": "1.5.0",
          "state": {
            "_model_module": "@jupyter-widgets/controls",
            "_model_module_version": "1.5.0",
            "_model_name": "DescriptionStyleModel",
            "_view_count": null,
            "_view_module": "@jupyter-widgets/base",
            "_view_module_version": "1.2.0",
            "_view_name": "StyleView",
            "description_width": ""
          }
        },
        "706fec200a394f798cd2f829eb804210": {
          "model_module": "@jupyter-widgets/base",
          "model_name": "LayoutModel",
          "model_module_version": "1.2.0",
          "state": {
            "_model_module": "@jupyter-widgets/base",
            "_model_module_version": "1.2.0",
            "_model_name": "LayoutModel",
            "_view_count": null,
            "_view_module": "@jupyter-widgets/base",
            "_view_module_version": "1.2.0",
            "_view_name": "LayoutView",
            "align_content": null,
            "align_items": null,
            "align_self": null,
            "border": null,
            "bottom": null,
            "display": null,
            "flex": null,
            "flex_flow": null,
            "grid_area": null,
            "grid_auto_columns": null,
            "grid_auto_flow": null,
            "grid_auto_rows": null,
            "grid_column": null,
            "grid_gap": null,
            "grid_row": null,
            "grid_template_areas": null,
            "grid_template_columns": null,
            "grid_template_rows": null,
            "height": null,
            "justify_content": null,
            "justify_items": null,
            "left": null,
            "margin": null,
            "max_height": null,
            "max_width": null,
            "min_height": null,
            "min_width": null,
            "object_fit": null,
            "object_position": null,
            "order": null,
            "overflow": null,
            "overflow_x": null,
            "overflow_y": null,
            "padding": null,
            "right": null,
            "top": null,
            "visibility": null,
            "width": null
          }
        },
        "f73cb7d94f8b4f64949402939ec62d99": {
          "model_module": "@jupyter-widgets/controls",
          "model_name": "ProgressStyleModel",
          "model_module_version": "1.5.0",
          "state": {
            "_model_module": "@jupyter-widgets/controls",
            "_model_module_version": "1.5.0",
            "_model_name": "ProgressStyleModel",
            "_view_count": null,
            "_view_module": "@jupyter-widgets/base",
            "_view_module_version": "1.2.0",
            "_view_name": "StyleView",
            "bar_color": null,
            "description_width": ""
          }
        },
        "b8fa73103da8469da1248d4fb77dcdcb": {
          "model_module": "@jupyter-widgets/base",
          "model_name": "LayoutModel",
          "model_module_version": "1.2.0",
          "state": {
            "_model_module": "@jupyter-widgets/base",
            "_model_module_version": "1.2.0",
            "_model_name": "LayoutModel",
            "_view_count": null,
            "_view_module": "@jupyter-widgets/base",
            "_view_module_version": "1.2.0",
            "_view_name": "LayoutView",
            "align_content": null,
            "align_items": null,
            "align_self": null,
            "border": null,
            "bottom": null,
            "display": null,
            "flex": null,
            "flex_flow": null,
            "grid_area": null,
            "grid_auto_columns": null,
            "grid_auto_flow": null,
            "grid_auto_rows": null,
            "grid_column": null,
            "grid_gap": null,
            "grid_row": null,
            "grid_template_areas": null,
            "grid_template_columns": null,
            "grid_template_rows": null,
            "height": null,
            "justify_content": null,
            "justify_items": null,
            "left": null,
            "margin": null,
            "max_height": null,
            "max_width": null,
            "min_height": null,
            "min_width": null,
            "object_fit": null,
            "object_position": null,
            "order": null,
            "overflow": null,
            "overflow_x": null,
            "overflow_y": null,
            "padding": null,
            "right": null,
            "top": null,
            "visibility": null,
            "width": null
          }
        },
        "a38ab87b13a64063b33d8123bc089271": {
          "model_module": "@jupyter-widgets/controls",
          "model_name": "DescriptionStyleModel",
          "model_module_version": "1.5.0",
          "state": {
            "_model_module": "@jupyter-widgets/controls",
            "_model_module_version": "1.5.0",
            "_model_name": "DescriptionStyleModel",
            "_view_count": null,
            "_view_module": "@jupyter-widgets/base",
            "_view_module_version": "1.2.0",
            "_view_name": "StyleView",
            "description_width": ""
          }
        },
        "83aeed6e38c84b089bfdb12dd16e66f6": {
          "model_module": "@jupyter-widgets/controls",
          "model_name": "HBoxModel",
          "model_module_version": "1.5.0",
          "state": {
            "_dom_classes": [],
            "_model_module": "@jupyter-widgets/controls",
            "_model_module_version": "1.5.0",
            "_model_name": "HBoxModel",
            "_view_count": null,
            "_view_module": "@jupyter-widgets/controls",
            "_view_module_version": "1.5.0",
            "_view_name": "HBoxView",
            "box_style": "",
            "children": [
              "IPY_MODEL_31c937379ef041a3b18ec42b44ea92c7",
              "IPY_MODEL_952c2b64959c4b43ae02e79256b7de5a",
              "IPY_MODEL_9ba2454599384a9c8cebc7a10e5c5a63"
            ],
            "layout": "IPY_MODEL_05d787443a824333bfc320b8b16b904a"
          }
        },
        "31c937379ef041a3b18ec42b44ea92c7": {
          "model_module": "@jupyter-widgets/controls",
          "model_name": "HTMLModel",
          "model_module_version": "1.5.0",
          "state": {
            "_dom_classes": [],
            "_model_module": "@jupyter-widgets/controls",
            "_model_module_version": "1.5.0",
            "_model_name": "HTMLModel",
            "_view_count": null,
            "_view_module": "@jupyter-widgets/controls",
            "_view_module_version": "1.5.0",
            "_view_name": "HTMLView",
            "description": "",
            "description_tooltip": null,
            "layout": "IPY_MODEL_d962598c3e92415e821633edca42c806",
            "placeholder": "​",
            "style": "IPY_MODEL_14b54f78f827413fb497fee528b88f33",
            "value": "config.json: 100%"
          }
        },
        "952c2b64959c4b43ae02e79256b7de5a": {
          "model_module": "@jupyter-widgets/controls",
          "model_name": "FloatProgressModel",
          "model_module_version": "1.5.0",
          "state": {
            "_dom_classes": [],
            "_model_module": "@jupyter-widgets/controls",
            "_model_module_version": "1.5.0",
            "_model_name": "FloatProgressModel",
            "_view_count": null,
            "_view_module": "@jupyter-widgets/controls",
            "_view_module_version": "1.5.0",
            "_view_name": "ProgressView",
            "bar_style": "success",
            "description": "",
            "description_tooltip": null,
            "layout": "IPY_MODEL_8630f603a8fa428a818b9dd01249e933",
            "max": 570,
            "min": 0,
            "orientation": "horizontal",
            "style": "IPY_MODEL_255dff570c2e49ca995c862b6876a69f",
            "value": 570
          }
        },
        "9ba2454599384a9c8cebc7a10e5c5a63": {
          "model_module": "@jupyter-widgets/controls",
          "model_name": "HTMLModel",
          "model_module_version": "1.5.0",
          "state": {
            "_dom_classes": [],
            "_model_module": "@jupyter-widgets/controls",
            "_model_module_version": "1.5.0",
            "_model_name": "HTMLModel",
            "_view_count": null,
            "_view_module": "@jupyter-widgets/controls",
            "_view_module_version": "1.5.0",
            "_view_name": "HTMLView",
            "description": "",
            "description_tooltip": null,
            "layout": "IPY_MODEL_09f7118cad254a8ca046f2ea61440cd3",
            "placeholder": "​",
            "style": "IPY_MODEL_0f89d47a05004915855b15e205274bb4",
            "value": " 570/570 [00:00&lt;00:00, 51.0kB/s]"
          }
        },
        "05d787443a824333bfc320b8b16b904a": {
          "model_module": "@jupyter-widgets/base",
          "model_name": "LayoutModel",
          "model_module_version": "1.2.0",
          "state": {
            "_model_module": "@jupyter-widgets/base",
            "_model_module_version": "1.2.0",
            "_model_name": "LayoutModel",
            "_view_count": null,
            "_view_module": "@jupyter-widgets/base",
            "_view_module_version": "1.2.0",
            "_view_name": "LayoutView",
            "align_content": null,
            "align_items": null,
            "align_self": null,
            "border": null,
            "bottom": null,
            "display": null,
            "flex": null,
            "flex_flow": null,
            "grid_area": null,
            "grid_auto_columns": null,
            "grid_auto_flow": null,
            "grid_auto_rows": null,
            "grid_column": null,
            "grid_gap": null,
            "grid_row": null,
            "grid_template_areas": null,
            "grid_template_columns": null,
            "grid_template_rows": null,
            "height": null,
            "justify_content": null,
            "justify_items": null,
            "left": null,
            "margin": null,
            "max_height": null,
            "max_width": null,
            "min_height": null,
            "min_width": null,
            "object_fit": null,
            "object_position": null,
            "order": null,
            "overflow": null,
            "overflow_x": null,
            "overflow_y": null,
            "padding": null,
            "right": null,
            "top": null,
            "visibility": null,
            "width": null
          }
        },
        "d962598c3e92415e821633edca42c806": {
          "model_module": "@jupyter-widgets/base",
          "model_name": "LayoutModel",
          "model_module_version": "1.2.0",
          "state": {
            "_model_module": "@jupyter-widgets/base",
            "_model_module_version": "1.2.0",
            "_model_name": "LayoutModel",
            "_view_count": null,
            "_view_module": "@jupyter-widgets/base",
            "_view_module_version": "1.2.0",
            "_view_name": "LayoutView",
            "align_content": null,
            "align_items": null,
            "align_self": null,
            "border": null,
            "bottom": null,
            "display": null,
            "flex": null,
            "flex_flow": null,
            "grid_area": null,
            "grid_auto_columns": null,
            "grid_auto_flow": null,
            "grid_auto_rows": null,
            "grid_column": null,
            "grid_gap": null,
            "grid_row": null,
            "grid_template_areas": null,
            "grid_template_columns": null,
            "grid_template_rows": null,
            "height": null,
            "justify_content": null,
            "justify_items": null,
            "left": null,
            "margin": null,
            "max_height": null,
            "max_width": null,
            "min_height": null,
            "min_width": null,
            "object_fit": null,
            "object_position": null,
            "order": null,
            "overflow": null,
            "overflow_x": null,
            "overflow_y": null,
            "padding": null,
            "right": null,
            "top": null,
            "visibility": null,
            "width": null
          }
        },
        "14b54f78f827413fb497fee528b88f33": {
          "model_module": "@jupyter-widgets/controls",
          "model_name": "DescriptionStyleModel",
          "model_module_version": "1.5.0",
          "state": {
            "_model_module": "@jupyter-widgets/controls",
            "_model_module_version": "1.5.0",
            "_model_name": "DescriptionStyleModel",
            "_view_count": null,
            "_view_module": "@jupyter-widgets/base",
            "_view_module_version": "1.2.0",
            "_view_name": "StyleView",
            "description_width": ""
          }
        },
        "8630f603a8fa428a818b9dd01249e933": {
          "model_module": "@jupyter-widgets/base",
          "model_name": "LayoutModel",
          "model_module_version": "1.2.0",
          "state": {
            "_model_module": "@jupyter-widgets/base",
            "_model_module_version": "1.2.0",
            "_model_name": "LayoutModel",
            "_view_count": null,
            "_view_module": "@jupyter-widgets/base",
            "_view_module_version": "1.2.0",
            "_view_name": "LayoutView",
            "align_content": null,
            "align_items": null,
            "align_self": null,
            "border": null,
            "bottom": null,
            "display": null,
            "flex": null,
            "flex_flow": null,
            "grid_area": null,
            "grid_auto_columns": null,
            "grid_auto_flow": null,
            "grid_auto_rows": null,
            "grid_column": null,
            "grid_gap": null,
            "grid_row": null,
            "grid_template_areas": null,
            "grid_template_columns": null,
            "grid_template_rows": null,
            "height": null,
            "justify_content": null,
            "justify_items": null,
            "left": null,
            "margin": null,
            "max_height": null,
            "max_width": null,
            "min_height": null,
            "min_width": null,
            "object_fit": null,
            "object_position": null,
            "order": null,
            "overflow": null,
            "overflow_x": null,
            "overflow_y": null,
            "padding": null,
            "right": null,
            "top": null,
            "visibility": null,
            "width": null
          }
        },
        "255dff570c2e49ca995c862b6876a69f": {
          "model_module": "@jupyter-widgets/controls",
          "model_name": "ProgressStyleModel",
          "model_module_version": "1.5.0",
          "state": {
            "_model_module": "@jupyter-widgets/controls",
            "_model_module_version": "1.5.0",
            "_model_name": "ProgressStyleModel",
            "_view_count": null,
            "_view_module": "@jupyter-widgets/base",
            "_view_module_version": "1.2.0",
            "_view_name": "StyleView",
            "bar_color": null,
            "description_width": ""
          }
        },
        "09f7118cad254a8ca046f2ea61440cd3": {
          "model_module": "@jupyter-widgets/base",
          "model_name": "LayoutModel",
          "model_module_version": "1.2.0",
          "state": {
            "_model_module": "@jupyter-widgets/base",
            "_model_module_version": "1.2.0",
            "_model_name": "LayoutModel",
            "_view_count": null,
            "_view_module": "@jupyter-widgets/base",
            "_view_module_version": "1.2.0",
            "_view_name": "LayoutView",
            "align_content": null,
            "align_items": null,
            "align_self": null,
            "border": null,
            "bottom": null,
            "display": null,
            "flex": null,
            "flex_flow": null,
            "grid_area": null,
            "grid_auto_columns": null,
            "grid_auto_flow": null,
            "grid_auto_rows": null,
            "grid_column": null,
            "grid_gap": null,
            "grid_row": null,
            "grid_template_areas": null,
            "grid_template_columns": null,
            "grid_template_rows": null,
            "height": null,
            "justify_content": null,
            "justify_items": null,
            "left": null,
            "margin": null,
            "max_height": null,
            "max_width": null,
            "min_height": null,
            "min_width": null,
            "object_fit": null,
            "object_position": null,
            "order": null,
            "overflow": null,
            "overflow_x": null,
            "overflow_y": null,
            "padding": null,
            "right": null,
            "top": null,
            "visibility": null,
            "width": null
          }
        },
        "0f89d47a05004915855b15e205274bb4": {
          "model_module": "@jupyter-widgets/controls",
          "model_name": "DescriptionStyleModel",
          "model_module_version": "1.5.0",
          "state": {
            "_model_module": "@jupyter-widgets/controls",
            "_model_module_version": "1.5.0",
            "_model_name": "DescriptionStyleModel",
            "_view_count": null,
            "_view_module": "@jupyter-widgets/base",
            "_view_module_version": "1.2.0",
            "_view_name": "StyleView",
            "description_width": ""
          }
        },
        "f0288e021b954705bf9bc930aea8509a": {
          "model_module": "@jupyter-widgets/controls",
          "model_name": "HBoxModel",
          "model_module_version": "1.5.0",
          "state": {
            "_dom_classes": [],
            "_model_module": "@jupyter-widgets/controls",
            "_model_module_version": "1.5.0",
            "_model_name": "HBoxModel",
            "_view_count": null,
            "_view_module": "@jupyter-widgets/controls",
            "_view_module_version": "1.5.0",
            "_view_name": "HBoxView",
            "box_style": "",
            "children": [
              "IPY_MODEL_effe04f07b054de08e9f0359f56ab145",
              "IPY_MODEL_33cd2a3608564d278659b819321d2df6",
              "IPY_MODEL_7189dd5bf7804e248a497b5d37b9d15c"
            ],
            "layout": "IPY_MODEL_30f599a82a3e41a3a41fb07798cd7bbd"
          }
        },
        "effe04f07b054de08e9f0359f56ab145": {
          "model_module": "@jupyter-widgets/controls",
          "model_name": "HTMLModel",
          "model_module_version": "1.5.0",
          "state": {
            "_dom_classes": [],
            "_model_module": "@jupyter-widgets/controls",
            "_model_module_version": "1.5.0",
            "_model_name": "HTMLModel",
            "_view_count": null,
            "_view_module": "@jupyter-widgets/controls",
            "_view_module_version": "1.5.0",
            "_view_name": "HTMLView",
            "description": "",
            "description_tooltip": null,
            "layout": "IPY_MODEL_41fdf8e01b624137a16aa81d95cf4f63",
            "placeholder": "​",
            "style": "IPY_MODEL_f45c7241ac884e73be67fc882364b025",
            "value": "model.safetensors: 100%"
          }
        },
        "33cd2a3608564d278659b819321d2df6": {
          "model_module": "@jupyter-widgets/controls",
          "model_name": "FloatProgressModel",
          "model_module_version": "1.5.0",
          "state": {
            "_dom_classes": [],
            "_model_module": "@jupyter-widgets/controls",
            "_model_module_version": "1.5.0",
            "_model_name": "FloatProgressModel",
            "_view_count": null,
            "_view_module": "@jupyter-widgets/controls",
            "_view_module_version": "1.5.0",
            "_view_name": "ProgressView",
            "bar_style": "success",
            "description": "",
            "description_tooltip": null,
            "layout": "IPY_MODEL_daa8760f07194fddbbb85791d2844f08",
            "max": 440449768,
            "min": 0,
            "orientation": "horizontal",
            "style": "IPY_MODEL_f7ecc45dd48c4d4c82135fe6a6184dbd",
            "value": 440449768
          }
        },
        "7189dd5bf7804e248a497b5d37b9d15c": {
          "model_module": "@jupyter-widgets/controls",
          "model_name": "HTMLModel",
          "model_module_version": "1.5.0",
          "state": {
            "_dom_classes": [],
            "_model_module": "@jupyter-widgets/controls",
            "_model_module_version": "1.5.0",
            "_model_name": "HTMLModel",
            "_view_count": null,
            "_view_module": "@jupyter-widgets/controls",
            "_view_module_version": "1.5.0",
            "_view_name": "HTMLView",
            "description": "",
            "description_tooltip": null,
            "layout": "IPY_MODEL_43d82bd1da2649aa8433280b76ce07ad",
            "placeholder": "​",
            "style": "IPY_MODEL_f0ec56ff8732477a9fa29b13bc3a06a0",
            "value": " 440M/440M [00:01&lt;00:00, 320MB/s]"
          }
        },
        "30f599a82a3e41a3a41fb07798cd7bbd": {
          "model_module": "@jupyter-widgets/base",
          "model_name": "LayoutModel",
          "model_module_version": "1.2.0",
          "state": {
            "_model_module": "@jupyter-widgets/base",
            "_model_module_version": "1.2.0",
            "_model_name": "LayoutModel",
            "_view_count": null,
            "_view_module": "@jupyter-widgets/base",
            "_view_module_version": "1.2.0",
            "_view_name": "LayoutView",
            "align_content": null,
            "align_items": null,
            "align_self": null,
            "border": null,
            "bottom": null,
            "display": null,
            "flex": null,
            "flex_flow": null,
            "grid_area": null,
            "grid_auto_columns": null,
            "grid_auto_flow": null,
            "grid_auto_rows": null,
            "grid_column": null,
            "grid_gap": null,
            "grid_row": null,
            "grid_template_areas": null,
            "grid_template_columns": null,
            "grid_template_rows": null,
            "height": null,
            "justify_content": null,
            "justify_items": null,
            "left": null,
            "margin": null,
            "max_height": null,
            "max_width": null,
            "min_height": null,
            "min_width": null,
            "object_fit": null,
            "object_position": null,
            "order": null,
            "overflow": null,
            "overflow_x": null,
            "overflow_y": null,
            "padding": null,
            "right": null,
            "top": null,
            "visibility": null,
            "width": null
          }
        },
        "41fdf8e01b624137a16aa81d95cf4f63": {
          "model_module": "@jupyter-widgets/base",
          "model_name": "LayoutModel",
          "model_module_version": "1.2.0",
          "state": {
            "_model_module": "@jupyter-widgets/base",
            "_model_module_version": "1.2.0",
            "_model_name": "LayoutModel",
            "_view_count": null,
            "_view_module": "@jupyter-widgets/base",
            "_view_module_version": "1.2.0",
            "_view_name": "LayoutView",
            "align_content": null,
            "align_items": null,
            "align_self": null,
            "border": null,
            "bottom": null,
            "display": null,
            "flex": null,
            "flex_flow": null,
            "grid_area": null,
            "grid_auto_columns": null,
            "grid_auto_flow": null,
            "grid_auto_rows": null,
            "grid_column": null,
            "grid_gap": null,
            "grid_row": null,
            "grid_template_areas": null,
            "grid_template_columns": null,
            "grid_template_rows": null,
            "height": null,
            "justify_content": null,
            "justify_items": null,
            "left": null,
            "margin": null,
            "max_height": null,
            "max_width": null,
            "min_height": null,
            "min_width": null,
            "object_fit": null,
            "object_position": null,
            "order": null,
            "overflow": null,
            "overflow_x": null,
            "overflow_y": null,
            "padding": null,
            "right": null,
            "top": null,
            "visibility": null,
            "width": null
          }
        },
        "f45c7241ac884e73be67fc882364b025": {
          "model_module": "@jupyter-widgets/controls",
          "model_name": "DescriptionStyleModel",
          "model_module_version": "1.5.0",
          "state": {
            "_model_module": "@jupyter-widgets/controls",
            "_model_module_version": "1.5.0",
            "_model_name": "DescriptionStyleModel",
            "_view_count": null,
            "_view_module": "@jupyter-widgets/base",
            "_view_module_version": "1.2.0",
            "_view_name": "StyleView",
            "description_width": ""
          }
        },
        "daa8760f07194fddbbb85791d2844f08": {
          "model_module": "@jupyter-widgets/base",
          "model_name": "LayoutModel",
          "model_module_version": "1.2.0",
          "state": {
            "_model_module": "@jupyter-widgets/base",
            "_model_module_version": "1.2.0",
            "_model_name": "LayoutModel",
            "_view_count": null,
            "_view_module": "@jupyter-widgets/base",
            "_view_module_version": "1.2.0",
            "_view_name": "LayoutView",
            "align_content": null,
            "align_items": null,
            "align_self": null,
            "border": null,
            "bottom": null,
            "display": null,
            "flex": null,
            "flex_flow": null,
            "grid_area": null,
            "grid_auto_columns": null,
            "grid_auto_flow": null,
            "grid_auto_rows": null,
            "grid_column": null,
            "grid_gap": null,
            "grid_row": null,
            "grid_template_areas": null,
            "grid_template_columns": null,
            "grid_template_rows": null,
            "height": null,
            "justify_content": null,
            "justify_items": null,
            "left": null,
            "margin": null,
            "max_height": null,
            "max_width": null,
            "min_height": null,
            "min_width": null,
            "object_fit": null,
            "object_position": null,
            "order": null,
            "overflow": null,
            "overflow_x": null,
            "overflow_y": null,
            "padding": null,
            "right": null,
            "top": null,
            "visibility": null,
            "width": null
          }
        },
        "f7ecc45dd48c4d4c82135fe6a6184dbd": {
          "model_module": "@jupyter-widgets/controls",
          "model_name": "ProgressStyleModel",
          "model_module_version": "1.5.0",
          "state": {
            "_model_module": "@jupyter-widgets/controls",
            "_model_module_version": "1.5.0",
            "_model_name": "ProgressStyleModel",
            "_view_count": null,
            "_view_module": "@jupyter-widgets/base",
            "_view_module_version": "1.2.0",
            "_view_name": "StyleView",
            "bar_color": null,
            "description_width": ""
          }
        },
        "43d82bd1da2649aa8433280b76ce07ad": {
          "model_module": "@jupyter-widgets/base",
          "model_name": "LayoutModel",
          "model_module_version": "1.2.0",
          "state": {
            "_model_module": "@jupyter-widgets/base",
            "_model_module_version": "1.2.0",
            "_model_name": "LayoutModel",
            "_view_count": null,
            "_view_module": "@jupyter-widgets/base",
            "_view_module_version": "1.2.0",
            "_view_name": "LayoutView",
            "align_content": null,
            "align_items": null,
            "align_self": null,
            "border": null,
            "bottom": null,
            "display": null,
            "flex": null,
            "flex_flow": null,
            "grid_area": null,
            "grid_auto_columns": null,
            "grid_auto_flow": null,
            "grid_auto_rows": null,
            "grid_column": null,
            "grid_gap": null,
            "grid_row": null,
            "grid_template_areas": null,
            "grid_template_columns": null,
            "grid_template_rows": null,
            "height": null,
            "justify_content": null,
            "justify_items": null,
            "left": null,
            "margin": null,
            "max_height": null,
            "max_width": null,
            "min_height": null,
            "min_width": null,
            "object_fit": null,
            "object_position": null,
            "order": null,
            "overflow": null,
            "overflow_x": null,
            "overflow_y": null,
            "padding": null,
            "right": null,
            "top": null,
            "visibility": null,
            "width": null
          }
        },
        "f0ec56ff8732477a9fa29b13bc3a06a0": {
          "model_module": "@jupyter-widgets/controls",
          "model_name": "DescriptionStyleModel",
          "model_module_version": "1.5.0",
          "state": {
            "_model_module": "@jupyter-widgets/controls",
            "_model_module_version": "1.5.0",
            "_model_name": "DescriptionStyleModel",
            "_view_count": null,
            "_view_module": "@jupyter-widgets/base",
            "_view_module_version": "1.2.0",
            "_view_name": "StyleView",
            "description_width": ""
          }
        }
      }
    }
  },
  "cells": [
    {
      "cell_type": "markdown",
      "source": [
        "# 1. clean the data\n",
        "\n"
      ],
      "metadata": {
        "id": "3MTS8C_fjfN7"
      }
    },
    {
      "cell_type": "code",
      "source": [
        "import pandas as pd\n",
        "import re\n",
        "import nltk\n",
        "!pip install pyspellchecker\n",
        "from nltk.corpus import stopwords\n",
        "from nltk.stem import WordNetLemmatizer\n",
        "from spellchecker import SpellChecker\n",
        "import tensorflow as tf\n",
        "from transformers import BertTokenizer, TFBertModel\n",
        "from sklearn.linear_model import LogisticRegression\n",
        "from sklearn.metrics import f1_score\n",
        "from sklearn.model_selection import train_test_split\n",
        "from sklearn.metrics import make_scorer\n",
        "import gc\n",
        "from sklearn.model_selection import cross_val_score\n",
        "from sklearn.svm import SVC\n",
        "from sklearn.feature_extraction.text import TfidfVectorizer\n",
        "from gensim.models import Word2Vec\n",
        "import numpy as np\n",
        "nltk.download('wordnet')\n",
        "nltk.download('omw-1.4')\n",
        "nltk.download('stopwords')"
      ],
      "metadata": {
        "colab": {
          "base_uri": "https://localhost:8080/",
          "height": 0
        },
        "id": "uIL5IWo2lATT",
        "outputId": "10d83dfd-42bb-49ce-d96f-56e1c162f00f"
      },
      "execution_count": 3,
      "outputs": [
        {
          "output_type": "stream",
          "name": "stdout",
          "text": [
            "Requirement already satisfied: pyspellchecker in /usr/local/lib/python3.10/dist-packages (0.8.1)\n"
          ]
        },
        {
          "output_type": "stream",
          "name": "stderr",
          "text": [
            "[nltk_data] Downloading package wordnet to /root/nltk_data...\n",
            "[nltk_data]   Package wordnet is already up-to-date!\n",
            "[nltk_data] Downloading package omw-1.4 to /root/nltk_data...\n",
            "[nltk_data]   Package omw-1.4 is already up-to-date!\n",
            "[nltk_data] Downloading package stopwords to /root/nltk_data...\n",
            "[nltk_data]   Package stopwords is already up-to-date!\n"
          ]
        },
        {
          "output_type": "execute_result",
          "data": {
            "text/plain": [
              "True"
            ]
          },
          "metadata": {},
          "execution_count": 3
        }
      ]
    },
    {
      "cell_type": "code",
      "source": [
        "# loading the data\n",
        "train_df = pd.read_csv('train.csv')\n",
        "test_df = pd.read_csv('test.csv')\n",
        "\n",
        "# clean data\n",
        "def clean_text(text):\n",
        "    text = re.sub(r'http\\S+', '<url>', text)\n",
        "    text = re.sub(r'@\\w+', '<user>', text)\n",
        "    text = re.sub(r'#\\w+', '<hashtag>', text)\n",
        "    text = text.lower()\n",
        "    text = re.sub(r'[^a-z\\s]', '', text)\n",
        "    return text\n",
        "\n",
        "train_df['cleaned_text'] = train_df['text'].apply(clean_text)\n",
        "test_df['cleaned_text'] = test_df['text'].apply(clean_text)"
      ],
      "metadata": {
        "id": "NOD7JIS0IEPX"
      },
      "execution_count": 4,
      "outputs": []
    },
    {
      "cell_type": "code",
      "source": [
        "print(train_df[['text', 'cleaned_text']].head())\n",
        "print(test_df[['text', 'cleaned_text']].head())"
      ],
      "metadata": {
        "colab": {
          "base_uri": "https://localhost:8080/",
          "height": 0
        },
        "id": "r0xuRsYenalL",
        "outputId": "0743571e-503d-4f68-80cf-ebeb15eacf04"
      },
      "execution_count": 5,
      "outputs": [
        {
          "output_type": "stream",
          "name": "stdout",
          "text": [
            "                                                text  \\\n",
            "0  Our Deeds are the Reason of this #earthquake M...   \n",
            "1             Forest fire near La Ronge Sask. Canada   \n",
            "2  All residents asked to 'shelter in place' are ...   \n",
            "3  13,000 people receive #wildfires evacuation or...   \n",
            "4  Just got sent this photo from Ruby #Alaska as ...   \n",
            "\n",
            "                                        cleaned_text  \n",
            "0  our deeds are the reason of this hashtag may a...  \n",
            "1              forest fire near la ronge sask canada  \n",
            "2  all residents asked to shelter in place are be...  \n",
            "3   people receive hashtag evacuation orders in c...  \n",
            "4  just got sent this photo from ruby hashtag as ...  \n",
            "                                                text  \\\n",
            "0                 Just happened a terrible car crash   \n",
            "1  Heard about #earthquake is different cities, s...   \n",
            "2  there is a forest fire at spot pond, geese are...   \n",
            "3           Apocalypse lighting. #Spokane #wildfires   \n",
            "4      Typhoon Soudelor kills 28 in China and Taiwan   \n",
            "\n",
            "                                        cleaned_text  \n",
            "0                 just happened a terrible car crash  \n",
            "1  heard about hashtag is different cities stay s...  \n",
            "2  there is a forest fire at spot pond geese are ...  \n",
            "3                apocalypse lighting hashtag hashtag  \n",
            "4        typhoon soudelor kills  in china and taiwan  \n"
          ]
        }
      ]
    },
    {
      "cell_type": "markdown",
      "source": [
        "# 2. Feature Engineering and Preprocessing"
      ],
      "metadata": {
        "id": "zfa17lMbny3a"
      }
    },
    {
      "cell_type": "code",
      "source": [
        "def cross_validate_model(model, X, y, cv=10):\n",
        "    f1_scores = cross_val_score(model, X, y, cv=cv, scoring='f1')\n",
        "    return f1_scores.mean()"
      ],
      "metadata": {
        "id": "uRznisaPpKzh"
      },
      "execution_count": 6,
      "outputs": []
    },
    {
      "cell_type": "code",
      "source": [
        "# TF-IDF\n",
        "vectorizer = TfidfVectorizer(max_features=5000)\n",
        "X_tfidf = vectorizer.fit_transform(train_df['cleaned_text'])\n",
        "\n",
        "X_train_tfidf, X_val_tfidf, y_train, y_val = train_test_split(X_tfidf, train_df['target'], test_size=0.2, random_state=42)\n",
        "\n",
        "svm_model = SVC()\n",
        "\n",
        "tfidf_f1_score = cross_validate_model(svm_model, X_tfidf, train_df['target'])"
      ],
      "metadata": {
        "id": "d4wxSHdunnj2"
      },
      "execution_count": 7,
      "outputs": []
    },
    {
      "cell_type": "code",
      "source": [
        "# Word2Vec\n",
        "sentences = [text.split() for text in train_df['cleaned_text']]\n",
        "w2v_model = Word2Vec(sentences, vector_size=100, window=5, min_count=1, workers=4)\n",
        "\n",
        "def get_w2v_features(text, model):\n",
        "    words = text.split()\n",
        "    features = np.mean([model.wv[word] for word in words if word in model.wv], axis=0)\n",
        "    return features\n",
        "\n",
        "X_w2v = np.array([get_w2v_features(text, w2v_model) for text in train_df['cleaned_text']])\n",
        "\n",
        "X_train_w2v, X_val_w2v, y_train, y_val = train_test_split(X_w2v, train_df['target'], test_size=0.2, random_state=42)\n",
        "\n",
        "w2v_f1_score = cross_validate_model(svm_model, X_w2v, train_df['target'])"
      ],
      "metadata": {
        "id": "nVS04lV2oanx"
      },
      "execution_count": 8,
      "outputs": []
    },
    {
      "cell_type": "code",
      "source": [
        "# Glove\n",
        "def load_glove_model(glove_file):\n",
        "    model = {}\n",
        "    with open(glove_file, 'r', encoding='utf-8') as f:\n",
        "        for line in f:\n",
        "            split_line = line.split()\n",
        "            word = split_line[0]\n",
        "            embedding = np.array([float(val) for val in split_line[1:]])\n",
        "            model[word] = embedding\n",
        "    return model\n",
        "\n",
        "glove_model = load_glove_model('glove.6B.50d.txt')\n",
        "\n",
        "def get_glove_features(text, model):\n",
        "    words = text.split()\n",
        "    features = np.mean([model[word] for word in words if word in model], axis=0)\n",
        "    if np.isnan(features).any():\n",
        "        return np.zeros(50)\n",
        "    return features\n",
        "\n",
        "def handle_missing_features(features):\n",
        "    if np.isnan(features).any():\n",
        "        return np.zeros(features.shape)\n",
        "    return features\n",
        "\n",
        "X_glove = np.array([handle_missing_features(get_glove_features(text, glove_model)) for text in train_df['cleaned_text']])\n",
        "\n",
        "X_train_glove, X_val_glove, y_train, y_val = train_test_split(X_glove, train_df['target'], test_size=0.2, random_state=42)\n",
        "\n",
        "def cross_validate_model(model, X, y, cv=10):\n",
        "    f1_scores = cross_val_score(model, X, y, cv=cv, scoring='f1')\n",
        "    return f1_scores.mean()\n",
        "\n",
        "svm_model = SVC()\n",
        "glove_f1_score = cross_validate_model(svm_model, X_glove, train_df['target'])"
      ],
      "metadata": {
        "colab": {
          "base_uri": "https://localhost:8080/",
          "height": 0
        },
        "id": "vmqOQFaKoc4h",
        "outputId": "2683b742-72ce-46d0-9ca2-d9794022f0fb"
      },
      "execution_count": 9,
      "outputs": [
        {
          "output_type": "stream",
          "name": "stderr",
          "text": [
            "/usr/local/lib/python3.10/dist-packages/numpy/core/fromnumeric.py:3504: RuntimeWarning: Mean of empty slice.\n",
            "  return _methods._mean(a, axis=axis, dtype=dtype,\n",
            "/usr/local/lib/python3.10/dist-packages/numpy/core/_methods.py:129: RuntimeWarning: invalid value encountered in scalar divide\n",
            "  ret = ret.dtype.type(ret / rcount)\n"
          ]
        }
      ]
    },
    {
      "cell_type": "code",
      "source": [
        "# BERT\n",
        "tokenizer = BertTokenizer.from_pretrained('bert-base-uncased')\n",
        "\n",
        "def bert_encode(data, maximum_length):\n",
        "    input_ids = []\n",
        "    attention_masks = []\n",
        "\n",
        "    for text in data:\n",
        "        encoded = tokenizer.encode_plus(\n",
        "            text,\n",
        "            add_special_tokens=True,\n",
        "            max_length=maximum_length,\n",
        "            truncation=True,\n",
        "            padding='max_length',\n",
        "            return_attention_mask=True,\n",
        "        )\n",
        "        input_ids.append(encoded['input_ids'])\n",
        "        attention_masks.append(encoded['attention_mask'])\n",
        "\n",
        "    return np.array(input_ids), np.array(attention_masks)\n",
        "\n",
        "texts = train_df['cleaned_text']\n",
        "target = train_df['target']\n",
        "\n",
        "train_input_ids, train_attention_masks = bert_encode(texts, 60)\n",
        "\n",
        "bert_model = TFBertModel.from_pretrained('bert-base-uncased')\n",
        "\n",
        "def extract_bert_features(input_ids, attention_masks, bert_model):\n",
        "    inputs = {\n",
        "        'input_ids': input_ids,\n",
        "        'attention_mask': attention_masks\n",
        "    }\n",
        "    outputs = bert_model(inputs)\n",
        "    return outputs.last_hidden_state\n",
        "\n",
        "def extract_bert_features_in_batches(input_ids, attention_masks, bert_model, batch_size=8):\n",
        "    features = []\n",
        "    for i in range(0, len(input_ids), batch_size):\n",
        "        batch_input_ids = input_ids[i:i+batch_size]\n",
        "        batch_attention_masks = attention_masks[i:i+batch_size]\n",
        "        batch_features = extract_bert_features(batch_input_ids, batch_attention_masks, bert_model)\n",
        "        features.append(batch_features)\n",
        "    return np.vstack(features)\n",
        "\n",
        "train_features = extract_bert_features_in_batches(train_input_ids, train_attention_masks, bert_model, batch_size=8)\n",
        "\n",
        "del train_input_ids, train_attention_masks\n",
        "gc.collect()\n",
        "\n",
        "def mean_pooling(features):\n",
        "    return np.mean(features, axis=1)\n",
        "\n",
        "train_features_pooled = mean_pooling(train_features)\n",
        "\n",
        "def cross_validate_model(model, X, y, cv=10):\n",
        "    f1_scorer = make_scorer(f1_score)\n",
        "    f1_scores = cross_val_score(model, X, y, cv=cv, scoring=f1_scorer)\n",
        "    return f1_scores.mean()\n",
        "\n",
        "logistic_model = LogisticRegression(max_iter=1000)\n",
        "logistic_f1_score = cross_validate_model(logistic_model, train_features_pooled, target)"
      ],
      "metadata": {
        "colab": {
          "base_uri": "https://localhost:8080/",
          "height": 388,
          "referenced_widgets": [
            "530295c7b1564947943674fcd90b3ae7",
            "0a63ba61dde841deacfdfe317e0e4e91",
            "caa5e7baf67f4e06aa7c625c439fa0fd",
            "83789ed1dba14aa9af8954d21fa20fec",
            "5fa4583d24884fcca6552fb17b91897d",
            "b7b81aebcf964d3c8a235699105dddd7",
            "f3b983de962e433d9dbe1837047c4802",
            "88e1a9fd7b7844fd9dae908e745b8a48",
            "d707aa1128bc41b98570c1c475f97dac",
            "4a25df873f424ab18efa8f0741eae62d",
            "05be88085dd94d35a5b82d3c3ed224b5",
            "992beb33e7684b92aa9dfe204b884f2e",
            "8d7dd146624a4a81bb03a76f3b7a6472",
            "fbdd1940ea0a497b84a9826d15a9fd98",
            "de2531b7a097458db8affd383e20dd48",
            "fce415063cf84d0b9c0c85b3ca374a70",
            "53b2df004cb845f3990633492afbf097",
            "3aef35e651e54591b5bdcc0294698368",
            "8e152b8e13b04f128117d8a2c8f328e2",
            "7ad6527130094e9db88e1be8a192b647",
            "b15024c8d31c4967994c8f8b099a3f52",
            "90e1536d02b040ce94ae3bc4c9c84161",
            "8574751270e0428bb7ebafbee5d6c03c",
            "7a191def9ebd46aebed97e3a5f61d703",
            "b9e0001cdb914681b5dfea781f5c7777",
            "9ed5157613e6413488eff1285fd181f7",
            "e176ff62940a4d228fca0fe91371f00b",
            "a4c1f934f81e43d586397df59b23cad6",
            "5dfb365e880f42cc99f66d4e6567853b",
            "706fec200a394f798cd2f829eb804210",
            "f73cb7d94f8b4f64949402939ec62d99",
            "b8fa73103da8469da1248d4fb77dcdcb",
            "a38ab87b13a64063b33d8123bc089271",
            "83aeed6e38c84b089bfdb12dd16e66f6",
            "31c937379ef041a3b18ec42b44ea92c7",
            "952c2b64959c4b43ae02e79256b7de5a",
            "9ba2454599384a9c8cebc7a10e5c5a63",
            "05d787443a824333bfc320b8b16b904a",
            "d962598c3e92415e821633edca42c806",
            "14b54f78f827413fb497fee528b88f33",
            "8630f603a8fa428a818b9dd01249e933",
            "255dff570c2e49ca995c862b6876a69f",
            "09f7118cad254a8ca046f2ea61440cd3",
            "0f89d47a05004915855b15e205274bb4",
            "f0288e021b954705bf9bc930aea8509a",
            "effe04f07b054de08e9f0359f56ab145",
            "33cd2a3608564d278659b819321d2df6",
            "7189dd5bf7804e248a497b5d37b9d15c",
            "30f599a82a3e41a3a41fb07798cd7bbd",
            "41fdf8e01b624137a16aa81d95cf4f63",
            "f45c7241ac884e73be67fc882364b025",
            "daa8760f07194fddbbb85791d2844f08",
            "f7ecc45dd48c4d4c82135fe6a6184dbd",
            "43d82bd1da2649aa8433280b76ce07ad",
            "f0ec56ff8732477a9fa29b13bc3a06a0"
          ]
        },
        "id": "wQkIbcwmhwJ4",
        "outputId": "5af31abe-f9b8-463b-ed82-a2e5719d225c"
      },
      "execution_count": 10,
      "outputs": [
        {
          "output_type": "stream",
          "name": "stderr",
          "text": [
            "/usr/local/lib/python3.10/dist-packages/huggingface_hub/utils/_token.py:89: UserWarning: \n",
            "The secret `HF_TOKEN` does not exist in your Colab secrets.\n",
            "To authenticate with the Hugging Face Hub, create a token in your settings tab (https://huggingface.co/settings/tokens), set it as secret in your Google Colab and restart your session.\n",
            "You will be able to reuse this secret in all of your notebooks.\n",
            "Please note that authentication is recommended but still optional to access public models or datasets.\n",
            "  warnings.warn(\n"
          ]
        },
        {
          "output_type": "display_data",
          "data": {
            "text/plain": [
              "tokenizer_config.json:   0%|          | 0.00/48.0 [00:00<?, ?B/s]"
            ],
            "application/vnd.jupyter.widget-view+json": {
              "version_major": 2,
              "version_minor": 0,
              "model_id": "530295c7b1564947943674fcd90b3ae7"
            }
          },
          "metadata": {}
        },
        {
          "output_type": "display_data",
          "data": {
            "text/plain": [
              "vocab.txt:   0%|          | 0.00/232k [00:00<?, ?B/s]"
            ],
            "application/vnd.jupyter.widget-view+json": {
              "version_major": 2,
              "version_minor": 0,
              "model_id": "992beb33e7684b92aa9dfe204b884f2e"
            }
          },
          "metadata": {}
        },
        {
          "output_type": "display_data",
          "data": {
            "text/plain": [
              "tokenizer.json:   0%|          | 0.00/466k [00:00<?, ?B/s]"
            ],
            "application/vnd.jupyter.widget-view+json": {
              "version_major": 2,
              "version_minor": 0,
              "model_id": "8574751270e0428bb7ebafbee5d6c03c"
            }
          },
          "metadata": {}
        },
        {
          "output_type": "display_data",
          "data": {
            "text/plain": [
              "config.json:   0%|          | 0.00/570 [00:00<?, ?B/s]"
            ],
            "application/vnd.jupyter.widget-view+json": {
              "version_major": 2,
              "version_minor": 0,
              "model_id": "83aeed6e38c84b089bfdb12dd16e66f6"
            }
          },
          "metadata": {}
        },
        {
          "output_type": "display_data",
          "data": {
            "text/plain": [
              "model.safetensors:   0%|          | 0.00/440M [00:00<?, ?B/s]"
            ],
            "application/vnd.jupyter.widget-view+json": {
              "version_major": 2,
              "version_minor": 0,
              "model_id": "f0288e021b954705bf9bc930aea8509a"
            }
          },
          "metadata": {}
        },
        {
          "output_type": "stream",
          "name": "stderr",
          "text": [
            "Some weights of the PyTorch model were not used when initializing the TF 2.0 model TFBertModel: ['cls.seq_relationship.weight', 'cls.seq_relationship.bias', 'cls.predictions.transform.LayerNorm.bias', 'cls.predictions.bias', 'cls.predictions.transform.LayerNorm.weight', 'cls.predictions.transform.dense.bias', 'cls.predictions.transform.dense.weight']\n",
            "- This IS expected if you are initializing TFBertModel from a PyTorch model trained on another task or with another architecture (e.g. initializing a TFBertForSequenceClassification model from a BertForPreTraining model).\n",
            "- This IS NOT expected if you are initializing TFBertModel from a PyTorch model that you expect to be exactly identical (e.g. initializing a TFBertForSequenceClassification model from a BertForSequenceClassification model).\n",
            "All the weights of TFBertModel were initialized from the PyTorch model.\n",
            "If your task is similar to the task the model of the checkpoint was trained on, you can already use TFBertModel for predictions without further training.\n"
          ]
        }
      ]
    },
    {
      "cell_type": "code",
      "source": [
        "from sklearn.metrics import accuracy_score, precision_score, recall_score, f1_score\n",
        "\n",
        "def cross_validate_model(model, X, y, cv=5):\n",
        "    from sklearn.model_selection import cross_validate\n",
        "\n",
        "    scoring = {'accuracy': 'accuracy',\n",
        "               'precision': 'precision',\n",
        "               'recall': 'recall',\n",
        "               'f1': 'f1'}\n",
        "\n",
        "    scores = cross_validate(model, X, y, cv=cv, scoring=scoring)\n",
        "\n",
        "    return {\n",
        "        'accuracy': scores['test_accuracy'].mean(),\n",
        "        'precision': scores['test_precision'].mean(),\n",
        "        'recall': scores['test_recall'].mean(),\n",
        "        'f1': scores['test_f1'].mean()\n",
        "    }\n",
        "\n",
        "tfidf_scores = cross_validate_model(svm_model, X_tfidf, train_df['target'])\n",
        "\n",
        "w2v_scores = cross_validate_model(svm_model, X_w2v, train_df['target'])\n",
        "\n",
        "glove_scores = cross_validate_model(svm_model, X_glove, train_df['target'])\n",
        "\n",
        "bert_scores = cross_validate_model(logistic_model, train_features_pooled, target)"
      ],
      "metadata": {
        "id": "B653rnzlVFec"
      },
      "execution_count": 11,
      "outputs": []
    },
    {
      "cell_type": "code",
      "source": [
        "import pandas as pd\n",
        "\n",
        "results = pd.DataFrame({\n",
        "    'TF-IDF': tfidf_scores,\n",
        "    'Word2Vec': w2v_scores,\n",
        "    'GloVe': glove_scores,\n",
        "    'BERT': bert_scores\n",
        "})\n",
        "\n",
        "import matplotlib.pyplot as plt\n",
        "\n",
        "ax = results.plot(kind='bar', figsize=(12, 6), width=0.8)\n",
        "plt.title('Model Performance Comparison')\n",
        "plt.xlabel('Metrics')\n",
        "plt.ylabel('Score')\n",
        "plt.legend(title='Feature Extraction Method')\n",
        "plt.xticks(rotation=0)\n",
        "\n",
        "for container in ax.containers:\n",
        "    ax.bar_label(container, fmt='%.3f', padding=3)\n",
        "\n",
        "plt.tight_layout()\n",
        "plt.show()\n",
        "\n",
        "print(results.to_string(float_format='{:.3f}'.format))"
      ],
      "metadata": {
        "colab": {
          "base_uri": "https://localhost:8080/",
          "height": 694
        },
        "id": "V3AFCXXWVGI5",
        "outputId": "c4585e04-4e2a-468f-ebc4-c9627f739443"
      },
      "execution_count": 12,
      "outputs": [
        {
          "output_type": "display_data",
          "data": {
            "text/plain": [
              "<Figure size 1200x600 with 1 Axes>"
            ],
            "image/png": "[encoded data removed]"
          },
          "metadata": {}
        },
        {
          "output_type": "stream",
          "name": "stdout",
          "text": [
            "           TF-IDF  Word2Vec  GloVe  BERT\n",
            "accuracy    0.724     0.646  0.780 0.783\n",
            "precision   0.779     0.601  0.813 0.764\n",
            "recall      0.502     0.527  0.634 0.719\n",
            "f1          0.608     0.561  0.712 0.740\n"
          ]
        }
      ]
    },
    {
      "cell_type": "markdown",
      "source": [
        "I compare the four feature extraction methods which are TF-IDF, Word2Vec, GloVe, and BERT, from the results of performance across accuracy, precision, recall, and F1-score metrics. While GloVe showed strong performance in accuracy(0.780) and precision(0.813), but BERT demonstrated the best overall balance across all metrics with highest accuracy(0.783) and F1-score(0.740). BERT's strength lies in its capacity to capture contextual nuances and semantic relationships in text, thanks to its deep bidirectional architecture and pre-training on vast corpora. This allows BERT to understand complex language patterns and generalize well to our specific task. Given the overall perfomance across all metrics, spcially from the high recall and F1-score, BERT has the most suitable choice for our text classification task."
      ],
      "metadata": {
        "id": "RjQYUBNiUlBZ"
      }
    },
    {
      "cell_type": "markdown",
      "source": [
        "# 3. MODEL DEVELOPMENT"
      ],
      "metadata": {
        "id": "IWm0E63Wv1vw"
      }
    },
    {
      "cell_type": "code",
      "source": [
        "import tensorflow as tf\n",
        "from transformers import BertTokenizer, TFBertModel\n",
        "from sklearn.linear_model import LogisticRegression\n",
        "from sklearn.svm import SVC\n",
        "from sklearn.ensemble import GradientBoostingClassifier\n",
        "from sklearn.model_selection import KFold\n",
        "\n",
        "def cross_validate_model(model, X, y, cv=10):\n",
        "    f1_scorer = make_scorer(f1_score)\n",
        "    f1_scores = cross_val_score(model, X, y, cv=cv, scoring=f1_scorer)\n",
        "    return f1_scores.mean()"
      ],
      "metadata": {
        "id": "LxUJ3rKBoAaS"
      },
      "execution_count": 13,
      "outputs": []
    },
    {
      "cell_type": "code",
      "source": [
        "#SVM model\n",
        "svm_model = SVC()\n",
        "svm_f1_score = cross_validate_model(svm_model, train_features_pooled, target)"
      ],
      "metadata": {
        "id": "IMZFp80uxEY5"
      },
      "execution_count": 14,
      "outputs": []
    },
    {
      "cell_type": "code",
      "source": [
        "# LSTM model\n",
        "def create_lstm_model(input_shape):\n",
        "    model = tf.keras.Sequential([\n",
        "        tf.keras.layers.Input(shape=input_shape),\n",
        "        tf.keras.layers.LSTM(128, return_sequences=False),\n",
        "        tf.keras.layers.Dense(32, activation='relu'),\n",
        "        tf.keras.layers.Dropout(0.2),\n",
        "        tf.keras.layers.Dense(1, activation='sigmoid')\n",
        "    ])\n",
        "    model.compile(optimizer=tf.keras.optimizers.Adam(learning_rate=1e-5), loss='binary_crossentropy', metrics=['accuracy'])\n",
        "    return model\n",
        "\n",
        "def cross_validate_lstm_model(X, y, cv=5):\n",
        "    kf = KFold(n_splits=cv, shuffle=True, random_state=42)\n",
        "    f1_scores = []\n",
        "\n",
        "    for train_index, val_index in kf.split(X):\n",
        "        X_train, X_val = X[train_index], X[val_index]\n",
        "        y_train, y_val = y[train_index], y[val_index]\n",
        "\n",
        "        input_shape = (X_train.shape[1], X_train.shape[2])\n",
        "        lstm_model = create_lstm_model(input_shape)\n",
        "\n",
        "        train_dataset = tf.data.Dataset.from_tensor_slices((X_train, y_train)).batch(8)\n",
        "        val_dataset = tf.data.Dataset.from_tensor_slices((X_val, y_val)).batch(8)\n",
        "\n",
        "        lstm_model.fit(\n",
        "            train_dataset,\n",
        "            validation_data=val_dataset,\n",
        "            epochs=3,\n",
        "            verbose=1\n",
        "        )\n",
        "\n",
        "        y_pred = (lstm_model.predict(X_val) > 0.5).astype(\"int32\")\n",
        "        f1 = f1_score(y_val, y_pred)\n",
        "        f1_scores.append(f1)\n",
        "        print(f\"Fold F1 Score: {f1}\")\n",
        "\n",
        "    print(f\"Mean LSTM F1 Score: {np.mean(f1_scores)}\")\n",
        "    return np.mean(f1_scores)\n",
        "\n",
        "lstm_f1_score = cross_validate_lstm_model(train_features, target)"
      ],
      "metadata": {
        "colab": {
          "base_uri": "https://localhost:8080/",
          "height": 0
        },
        "id": "ldoDYfD9oFzY",
        "outputId": "0eee11c7-0f7b-4298-dda5-91cf04c9cbe9"
      },
      "execution_count": 15,
      "outputs": [
        {
          "output_type": "stream",
          "name": "stdout",
          "text": [
            "Epoch 1/3\n",
            "762/762 [==============================] - 9s 7ms/step - loss: 0.6186 - accuracy: 0.6734 - val_loss: 0.5553 - val_accuracy: 0.7715\n",
            "Epoch 2/3\n",
            "762/762 [==============================] - 4s 6ms/step - loss: 0.5335 - accuracy: 0.7560 - val_loss: 0.4928 - val_accuracy: 0.7899\n",
            "Epoch 3/3\n",
            "762/762 [==============================] - 4s 6ms/step - loss: 0.4881 - accuracy: 0.7800 - val_loss: 0.4647 - val_accuracy: 0.7971\n",
            "48/48 [==============================] - 1s 4ms/step\n",
            "Fold F1 Score: 0.7485760781122865\n",
            "Epoch 1/3\n",
            "762/762 [==============================] - 7s 7ms/step - loss: 0.6293 - accuracy: 0.6658 - val_loss: 0.5668 - val_accuracy: 0.7643\n",
            "Epoch 2/3\n",
            "762/762 [==============================] - 5s 6ms/step - loss: 0.5424 - accuracy: 0.7550 - val_loss: 0.4988 - val_accuracy: 0.7774\n",
            "Epoch 3/3\n",
            "762/762 [==============================] - 4s 6ms/step - loss: 0.4985 - accuracy: 0.7737 - val_loss: 0.4664 - val_accuracy: 0.7899\n",
            "48/48 [==============================] - 1s 4ms/step\n",
            "Fold F1 Score: 0.7372742200328406\n",
            "Epoch 1/3\n",
            "762/762 [==============================] - 7s 7ms/step - loss: 0.6352 - accuracy: 0.6537 - val_loss: 0.5643 - val_accuracy: 0.7682\n",
            "Epoch 2/3\n",
            "762/762 [==============================] - 5s 6ms/step - loss: 0.5458 - accuracy: 0.7484 - val_loss: 0.4923 - val_accuracy: 0.7899\n",
            "Epoch 3/3\n",
            "762/762 [==============================] - 5s 6ms/step - loss: 0.4970 - accuracy: 0.7765 - val_loss: 0.4567 - val_accuracy: 0.8043\n",
            "48/48 [==============================] - 1s 4ms/step\n",
            "Fold F1 Score: 0.7634920634920636\n",
            "Epoch 1/3\n",
            "762/762 [==============================] - 7s 7ms/step - loss: 0.6336 - accuracy: 0.6618 - val_loss: 0.5736 - val_accuracy: 0.7405\n",
            "Epoch 2/3\n",
            "762/762 [==============================] - 5s 6ms/step - loss: 0.5264 - accuracy: 0.7580 - val_loss: 0.5169 - val_accuracy: 0.7543\n",
            "Epoch 3/3\n",
            "762/762 [==============================] - 5s 6ms/step - loss: 0.4837 - accuracy: 0.7821 - val_loss: 0.4934 - val_accuracy: 0.7681\n",
            "48/48 [==============================] - 1s 4ms/step\n",
            "Fold F1 Score: 0.7164658634538154\n",
            "Epoch 1/3\n",
            "762/762 [==============================] - 7s 7ms/step - loss: 0.6347 - accuracy: 0.6749 - val_loss: 0.5835 - val_accuracy: 0.7470\n",
            "Epoch 2/3\n",
            "762/762 [==============================] - 5s 6ms/step - loss: 0.5514 - accuracy: 0.7575 - val_loss: 0.5249 - val_accuracy: 0.7654\n",
            "Epoch 3/3\n",
            "762/762 [==============================] - 5s 6ms/step - loss: 0.4986 - accuracy: 0.7729 - val_loss: 0.4947 - val_accuracy: 0.7799\n",
            "48/48 [==============================] - 1s 4ms/step\n",
            "Fold F1 Score: 0.7291835084882781\n",
            "Mean LSTM F1 Score: 0.7389983467158568\n"
          ]
        }
      ]
    },
    {
      "cell_type": "code",
      "source": [
        "# GRU model\n",
        "def create_gru_model(input_shape):\n",
        "    model = tf.keras.Sequential([\n",
        "        tf.keras.layers.Input(shape=input_shape),\n",
        "        tf.keras.layers.GRU(128, return_sequences=False),\n",
        "        tf.keras.layers.Dense(32, activation='relu'),\n",
        "        tf.keras.layers.Dropout(0.2),\n",
        "        tf.keras.layers.Dense(1, activation='sigmoid')\n",
        "    ])\n",
        "    model.compile(optimizer=tf.keras.optimizers.Adam(learning_rate=1e-5), loss='binary_crossentropy', metrics=['accuracy'])\n",
        "    return model\n",
        "\n",
        "def cross_validate_gru_model(X, y, cv=5):\n",
        "    kf = KFold(n_splits=cv, shuffle=True, random_state=42)\n",
        "    f1_scores = []\n",
        "\n",
        "    for train_index, val_index in kf.split(X):\n",
        "        X_train, X_val = X[train_index], X[val_index]\n",
        "        y_train, y_val = y[train_index], y[val_index]\n",
        "\n",
        "        input_shape = (X_train.shape[1], X_train.shape[2])\n",
        "        gru_model = create_gru_model(input_shape)\n",
        "\n",
        "        gru_model.fit(\n",
        "            X_train, y_train,\n",
        "            validation_data=(X_val, y_val),\n",
        "            epochs=3,\n",
        "            batch_size=8,\n",
        "            verbose=1\n",
        "        )\n",
        "\n",
        "        y_pred = (gru_model.predict(X_val) > 0.5).astype(\"int32\")\n",
        "        f1 = f1_score(y_val, y_pred)\n",
        "        f1_scores.append(f1)\n",
        "        print(f\"Fold F1 Score: {f1}\")\n",
        "\n",
        "    print(f\"Mean GRU F1 Score: {np.mean(f1_scores)}\")\n",
        "    return np.mean(f1_scores)\n",
        "\n",
        "gru_f1_score = cross_validate_gru_model(train_features, target)"
      ],
      "metadata": {
        "colab": {
          "base_uri": "https://localhost:8080/",
          "height": 0
        },
        "id": "NtG2vBl3oN0g",
        "outputId": "c034808a-2a9a-4e95-eee1-ed0cdb6ca2cb"
      },
      "execution_count": 16,
      "outputs": [
        {
          "output_type": "stream",
          "name": "stdout",
          "text": [
            "Epoch 1/3\n",
            "762/762 [==============================] - 7s 7ms/step - loss: 0.6283 - accuracy: 0.6619 - val_loss: 0.5680 - val_accuracy: 0.7452\n",
            "Epoch 2/3\n",
            "762/762 [==============================] - 5s 6ms/step - loss: 0.5418 - accuracy: 0.7481 - val_loss: 0.5119 - val_accuracy: 0.7689\n",
            "Epoch 3/3\n",
            "762/762 [==============================] - 5s 6ms/step - loss: 0.5066 - accuracy: 0.7691 - val_loss: 0.4891 - val_accuracy: 0.7814\n",
            "48/48 [==============================] - 0s 4ms/step\n",
            "Fold F1 Score: 0.7101827676240209\n",
            "Epoch 1/3\n",
            "762/762 [==============================] - 7s 7ms/step - loss: 0.6163 - accuracy: 0.6803 - val_loss: 0.5612 - val_accuracy: 0.7518\n",
            "Epoch 2/3\n",
            "762/762 [==============================] - 5s 6ms/step - loss: 0.5461 - accuracy: 0.7450 - val_loss: 0.5156 - val_accuracy: 0.7722\n",
            "Epoch 3/3\n",
            "762/762 [==============================] - 5s 6ms/step - loss: 0.5131 - accuracy: 0.7680 - val_loss: 0.4905 - val_accuracy: 0.7833\n",
            "48/48 [==============================] - 0s 4ms/step\n",
            "Fold F1 Score: 0.7226890756302522\n",
            "Epoch 1/3\n",
            "762/762 [==============================] - 7s 7ms/step - loss: 0.6240 - accuracy: 0.6606 - val_loss: 0.5508 - val_accuracy: 0.7610\n",
            "Epoch 2/3\n",
            "762/762 [==============================] - 5s 6ms/step - loss: 0.5401 - accuracy: 0.7489 - val_loss: 0.4964 - val_accuracy: 0.7820\n",
            "Epoch 3/3\n",
            "762/762 [==============================] - 4s 6ms/step - loss: 0.5104 - accuracy: 0.7647 - val_loss: 0.4710 - val_accuracy: 0.7899\n",
            "48/48 [==============================] - 0s 4ms/step\n",
            "Fold F1 Score: 0.7440000000000001\n",
            "Epoch 1/3\n",
            "762/762 [==============================] - 7s 7ms/step - loss: 0.6302 - accuracy: 0.6503 - val_loss: 0.5714 - val_accuracy: 0.7300\n",
            "Epoch 2/3\n",
            "762/762 [==============================] - 5s 6ms/step - loss: 0.5375 - accuracy: 0.7521 - val_loss: 0.5253 - val_accuracy: 0.7549\n",
            "Epoch 3/3\n",
            "762/762 [==============================] - 5s 6ms/step - loss: 0.5049 - accuracy: 0.7700 - val_loss: 0.5057 - val_accuracy: 0.7622\n",
            "48/48 [==============================] - 0s 4ms/step\n",
            "Fold F1 Score: 0.7023026315789473\n",
            "Epoch 1/3\n",
            "762/762 [==============================] - 8s 7ms/step - loss: 0.6527 - accuracy: 0.6258 - val_loss: 0.6029 - val_accuracy: 0.7352\n",
            "Epoch 2/3\n",
            "762/762 [==============================] - 5s 6ms/step - loss: 0.5691 - accuracy: 0.7455 - val_loss: 0.5471 - val_accuracy: 0.7530\n",
            "Epoch 3/3\n",
            "762/762 [==============================] - 5s 6ms/step - loss: 0.5216 - accuracy: 0.7710 - val_loss: 0.5189 - val_accuracy: 0.7641\n",
            "48/48 [==============================] - 0s 4ms/step\n",
            "Fold F1 Score: 0.6902502157031924\n",
            "Mean GRU F1 Score: 0.7138849381072826\n"
          ]
        }
      ]
    },
    {
      "cell_type": "code",
      "source": [
        "#compare the best model\n",
        "print(f\"SVM F1 Score: {svm_f1_score}\")\n",
        "print(f\"LSTM F1 Score: {lstm_f1_score}\")\n",
        "print(f\"GRU F1 Score: {gru_f1_score}\")\n",
        "\n",
        "best_model = max(('SVM', svm_f1_score), ('LSTM', lstm_f1_score), ('GRU', gru_f1_score), key=lambda x: x[1])\n",
        "print(f\"Best Model: {best_model[0]} with F1 Score: {best_model[1]}\")"
      ],
      "metadata": {
        "id": "DC_-PEFL9QhS",
        "outputId": "c7c2cc32-aa5d-47b4-a0ed-e52929494abb",
        "colab": {
          "base_uri": "https://localhost:8080/",
          "height": 0
        }
      },
      "execution_count": 17,
      "outputs": [
        {
          "output_type": "stream",
          "name": "stdout",
          "text": [
            "SVM F1 Score: 0.7486201545728027\n",
            "LSTM F1 Score: 0.7389983467158568\n",
            "GRU F1 Score: 0.7138849381072826\n",
            "Best Model: SVM with F1 Score: 0.7486201545728027\n"
          ]
        }
      ]
    },
    {
      "cell_type": "code",
      "source": [
        "from sklearn.metrics import accuracy_score, precision_score, recall_score, f1_score\n",
        "import numpy as np\n",
        "import pandas as pd\n",
        "import matplotlib.pyplot as plt\n",
        "\n",
        "def cross_validate_svm(model, X, y, cv=5):\n",
        "    kf = KFold(n_splits=cv, shuffle=True, random_state=42)\n",
        "    scores = {'accuracy': [], 'precision': [], 'recall': [], 'f1': []}\n",
        "\n",
        "    for train_index, val_index in kf.split(X):\n",
        "        X_train, X_val = X[train_index], X[val_index]\n",
        "        y_train, y_val = y[train_index], y[val_index]\n",
        "\n",
        "        model.fit(X_train, y_train)\n",
        "        y_pred = model.predict(X_val)\n",
        "\n",
        "        scores['accuracy'].append(accuracy_score(y_val, y_pred))\n",
        "        scores['precision'].append(precision_score(y_val, y_pred))\n",
        "        scores['recall'].append(recall_score(y_val, y_pred))\n",
        "        scores['f1'].append(f1_score(y_val, y_pred))\n",
        "\n",
        "    return {k: np.mean(v) for k, v in scores.items()}\n",
        "\n",
        "def cross_validate_nn_model(create_model_func, X, y, cv=5):\n",
        "    kf = KFold(n_splits=cv, shuffle=True, random_state=42)\n",
        "    scores = {'accuracy': [], 'precision': [], 'recall': [], 'f1': []}\n",
        "\n",
        "    for train_index, val_index in kf.split(X):\n",
        "        X_train, X_val = X[train_index], X[val_index]\n",
        "        y_train, y_val = y[train_index], y[val_index]\n",
        "\n",
        "        input_shape = (X_train.shape[1], X_train.shape[2])\n",
        "        model = create_model_func(input_shape)\n",
        "\n",
        "        model.fit(X_train, y_train, validation_data=(X_val, y_val), epochs=3, batch_size=8, verbose=0)\n",
        "\n",
        "        y_pred = (model.predict(X_val) > 0.5).astype(\"int32\")\n",
        "\n",
        "        scores['accuracy'].append(accuracy_score(y_val, y_pred))\n",
        "        scores['precision'].append(precision_score(y_val, y_pred))\n",
        "        scores['recall'].append(recall_score(y_val, y_pred))\n",
        "        scores['f1'].append(f1_score(y_val, y_pred))\n",
        "\n",
        "    return {k: np.mean(v) for k, v in scores.items()}\n",
        "\n",
        "svm_scores = cross_validate_svm(svm_model, train_features_pooled, target)\n",
        "lstm_scores = cross_validate_nn_model(create_lstm_model, train_features, target)\n",
        "gru_scores = cross_validate_nn_model(create_gru_model, train_features, target)\n",
        "\n",
        "results = pd.DataFrame({\n",
        "    'SVM': svm_scores,\n",
        "    'LSTM': lstm_scores,\n",
        "    'GRU': gru_scores\n",
        "})\n",
        "\n",
        "print(results.to_string(float_format='{:.3f}'.format))\n",
        "\n",
        "ax = results.plot(kind='bar', figsize=(12, 6), width=0.8)\n",
        "plt.title('Model Performance Comparison')\n",
        "plt.xlabel('Metrics')\n",
        "plt.ylabel('Score')\n",
        "plt.legend(title='Model')\n",
        "plt.xticks(rotation=0)\n",
        "\n",
        "for container in ax.containers:\n",
        "    ax.bar_label(container, fmt='%.3f', padding=3)\n",
        "\n",
        "plt.tight_layout()\n",
        "plt.show()"
      ],
      "metadata": {
        "colab": {
          "base_uri": "https://localhost:8080/",
          "height": 867
        },
        "id": "134IhYWMfnsC",
        "outputId": "d049fbd7-ffa0-435c-927f-138ab2f4d0a9"
      },
      "execution_count": 18,
      "outputs": [
        {
          "output_type": "stream",
          "name": "stdout",
          "text": [
            "48/48 [==============================] - 1s 4ms/step\n",
            "48/48 [==============================] - 1s 4ms/step\n",
            "48/48 [==============================] - 1s 5ms/step\n",
            "48/48 [==============================] - 1s 4ms/step\n",
            "48/48 [==============================] - 1s 4ms/step\n",
            "48/48 [==============================] - 0s 4ms/step\n",
            "48/48 [==============================] - 1s 4ms/step\n",
            "48/48 [==============================] - 0s 4ms/step\n",
            "48/48 [==============================] - 0s 4ms/step\n",
            "48/48 [==============================] - 0s 4ms/step\n",
            "            SVM  LSTM   GRU\n",
            "accuracy  0.821 0.789 0.781\n",
            "precision 0.857 0.815 0.795\n",
            "recall    0.700 0.658 0.660\n",
            "f1        0.771 0.727 0.721\n"
          ]
        },
        {
          "output_type": "display_data",
          "data": {
            "text/plain": [
              "<Figure size 1200x600 with 1 Axes>"
            ],
            "image/png": "[encoded data removed]"
          },
          "metadata": {}
        }
      ]
    },
    {
      "cell_type": "markdown",
      "source": [
        "# 3. Enhancing Model Robustness\n",
        "\n"
      ],
      "metadata": {
        "id": "y55gfP4o-Uq7"
      }
    },
    {
      "cell_type": "code",
      "source": [
        "from sklearn.ensemble import BaggingClassifier, RandomForestClassifier, GradientBoostingClassifier, StackingClassifier\n",
        "from sklearn.model_selection import cross_val_score, KFold\n",
        "from sklearn.svm import SVC\n",
        "from sklearn.linear_model import LogisticRegression\n",
        "import numpy as np"
      ],
      "metadata": {
        "id": "_lYt-Y6H-Xlj"
      },
      "execution_count": 19,
      "outputs": []
    },
    {
      "cell_type": "code",
      "source": [
        "svm_clf = SVC(probability=True)\n",
        "rf_clf = RandomForestClassifier(n_estimators=100, random_state=42)\n",
        "gbm_clf = GradientBoostingClassifier(n_estimators=100, learning_rate=0.1, max_depth=3, random_state=42)"
      ],
      "metadata": {
        "id": "4Z82PsMV-gc8"
      },
      "execution_count": 20,
      "outputs": []
    },
    {
      "cell_type": "code",
      "source": [
        "# Bagging\n",
        "bagging_clf = BaggingClassifier(estimator=svm_clf, n_estimators=5, random_state=42)\n",
        "kf = KFold(n_splits=5, shuffle=True, random_state=42)\n",
        "bagging_scores = cross_val_score(bagging_clf, train_features_pooled, target, cv=kf, scoring='f1')\n",
        "print(f\"Bagging F1 Score: {np.mean(bagging_scores)}\")"
      ],
      "metadata": {
        "id": "7-eR-vH4-h8S",
        "outputId": "1abc9af6-db30-4cb7-e3c1-6c14a80b5048",
        "colab": {
          "base_uri": "https://localhost:8080/",
          "height": 0
        }
      },
      "execution_count": 21,
      "outputs": [
        {
          "output_type": "stream",
          "name": "stdout",
          "text": [
            "Bagging F1 Score: 0.7764360346360005\n"
          ]
        }
      ]
    },
    {
      "cell_type": "code",
      "source": [
        "# Boosting\n",
        "boosting_clf = GradientBoostingClassifier(n_estimators=100, learning_rate=0.1, max_depth=3, random_state=42)\n",
        "boosting_scores = cross_val_score(boosting_clf, train_features_pooled, target, cv=kf, scoring='f1')\n",
        "print(f\"Boosting F1 Score: {np.mean(boosting_scores)}\")"
      ],
      "metadata": {
        "id": "wlS0990x-iuY",
        "outputId": "4885ddce-3615-4cb3-fa8f-69dd14903ef2",
        "colab": {
          "base_uri": "https://localhost:8080/",
          "height": 0
        }
      },
      "execution_count": 22,
      "outputs": [
        {
          "output_type": "stream",
          "name": "stdout",
          "text": [
            "Boosting F1 Score: 0.7458799110516442\n"
          ]
        }
      ]
    },
    {
      "cell_type": "code",
      "source": [
        "# compare the model robustness\n",
        "print(f\"Bagging F1 Score: {np.mean(bagging_scores)}\")\n",
        "print(f\"Boosting F1 Score: {np.mean(boosting_scores)}\")\n",
        "\n",
        "best_ensemble_model = max(('Bagging', np.mean(bagging_scores)), ('Boosting', np.mean(boosting_scores)), key=lambda x: x[1])\n",
        "print(f\"Best Ensemble Model: {best_ensemble_model[0]} with F1 Score: {best_ensemble_model[1]}\")"
      ],
      "metadata": {
        "id": "UkH6ClwD-mnx",
        "outputId": "4508cc58-b2a1-4512-81af-4733c40d0aa1",
        "colab": {
          "base_uri": "https://localhost:8080/",
          "height": 0
        }
      },
      "execution_count": 23,
      "outputs": [
        {
          "output_type": "stream",
          "name": "stdout",
          "text": [
            "Bagging F1 Score: 0.7764360346360005\n",
            "Boosting F1 Score: 0.7458799110516442\n",
            "Best Ensemble Model: Bagging with F1 Score: 0.7764360346360005\n"
          ]
        }
      ]
    },
    {
      "cell_type": "code",
      "source": [
        "# save the best combo BERT + SVM + bagging\n",
        "import joblib\n",
        "from sklearn.ensemble import BaggingClassifier\n",
        "from sklearn.svm import SVC\n",
        "\n",
        "svm_clf = SVC(probability=True)\n",
        "bagging_clf = BaggingClassifier(estimator=svm_clf, n_estimators=5, random_state=42)\n",
        "\n",
        "bagging_clf.fit(train_features_pooled, target)\n",
        "\n",
        "joblib.dump(bagging_clf, 'best_model.pkl')\n",
        "print(\"Model saved as best_model.pkl\")"
      ],
      "metadata": {
        "id": "wImOjGMAN0lG",
        "outputId": "fb336cf4-c9b9-4b98-b4df-0d632dad44b8",
        "colab": {
          "base_uri": "https://localhost:8080/",
          "height": 0
        }
      },
      "execution_count": 24,
      "outputs": [
        {
          "output_type": "stream",
          "name": "stdout",
          "text": [
            "Model saved as best_model.pkl\n"
          ]
        }
      ]
    },
    {
      "cell_type": "markdown",
      "source": [
        "# 4. for testing data"
      ],
      "metadata": {
        "id": "XHRzD9CRMSLN"
      }
    },
    {
      "cell_type": "code",
      "source": [
        "#BERT preprocessing\n",
        "\n",
        "tokenizer = BertTokenizer.from_pretrained('bert-base-uncased')\n",
        "\n",
        "def bert_encode(data, maximum_length):\n",
        "    input_ids = []\n",
        "    attention_masks = []\n",
        "\n",
        "    for text in data:\n",
        "        encoded = tokenizer.encode_plus(\n",
        "            text,\n",
        "            add_special_tokens=True,\n",
        "            max_length=maximum_length,\n",
        "            truncation=True,\n",
        "            padding='max_length',\n",
        "            return_attention_mask=True,\n",
        "        )\n",
        "        input_ids.append(encoded['input_ids'])\n",
        "        attention_masks.append(encoded['attention_mask'])\n",
        "\n",
        "    return np.array(input_ids), np.array(attention_masks)\n",
        "\n",
        "test_texts = test_df['cleaned_text']\n",
        "test_input_ids, test_attention_masks = bert_encode(test_texts, 60)\n",
        "\n",
        "bert_model = TFBertModel.from_pretrained('bert-base-uncased')\n",
        "\n",
        "def extract_bert_features(input_ids, attention_masks, bert_model):\n",
        "    inputs = {\n",
        "        'input_ids': input_ids,\n",
        "        'attention_mask': attention_masks\n",
        "    }\n",
        "    outputs = bert_model(inputs)\n",
        "    return outputs.last_hidden_state\n",
        "\n",
        "def extract_bert_features_in_batches(input_ids, attention_masks, bert_model, batch_size=8):\n",
        "    features = []\n",
        "    for i in range(0, len(input_ids), batch_size):\n",
        "        batch_input_ids = input_ids[i:i+batch_size]\n",
        "        batch_attention_masks = attention_masks[i:i+batch_size]\n",
        "        batch_features = extract_bert_features(batch_input_ids, batch_attention_masks, bert_model)\n",
        "        features.append(batch_features)\n",
        "    return np.vstack(features)\n",
        "\n",
        "test_features = extract_bert_features_in_batches(test_input_ids, test_attention_masks, bert_model, batch_size=8)\n",
        "\n",
        "del test_input_ids, test_attention_masks\n",
        "gc.collect()\n",
        "\n",
        "def mean_pooling(features):\n",
        "    return np.mean(features, axis=1)\n",
        "\n",
        "test_features_pooled = mean_pooling(test_features)"
      ],
      "metadata": {
        "id": "DwhV_ffuLKXH",
        "outputId": "5dfbdfa9-b585-4da4-f9d5-2a9347e8a7a4",
        "colab": {
          "base_uri": "https://localhost:8080/",
          "height": 0
        }
      },
      "execution_count": 25,
      "outputs": [
        {
          "output_type": "stream",
          "name": "stderr",
          "text": [
            "Some weights of the PyTorch model were not used when initializing the TF 2.0 model TFBertModel: ['cls.seq_relationship.weight', 'cls.seq_relationship.bias', 'cls.predictions.transform.LayerNorm.bias', 'cls.predictions.bias', 'cls.predictions.transform.LayerNorm.weight', 'cls.predictions.transform.dense.bias', 'cls.predictions.transform.dense.weight']\n",
            "- This IS expected if you are initializing TFBertModel from a PyTorch model trained on another task or with another architecture (e.g. initializing a TFBertForSequenceClassification model from a BertForPreTraining model).\n",
            "- This IS NOT expected if you are initializing TFBertModel from a PyTorch model that you expect to be exactly identical (e.g. initializing a TFBertForSequenceClassification model from a BertForSequenceClassification model).\n",
            "All the weights of TFBertModel were initialized from the PyTorch model.\n",
            "If your task is similar to the task the model of the checkpoint was trained on, you can already use TFBertModel for predictions without further training.\n"
          ]
        }
      ]
    },
    {
      "cell_type": "code",
      "source": [
        "#using the best model combo SVM+bagging\n",
        "best_model = joblib.load('best_model.pkl')\n",
        "\n",
        "test_predictions = best_model.predict(test_features_pooled)"
      ],
      "metadata": {
        "id": "EnXLFGKPNQKa"
      },
      "execution_count": 26,
      "outputs": []
    },
    {
      "cell_type": "code",
      "source": [
        "import matplotlib.pyplot as plt\n",
        "import seaborn as sns\n",
        "\n",
        "\n",
        "prediction_counts = pd.Series(test_predictions).value_counts().sort_index()\n",
        "plt.figure(figsize=(10, 6))\n",
        "sns.barplot(x=prediction_counts.index, y=prediction_counts.values)\n",
        "plt.title('Distribution of Predictions')\n",
        "plt.xlabel('Prediction')\n",
        "plt.ylabel('Count')\n",
        "plt.xticks([0, 1], ['0', '1'])\n",
        "for bar in bars:\n",
        "  yval = bar.get_height()\n",
        "  plt.text(bar.get_x() + bar.get_width()/2, yval, int(yval), ha='center', va='bottom')\n",
        "plt.show()"
      ],
      "metadata": {
        "colab": {
          "base_uri": "https://localhost:8080/",
          "height": 564
        },
        "id": "qeIsIV8a4lUX",
        "outputId": "f1966b3a-3750-414c-96dc-a9c4a9ca7b2e"
      },
      "execution_count": 31,
      "outputs": [
        {
          "output_type": "display_data",
          "data": {
            "text/plain": [
              "<Figure size 1000x600 with 1 Axes>"
            ],
            "image/png": "[encoded data removed]"
          },
          "metadata": {}
        }
      ]
    }
  ]
}