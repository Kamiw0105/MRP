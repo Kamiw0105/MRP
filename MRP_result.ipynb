{
  "nbformat": 4,
  "nbformat_minor": 0,
  "metadata": {
    "colab": {
      "provenance": [],
      "gpuType": "T4",
      "machine_shape": "hm"
    },
    "kernelspec": {
      "name": "python3",
      "display_name": "Python 3"
    },
    "language_info": {
      "name": "python"
    },
    "accelerator": "GPU",
    "widgets": {
      "application/vnd.jupyter.widget-state+json": {
        "9faeb9eb32c7434c91532b695ff09e46": {
          "model_module": "@jupyter-widgets/controls",
          "model_name": "HBoxModel",
          "model_module_version": "1.5.0",
          "state": {
            "_dom_classes": [],
            "_model_module": "@jupyter-widgets/controls",
            "_model_module_version": "1.5.0",
            "_model_name": "HBoxModel",
            "_view_count": null,
            "_view_module": "@jupyter-widgets/controls",
            "_view_module_version": "1.5.0",
            "_view_name": "HBoxView",
            "box_style": "",
            "children": [
              "IPY_MODEL_0ca38feef4dd45ee99810d72ab40fb1e",
              "IPY_MODEL_44c26921a962448cb9d813b4eca45d5f",
              "IPY_MODEL_531f9d5f48b24e2eb2b70004ba7fb1b5"
            ],
            "layout": "IPY_MODEL_bb6e5d08bcc94220a2f24127241946b6"
          }
        },
        "0ca38feef4dd45ee99810d72ab40fb1e": {
          "model_module": "@jupyter-widgets/controls",
          "model_name": "HTMLModel",
          "model_module_version": "1.5.0",
          "state": {
            "_dom_classes": [],
            "_model_module": "@jupyter-widgets/controls",
            "_model_module_version": "1.5.0",
            "_model_name": "HTMLModel",
            "_view_count": null,
            "_view_module": "@jupyter-widgets/controls",
            "_view_module_version": "1.5.0",
            "_view_name": "HTMLView",
            "description": "",
            "description_tooltip": null,
            "layout": "IPY_MODEL_488acd36f1a4458a81769b69745623d0",
            "placeholder": "​",
            "style": "IPY_MODEL_fcb81d27e63d4e4f9ddf7670fa67f1b4",
            "value": "tokenizer_config.json: 100%"
          }
        },
        "44c26921a962448cb9d813b4eca45d5f": {
          "model_module": "@jupyter-widgets/controls",
          "model_name": "FloatProgressModel",
          "model_module_version": "1.5.0",
          "state": {
            "_dom_classes": [],
            "_model_module": "@jupyter-widgets/controls",
            "_model_module_version": "1.5.0",
            "_model_name": "FloatProgressModel",
            "_view_count": null,
            "_view_module": "@jupyter-widgets/controls",
            "_view_module_version": "1.5.0",
            "_view_name": "ProgressView",
            "bar_style": "success",
            "description": "",
            "description_tooltip": null,
            "layout": "IPY_MODEL_94b0c413d2b84bc68309ea9d83f4df2e",
            "max": 48,
            "min": 0,
            "orientation": "horizontal",
            "style": "IPY_MODEL_65832a84c9f34974aa27eb765d7721b2",
            "value": 48
          }
        },
        "531f9d5f48b24e2eb2b70004ba7fb1b5": {
          "model_module": "@jupyter-widgets/controls",
          "model_name": "HTMLModel",
          "model_module_version": "1.5.0",
          "state": {
            "_dom_classes": [],
            "_model_module": "@jupyter-widgets/controls",
            "_model_module_version": "1.5.0",
            "_model_name": "HTMLModel",
            "_view_count": null,
            "_view_module": "@jupyter-widgets/controls",
            "_view_module_version": "1.5.0",
            "_view_name": "HTMLView",
            "description": "",
            "description_tooltip": null,
            "layout": "IPY_MODEL_badb5eeecc6b4218a71e9f985233f0d4",
            "placeholder": "​",
            "style": "IPY_MODEL_91858a7f826a4066a249030eba2fb1e6",
            "value": " 48.0/48.0 [00:00&lt;00:00, 3.36kB/s]"
          }
        },
        "bb6e5d08bcc94220a2f24127241946b6": {
          "model_module": "@jupyter-widgets/base",
          "model_name": "LayoutModel",
          "model_module_version": "1.2.0",
          "state": {
            "_model_module": "@jupyter-widgets/base",
            "_model_module_version": "1.2.0",
            "_model_name": "LayoutModel",
            "_view_count": null,
            "_view_module": "@jupyter-widgets/base",
            "_view_module_version": "1.2.0",
            "_view_name": "LayoutView",
            "align_content": null,
            "align_items": null,
            "align_self": null,
            "border": null,
            "bottom": null,
            "display": null,
            "flex": null,
            "flex_flow": null,
            "grid_area": null,
            "grid_auto_columns": null,
            "grid_auto_flow": null,
            "grid_auto_rows": null,
            "grid_column": null,
            "grid_gap": null,
            "grid_row": null,
            "grid_template_areas": null,
            "grid_template_columns": null,
            "grid_template_rows": null,
            "height": null,
            "justify_content": null,
            "justify_items": null,
            "left": null,
            "margin": null,
            "max_height": null,
            "max_width": null,
            "min_height": null,
            "min_width": null,
            "object_fit": null,
            "object_position": null,
            "order": null,
            "overflow": null,
            "overflow_x": null,
            "overflow_y": null,
            "padding": null,
            "right": null,
            "top": null,
            "visibility": null,
            "width": null
          }
        },
        "488acd36f1a4458a81769b69745623d0": {
          "model_module": "@jupyter-widgets/base",
          "model_name": "LayoutModel",
          "model_module_version": "1.2.0",
          "state": {
            "_model_module": "@jupyter-widgets/base",
            "_model_module_version": "1.2.0",
            "_model_name": "LayoutModel",
            "_view_count": null,
            "_view_module": "@jupyter-widgets/base",
            "_view_module_version": "1.2.0",
            "_view_name": "LayoutView",
            "align_content": null,
            "align_items": null,
            "align_self": null,
            "border": null,
            "bottom": null,
            "display": null,
            "flex": null,
            "flex_flow": null,
            "grid_area": null,
            "grid_auto_columns": null,
            "grid_auto_flow": null,
            "grid_auto_rows": null,
            "grid_column": null,
            "grid_gap": null,
            "grid_row": null,
            "grid_template_areas": null,
            "grid_template_columns": null,
            "grid_template_rows": null,
            "height": null,
            "justify_content": null,
            "justify_items": null,
            "left": null,
            "margin": null,
            "max_height": null,
            "max_width": null,
            "min_height": null,
            "min_width": null,
            "object_fit": null,
            "object_position": null,
            "order": null,
            "overflow": null,
            "overflow_x": null,
            "overflow_y": null,
            "padding": null,
            "right": null,
            "top": null,
            "visibility": null,
            "width": null
          }
        },
        "fcb81d27e63d4e4f9ddf7670fa67f1b4": {
          "model_module": "@jupyter-widgets/controls",
          "model_name": "DescriptionStyleModel",
          "model_module_version": "1.5.0",
          "state": {
            "_model_module": "@jupyter-widgets/controls",
            "_model_module_version": "1.5.0",
            "_model_name": "DescriptionStyleModel",
            "_view_count": null,
            "_view_module": "@jupyter-widgets/base",
            "_view_module_version": "1.2.0",
            "_view_name": "StyleView",
            "description_width": ""
          }
        },
        "94b0c413d2b84bc68309ea9d83f4df2e": {
          "model_module": "@jupyter-widgets/base",
          "model_name": "LayoutModel",
          "model_module_version": "1.2.0",
          "state": {
            "_model_module": "@jupyter-widgets/base",
            "_model_module_version": "1.2.0",
            "_model_name": "LayoutModel",
            "_view_count": null,
            "_view_module": "@jupyter-widgets/base",
            "_view_module_version": "1.2.0",
            "_view_name": "LayoutView",
            "align_content": null,
            "align_items": null,
            "align_self": null,
            "border": null,
            "bottom": null,
            "display": null,
            "flex": null,
            "flex_flow": null,
            "grid_area": null,
            "grid_auto_columns": null,
            "grid_auto_flow": null,
            "grid_auto_rows": null,
            "grid_column": null,
            "grid_gap": null,
            "grid_row": null,
            "grid_template_areas": null,
            "grid_template_columns": null,
            "grid_template_rows": null,
            "height": null,
            "justify_content": null,
            "justify_items": null,
            "left": null,
            "margin": null,
            "max_height": null,
            "max_width": null,
            "min_height": null,
            "min_width": null,
            "object_fit": null,
            "object_position": null,
            "order": null,
            "overflow": null,
            "overflow_x": null,
            "overflow_y": null,
            "padding": null,
            "right": null,
            "top": null,
            "visibility": null,
            "width": null
          }
        },
        "65832a84c9f34974aa27eb765d7721b2": {
          "model_module": "@jupyter-widgets/controls",
          "model_name": "ProgressStyleModel",
          "model_module_version": "1.5.0",
          "state": {
            "_model_module": "@jupyter-widgets/controls",
            "_model_module_version": "1.5.0",
            "_model_name": "ProgressStyleModel",
            "_view_count": null,
            "_view_module": "@jupyter-widgets/base",
            "_view_module_version": "1.2.0",
            "_view_name": "StyleView",
            "bar_color": null,
            "description_width": ""
          }
        },
        "badb5eeecc6b4218a71e9f985233f0d4": {
          "model_module": "@jupyter-widgets/base",
          "model_name": "LayoutModel",
          "model_module_version": "1.2.0",
          "state": {
            "_model_module": "@jupyter-widgets/base",
            "_model_module_version": "1.2.0",
            "_model_name": "LayoutModel",
            "_view_count": null,
            "_view_module": "@jupyter-widgets/base",
            "_view_module_version": "1.2.0",
            "_view_name": "LayoutView",
            "align_content": null,
            "align_items": null,
            "align_self": null,
            "border": null,
            "bottom": null,
            "display": null,
            "flex": null,
            "flex_flow": null,
            "grid_area": null,
            "grid_auto_columns": null,
            "grid_auto_flow": null,
            "grid_auto_rows": null,
            "grid_column": null,
            "grid_gap": null,
            "grid_row": null,
            "grid_template_areas": null,
            "grid_template_columns": null,
            "grid_template_rows": null,
            "height": null,
            "justify_content": null,
            "justify_items": null,
            "left": null,
            "margin": null,
            "max_height": null,
            "max_width": null,
            "min_height": null,
            "min_width": null,
            "object_fit": null,
            "object_position": null,
            "order": null,
            "overflow": null,
            "overflow_x": null,
            "overflow_y": null,
            "padding": null,
            "right": null,
            "top": null,
            "visibility": null,
            "width": null
          }
        },
        "91858a7f826a4066a249030eba2fb1e6": {
          "model_module": "@jupyter-widgets/controls",
          "model_name": "DescriptionStyleModel",
          "model_module_version": "1.5.0",
          "state": {
            "_model_module": "@jupyter-widgets/controls",
            "_model_module_version": "1.5.0",
            "_model_name": "DescriptionStyleModel",
            "_view_count": null,
            "_view_module": "@jupyter-widgets/base",
            "_view_module_version": "1.2.0",
            "_view_name": "StyleView",
            "description_width": ""
          }
        },
        "1514761e7c88433dbb996e6587c95023": {
          "model_module": "@jupyter-widgets/controls",
          "model_name": "HBoxModel",
          "model_module_version": "1.5.0",
          "state": {
            "_dom_classes": [],
            "_model_module": "@jupyter-widgets/controls",
            "_model_module_version": "1.5.0",
            "_model_name": "HBoxModel",
            "_view_count": null,
            "_view_module": "@jupyter-widgets/controls",
            "_view_module_version": "1.5.0",
            "_view_name": "HBoxView",
            "box_style": "",
            "children": [
              "IPY_MODEL_87e71e8c6d614d2e8e9cd278f7cd288b",
              "IPY_MODEL_3339f55ad23e46b9998792f9da88e16e",
              "IPY_MODEL_ef6f7a9f3f3d45a38d5ab3ba94ec1495"
            ],
            "layout": "IPY_MODEL_49d827e9118b4552b8068183bef46fd1"
          }
        },
        "87e71e8c6d614d2e8e9cd278f7cd288b": {
          "model_module": "@jupyter-widgets/controls",
          "model_name": "HTMLModel",
          "model_module_version": "1.5.0",
          "state": {
            "_dom_classes": [],
            "_model_module": "@jupyter-widgets/controls",
            "_model_module_version": "1.5.0",
            "_model_name": "HTMLModel",
            "_view_count": null,
            "_view_module": "@jupyter-widgets/controls",
            "_view_module_version": "1.5.0",
            "_view_name": "HTMLView",
            "description": "",
            "description_tooltip": null,
            "layout": "IPY_MODEL_a8c67436d39d4cf2aaf7c95626eef8a3",
            "placeholder": "​",
            "style": "IPY_MODEL_23acea3ba41a43f783ae01c44aa170f7",
            "value": "vocab.txt: 100%"
          }
        },
        "3339f55ad23e46b9998792f9da88e16e": {
          "model_module": "@jupyter-widgets/controls",
          "model_name": "FloatProgressModel",
          "model_module_version": "1.5.0",
          "state": {
            "_dom_classes": [],
            "_model_module": "@jupyter-widgets/controls",
            "_model_module_version": "1.5.0",
            "_model_name": "FloatProgressModel",
            "_view_count": null,
            "_view_module": "@jupyter-widgets/controls",
            "_view_module_version": "1.5.0",
            "_view_name": "ProgressView",
            "bar_style": "success",
            "description": "",
            "description_tooltip": null,
            "layout": "IPY_MODEL_40b7e22cac8f4887bad5c1ebcb48ed5f",
            "max": 231508,
            "min": 0,
            "orientation": "horizontal",
            "style": "IPY_MODEL_e052b994e2fe44688b9ca3344c3fe053",
            "value": 231508
          }
        },
        "ef6f7a9f3f3d45a38d5ab3ba94ec1495": {
          "model_module": "@jupyter-widgets/controls",
          "model_name": "HTMLModel",
          "model_module_version": "1.5.0",
          "state": {
            "_dom_classes": [],
            "_model_module": "@jupyter-widgets/controls",
            "_model_module_version": "1.5.0",
            "_model_name": "HTMLModel",
            "_view_count": null,
            "_view_module": "@jupyter-widgets/controls",
            "_view_module_version": "1.5.0",
            "_view_name": "HTMLView",
            "description": "",
            "description_tooltip": null,
            "layout": "IPY_MODEL_9af4498235c54eba88b4c1ce98248801",
            "placeholder": "​",
            "style": "IPY_MODEL_63b26d0c8f304c85b2656632c4afbd77",
            "value": " 232k/232k [00:00&lt;00:00, 4.10MB/s]"
          }
        },
        "49d827e9118b4552b8068183bef46fd1": {
          "model_module": "@jupyter-widgets/base",
          "model_name": "LayoutModel",
          "model_module_version": "1.2.0",
          "state": {
            "_model_module": "@jupyter-widgets/base",
            "_model_module_version": "1.2.0",
            "_model_name": "LayoutModel",
            "_view_count": null,
            "_view_module": "@jupyter-widgets/base",
            "_view_module_version": "1.2.0",
            "_view_name": "LayoutView",
            "align_content": null,
            "align_items": null,
            "align_self": null,
            "border": null,
            "bottom": null,
            "display": null,
            "flex": null,
            "flex_flow": null,
            "grid_area": null,
            "grid_auto_columns": null,
            "grid_auto_flow": null,
            "grid_auto_rows": null,
            "grid_column": null,
            "grid_gap": null,
            "grid_row": null,
            "grid_template_areas": null,
            "grid_template_columns": null,
            "grid_template_rows": null,
            "height": null,
            "justify_content": null,
            "justify_items": null,
            "left": null,
            "margin": null,
            "max_height": null,
            "max_width": null,
            "min_height": null,
            "min_width": null,
            "object_fit": null,
            "object_position": null,
            "order": null,
            "overflow": null,
            "overflow_x": null,
            "overflow_y": null,
            "padding": null,
            "right": null,
            "top": null,
            "visibility": null,
            "width": null
          }
        },
        "a8c67436d39d4cf2aaf7c95626eef8a3": {
          "model_module": "@jupyter-widgets/base",
          "model_name": "LayoutModel",
          "model_module_version": "1.2.0",
          "state": {
            "_model_module": "@jupyter-widgets/base",
            "_model_module_version": "1.2.0",
            "_model_name": "LayoutModel",
            "_view_count": null,
            "_view_module": "@jupyter-widgets/base",
            "_view_module_version": "1.2.0",
            "_view_name": "LayoutView",
            "align_content": null,
            "align_items": null,
            "align_self": null,
            "border": null,
            "bottom": null,
            "display": null,
            "flex": null,
            "flex_flow": null,
            "grid_area": null,
            "grid_auto_columns": null,
            "grid_auto_flow": null,
            "grid_auto_rows": null,
            "grid_column": null,
            "grid_gap": null,
            "grid_row": null,
            "grid_template_areas": null,
            "grid_template_columns": null,
            "grid_template_rows": null,
            "height": null,
            "justify_content": null,
            "justify_items": null,
            "left": null,
            "margin": null,
            "max_height": null,
            "max_width": null,
            "min_height": null,
            "min_width": null,
            "object_fit": null,
            "object_position": null,
            "order": null,
            "overflow": null,
            "overflow_x": null,
            "overflow_y": null,
            "padding": null,
            "right": null,
            "top": null,
            "visibility": null,
            "width": null
          }
        },
        "23acea3ba41a43f783ae01c44aa170f7": {
          "model_module": "@jupyter-widgets/controls",
          "model_name": "DescriptionStyleModel",
          "model_module_version": "1.5.0",
          "state": {
            "_model_module": "@jupyter-widgets/controls",
            "_model_module_version": "1.5.0",
            "_model_name": "DescriptionStyleModel",
            "_view_count": null,
            "_view_module": "@jupyter-widgets/base",
            "_view_module_version": "1.2.0",
            "_view_name": "StyleView",
            "description_width": ""
          }
        },
        "40b7e22cac8f4887bad5c1ebcb48ed5f": {
          "model_module": "@jupyter-widgets/base",
          "model_name": "LayoutModel",
          "model_module_version": "1.2.0",
          "state": {
            "_model_module": "@jupyter-widgets/base",
            "_model_module_version": "1.2.0",
            "_model_name": "LayoutModel",
            "_view_count": null,
            "_view_module": "@jupyter-widgets/base",
            "_view_module_version": "1.2.0",
            "_view_name": "LayoutView",
            "align_content": null,
            "align_items": null,
            "align_self": null,
            "border": null,
            "bottom": null,
            "display": null,
            "flex": null,
            "flex_flow": null,
            "grid_area": null,
            "grid_auto_columns": null,
            "grid_auto_flow": null,
            "grid_auto_rows": null,
            "grid_column": null,
            "grid_gap": null,
            "grid_row": null,
            "grid_template_areas": null,
            "grid_template_columns": null,
            "grid_template_rows": null,
            "height": null,
            "justify_content": null,
            "justify_items": null,
            "left": null,
            "margin": null,
            "max_height": null,
            "max_width": null,
            "min_height": null,
            "min_width": null,
            "object_fit": null,
            "object_position": null,
            "order": null,
            "overflow": null,
            "overflow_x": null,
            "overflow_y": null,
            "padding": null,
            "right": null,
            "top": null,
            "visibility": null,
            "width": null
          }
        },
        "e052b994e2fe44688b9ca3344c3fe053": {
          "model_module": "@jupyter-widgets/controls",
          "model_name": "ProgressStyleModel",
          "model_module_version": "1.5.0",
          "state": {
            "_model_module": "@jupyter-widgets/controls",
            "_model_module_version": "1.5.0",
            "_model_name": "ProgressStyleModel",
            "_view_count": null,
            "_view_module": "@jupyter-widgets/base",
            "_view_module_version": "1.2.0",
            "_view_name": "StyleView",
            "bar_color": null,
            "description_width": ""
          }
        },
        "9af4498235c54eba88b4c1ce98248801": {
          "model_module": "@jupyter-widgets/base",
          "model_name": "LayoutModel",
          "model_module_version": "1.2.0",
          "state": {
            "_model_module": "@jupyter-widgets/base",
            "_model_module_version": "1.2.0",
            "_model_name": "LayoutModel",
            "_view_count": null,
            "_view_module": "@jupyter-widgets/base",
            "_view_module_version": "1.2.0",
            "_view_name": "LayoutView",
            "align_content": null,
            "align_items": null,
            "align_self": null,
            "border": null,
            "bottom": null,
            "display": null,
            "flex": null,
            "flex_flow": null,
            "grid_area": null,
            "grid_auto_columns": null,
            "grid_auto_flow": null,
            "grid_auto_rows": null,
            "grid_column": null,
            "grid_gap": null,
            "grid_row": null,
            "grid_template_areas": null,
            "grid_template_columns": null,
            "grid_template_rows": null,
            "height": null,
            "justify_content": null,
            "justify_items": null,
            "left": null,
            "margin": null,
            "max_height": null,
            "max_width": null,
            "min_height": null,
            "min_width": null,
            "object_fit": null,
            "object_position": null,
            "order": null,
            "overflow": null,
            "overflow_x": null,
            "overflow_y": null,
            "padding": null,
            "right": null,
            "top": null,
            "visibility": null,
            "width": null
          }
        },
        "63b26d0c8f304c85b2656632c4afbd77": {
          "model_module": "@jupyter-widgets/controls",
          "model_name": "DescriptionStyleModel",
          "model_module_version": "1.5.0",
          "state": {
            "_model_module": "@jupyter-widgets/controls",
            "_model_module_version": "1.5.0",
            "_model_name": "DescriptionStyleModel",
            "_view_count": null,
            "_view_module": "@jupyter-widgets/base",
            "_view_module_version": "1.2.0",
            "_view_name": "StyleView",
            "description_width": ""
          }
        },
        "7204e85992664fe2955c8352fcbf85e8": {
          "model_module": "@jupyter-widgets/controls",
          "model_name": "HBoxModel",
          "model_module_version": "1.5.0",
          "state": {
            "_dom_classes": [],
            "_model_module": "@jupyter-widgets/controls",
            "_model_module_version": "1.5.0",
            "_model_name": "HBoxModel",
            "_view_count": null,
            "_view_module": "@jupyter-widgets/controls",
            "_view_module_version": "1.5.0",
            "_view_name": "HBoxView",
            "box_style": "",
            "children": [
              "IPY_MODEL_d6d233a101aa424a98f1d8233200df31",
              "IPY_MODEL_993398ae295e45178e78e68b3ce5f0c9",
              "IPY_MODEL_76806729906d459da2957758a5294324"
            ],
            "layout": "IPY_MODEL_80aa47891d8e470abdf12a37c73de660"
          }
        },
        "d6d233a101aa424a98f1d8233200df31": {
          "model_module": "@jupyter-widgets/controls",
          "model_name": "HTMLModel",
          "model_module_version": "1.5.0",
          "state": {
            "_dom_classes": [],
            "_model_module": "@jupyter-widgets/controls",
            "_model_module_version": "1.5.0",
            "_model_name": "HTMLModel",
            "_view_count": null,
            "_view_module": "@jupyter-widgets/controls",
            "_view_module_version": "1.5.0",
            "_view_name": "HTMLView",
            "description": "",
            "description_tooltip": null,
            "layout": "IPY_MODEL_81a559834a4c4daa8df813dc3ed77a1a",
            "placeholder": "​",
            "style": "IPY_MODEL_8338cdbb41664b68b6f447ceae5232cb",
            "value": "tokenizer.json: 100%"
          }
        },
        "993398ae295e45178e78e68b3ce5f0c9": {
          "model_module": "@jupyter-widgets/controls",
          "model_name": "FloatProgressModel",
          "model_module_version": "1.5.0",
          "state": {
            "_dom_classes": [],
            "_model_module": "@jupyter-widgets/controls",
            "_model_module_version": "1.5.0",
            "_model_name": "FloatProgressModel",
            "_view_count": null,
            "_view_module": "@jupyter-widgets/controls",
            "_view_module_version": "1.5.0",
            "_view_name": "ProgressView",
            "bar_style": "success",
            "description": "",
            "description_tooltip": null,
            "layout": "IPY_MODEL_104223c5bc8945a2bf0b62e043bdc0d9",
            "max": 466062,
            "min": 0,
            "orientation": "horizontal",
            "style": "IPY_MODEL_a8f0cc83706c45269c1c299f4ad0b74b",
            "value": 466062
          }
        },
        "76806729906d459da2957758a5294324": {
          "model_module": "@jupyter-widgets/controls",
          "model_name": "HTMLModel",
          "model_module_version": "1.5.0",
          "state": {
            "_dom_classes": [],
            "_model_module": "@jupyter-widgets/controls",
            "_model_module_version": "1.5.0",
            "_model_name": "HTMLModel",
            "_view_count": null,
            "_view_module": "@jupyter-widgets/controls",
            "_view_module_version": "1.5.0",
            "_view_name": "HTMLView",
            "description": "",
            "description_tooltip": null,
            "layout": "IPY_MODEL_110558c813804de580125aa986d58e4e",
            "placeholder": "​",
            "style": "IPY_MODEL_8177f9a0b0524f7cb146acec8aa5c6d2",
            "value": " 466k/466k [00:00&lt;00:00, 23.9MB/s]"
          }
        },
        "80aa47891d8e470abdf12a37c73de660": {
          "model_module": "@jupyter-widgets/base",
          "model_name": "LayoutModel",
          "model_module_version": "1.2.0",
          "state": {
            "_model_module": "@jupyter-widgets/base",
            "_model_module_version": "1.2.0",
            "_model_name": "LayoutModel",
            "_view_count": null,
            "_view_module": "@jupyter-widgets/base",
            "_view_module_version": "1.2.0",
            "_view_name": "LayoutView",
            "align_content": null,
            "align_items": null,
            "align_self": null,
            "border": null,
            "bottom": null,
            "display": null,
            "flex": null,
            "flex_flow": null,
            "grid_area": null,
            "grid_auto_columns": null,
            "grid_auto_flow": null,
            "grid_auto_rows": null,
            "grid_column": null,
            "grid_gap": null,
            "grid_row": null,
            "grid_template_areas": null,
            "grid_template_columns": null,
            "grid_template_rows": null,
            "height": null,
            "justify_content": null,
            "justify_items": null,
            "left": null,
            "margin": null,
            "max_height": null,
            "max_width": null,
            "min_height": null,
            "min_width": null,
            "object_fit": null,
            "object_position": null,
            "order": null,
            "overflow": null,
            "overflow_x": null,
            "overflow_y": null,
            "padding": null,
            "right": null,
            "top": null,
            "visibility": null,
            "width": null
          }
        },
        "81a559834a4c4daa8df813dc3ed77a1a": {
          "model_module": "@jupyter-widgets/base",
          "model_name": "LayoutModel",
          "model_module_version": "1.2.0",
          "state": {
            "_model_module": "@jupyter-widgets/base",
            "_model_module_version": "1.2.0",
            "_model_name": "LayoutModel",
            "_view_count": null,
            "_view_module": "@jupyter-widgets/base",
            "_view_module_version": "1.2.0",
            "_view_name": "LayoutView",
            "align_content": null,
            "align_items": null,
            "align_self": null,
            "border": null,
            "bottom": null,
            "display": null,
            "flex": null,
            "flex_flow": null,
            "grid_area": null,
            "grid_auto_columns": null,
            "grid_auto_flow": null,
            "grid_auto_rows": null,
            "grid_column": null,
            "grid_gap": null,
            "grid_row": null,
            "grid_template_areas": null,
            "grid_template_columns": null,
            "grid_template_rows": null,
            "height": null,
            "justify_content": null,
            "justify_items": null,
            "left": null,
            "margin": null,
            "max_height": null,
            "max_width": null,
            "min_height": null,
            "min_width": null,
            "object_fit": null,
            "object_position": null,
            "order": null,
            "overflow": null,
            "overflow_x": null,
            "overflow_y": null,
            "padding": null,
            "right": null,
            "top": null,
            "visibility": null,
            "width": null
          }
        },
        "8338cdbb41664b68b6f447ceae5232cb": {
          "model_module": "@jupyter-widgets/controls",
          "model_name": "DescriptionStyleModel",
          "model_module_version": "1.5.0",
          "state": {
            "_model_module": "@jupyter-widgets/controls",
            "_model_module_version": "1.5.0",
            "_model_name": "DescriptionStyleModel",
            "_view_count": null,
            "_view_module": "@jupyter-widgets/base",
            "_view_module_version": "1.2.0",
            "_view_name": "StyleView",
            "description_width": ""
          }
        },
        "104223c5bc8945a2bf0b62e043bdc0d9": {
          "model_module": "@jupyter-widgets/base",
          "model_name": "LayoutModel",
          "model_module_version": "1.2.0",
          "state": {
            "_model_module": "@jupyter-widgets/base",
            "_model_module_version": "1.2.0",
            "_model_name": "LayoutModel",
            "_view_count": null,
            "_view_module": "@jupyter-widgets/base",
            "_view_module_version": "1.2.0",
            "_view_name": "LayoutView",
            "align_content": null,
            "align_items": null,
            "align_self": null,
            "border": null,
            "bottom": null,
            "display": null,
            "flex": null,
            "flex_flow": null,
            "grid_area": null,
            "grid_auto_columns": null,
            "grid_auto_flow": null,
            "grid_auto_rows": null,
            "grid_column": null,
            "grid_gap": null,
            "grid_row": null,
            "grid_template_areas": null,
            "grid_template_columns": null,
            "grid_template_rows": null,
            "height": null,
            "justify_content": null,
            "justify_items": null,
            "left": null,
            "margin": null,
            "max_height": null,
            "max_width": null,
            "min_height": null,
            "min_width": null,
            "object_fit": null,
            "object_position": null,
            "order": null,
            "overflow": null,
            "overflow_x": null,
            "overflow_y": null,
            "padding": null,
            "right": null,
            "top": null,
            "visibility": null,
            "width": null
          }
        },
        "a8f0cc83706c45269c1c299f4ad0b74b": {
          "model_module": "@jupyter-widgets/controls",
          "model_name": "ProgressStyleModel",
          "model_module_version": "1.5.0",
          "state": {
            "_model_module": "@jupyter-widgets/controls",
            "_model_module_version": "1.5.0",
            "_model_name": "ProgressStyleModel",
            "_view_count": null,
            "_view_module": "@jupyter-widgets/base",
            "_view_module_version": "1.2.0",
            "_view_name": "StyleView",
            "bar_color": null,
            "description_width": ""
          }
        },
        "110558c813804de580125aa986d58e4e": {
          "model_module": "@jupyter-widgets/base",
          "model_name": "LayoutModel",
          "model_module_version": "1.2.0",
          "state": {
            "_model_module": "@jupyter-widgets/base",
            "_model_module_version": "1.2.0",
            "_model_name": "LayoutModel",
            "_view_count": null,
            "_view_module": "@jupyter-widgets/base",
            "_view_module_version": "1.2.0",
            "_view_name": "LayoutView",
            "align_content": null,
            "align_items": null,
            "align_self": null,
            "border": null,
            "bottom": null,
            "display": null,
            "flex": null,
            "flex_flow": null,
            "grid_area": null,
            "grid_auto_columns": null,
            "grid_auto_flow": null,
            "grid_auto_rows": null,
            "grid_column": null,
            "grid_gap": null,
            "grid_row": null,
            "grid_template_areas": null,
            "grid_template_columns": null,
            "grid_template_rows": null,
            "height": null,
            "justify_content": null,
            "justify_items": null,
            "left": null,
            "margin": null,
            "max_height": null,
            "max_width": null,
            "min_height": null,
            "min_width": null,
            "object_fit": null,
            "object_position": null,
            "order": null,
            "overflow": null,
            "overflow_x": null,
            "overflow_y": null,
            "padding": null,
            "right": null,
            "top": null,
            "visibility": null,
            "width": null
          }
        },
        "8177f9a0b0524f7cb146acec8aa5c6d2": {
          "model_module": "@jupyter-widgets/controls",
          "model_name": "DescriptionStyleModel",
          "model_module_version": "1.5.0",
          "state": {
            "_model_module": "@jupyter-widgets/controls",
            "_model_module_version": "1.5.0",
            "_model_name": "DescriptionStyleModel",
            "_view_count": null,
            "_view_module": "@jupyter-widgets/base",
            "_view_module_version": "1.2.0",
            "_view_name": "StyleView",
            "description_width": ""
          }
        },
        "07bbd9bbcca24da1bae167f7b1ca5537": {
          "model_module": "@jupyter-widgets/controls",
          "model_name": "HBoxModel",
          "model_module_version": "1.5.0",
          "state": {
            "_dom_classes": [],
            "_model_module": "@jupyter-widgets/controls",
            "_model_module_version": "1.5.0",
            "_model_name": "HBoxModel",
            "_view_count": null,
            "_view_module": "@jupyter-widgets/controls",
            "_view_module_version": "1.5.0",
            "_view_name": "HBoxView",
            "box_style": "",
            "children": [
              "IPY_MODEL_abb05c34c9e041a3846a3ef0e44adc03",
              "IPY_MODEL_7d87b8b9a5614431bab7fd776ae2d6e5",
              "IPY_MODEL_4cda228224194fe3983a28d5c3437d4f"
            ],
            "layout": "IPY_MODEL_da481d2ffac4412b8f038de136116fa3"
          }
        },
        "abb05c34c9e041a3846a3ef0e44adc03": {
          "model_module": "@jupyter-widgets/controls",
          "model_name": "HTMLModel",
          "model_module_version": "1.5.0",
          "state": {
            "_dom_classes": [],
            "_model_module": "@jupyter-widgets/controls",
            "_model_module_version": "1.5.0",
            "_model_name": "HTMLModel",
            "_view_count": null,
            "_view_module": "@jupyter-widgets/controls",
            "_view_module_version": "1.5.0",
            "_view_name": "HTMLView",
            "description": "",
            "description_tooltip": null,
            "layout": "IPY_MODEL_5e56d8cc7c5c4cafa20404380f25ddde",
            "placeholder": "​",
            "style": "IPY_MODEL_800bd9ef69e64e44ab830d200548fb86",
            "value": "config.json: 100%"
          }
        },
        "7d87b8b9a5614431bab7fd776ae2d6e5": {
          "model_module": "@jupyter-widgets/controls",
          "model_name": "FloatProgressModel",
          "model_module_version": "1.5.0",
          "state": {
            "_dom_classes": [],
            "_model_module": "@jupyter-widgets/controls",
            "_model_module_version": "1.5.0",
            "_model_name": "FloatProgressModel",
            "_view_count": null,
            "_view_module": "@jupyter-widgets/controls",
            "_view_module_version": "1.5.0",
            "_view_name": "ProgressView",
            "bar_style": "success",
            "description": "",
            "description_tooltip": null,
            "layout": "IPY_MODEL_7db14105cddf489f9e2e76d7b4f4acef",
            "max": 570,
            "min": 0,
            "orientation": "horizontal",
            "style": "IPY_MODEL_0da27dfb607142e989d04f7ea4fbca3b",
            "value": 570
          }
        },
        "4cda228224194fe3983a28d5c3437d4f": {
          "model_module": "@jupyter-widgets/controls",
          "model_name": "HTMLModel",
          "model_module_version": "1.5.0",
          "state": {
            "_dom_classes": [],
            "_model_module": "@jupyter-widgets/controls",
            "_model_module_version": "1.5.0",
            "_model_name": "HTMLModel",
            "_view_count": null,
            "_view_module": "@jupyter-widgets/controls",
            "_view_module_version": "1.5.0",
            "_view_name": "HTMLView",
            "description": "",
            "description_tooltip": null,
            "layout": "IPY_MODEL_d2d3ee9eb6624a509b87083c716b642f",
            "placeholder": "​",
            "style": "IPY_MODEL_e59c9578ac0e432280c052656a60c3a7",
            "value": " 570/570 [00:00&lt;00:00, 37.5kB/s]"
          }
        },
        "da481d2ffac4412b8f038de136116fa3": {
          "model_module": "@jupyter-widgets/base",
          "model_name": "LayoutModel",
          "model_module_version": "1.2.0",
          "state": {
            "_model_module": "@jupyter-widgets/base",
            "_model_module_version": "1.2.0",
            "_model_name": "LayoutModel",
            "_view_count": null,
            "_view_module": "@jupyter-widgets/base",
            "_view_module_version": "1.2.0",
            "_view_name": "LayoutView",
            "align_content": null,
            "align_items": null,
            "align_self": null,
            "border": null,
            "bottom": null,
            "display": null,
            "flex": null,
            "flex_flow": null,
            "grid_area": null,
            "grid_auto_columns": null,
            "grid_auto_flow": null,
            "grid_auto_rows": null,
            "grid_column": null,
            "grid_gap": null,
            "grid_row": null,
            "grid_template_areas": null,
            "grid_template_columns": null,
            "grid_template_rows": null,
            "height": null,
            "justify_content": null,
            "justify_items": null,
            "left": null,
            "margin": null,
            "max_height": null,
            "max_width": null,
            "min_height": null,
            "min_width": null,
            "object_fit": null,
            "object_position": null,
            "order": null,
            "overflow": null,
            "overflow_x": null,
            "overflow_y": null,
            "padding": null,
            "right": null,
            "top": null,
            "visibility": null,
            "width": null
          }
        },
        "5e56d8cc7c5c4cafa20404380f25ddde": {
          "model_module": "@jupyter-widgets/base",
          "model_name": "LayoutModel",
          "model_module_version": "1.2.0",
          "state": {
            "_model_module": "@jupyter-widgets/base",
            "_model_module_version": "1.2.0",
            "_model_name": "LayoutModel",
            "_view_count": null,
            "_view_module": "@jupyter-widgets/base",
            "_view_module_version": "1.2.0",
            "_view_name": "LayoutView",
            "align_content": null,
            "align_items": null,
            "align_self": null,
            "border": null,
            "bottom": null,
            "display": null,
            "flex": null,
            "flex_flow": null,
            "grid_area": null,
            "grid_auto_columns": null,
            "grid_auto_flow": null,
            "grid_auto_rows": null,
            "grid_column": null,
            "grid_gap": null,
            "grid_row": null,
            "grid_template_areas": null,
            "grid_template_columns": null,
            "grid_template_rows": null,
            "height": null,
            "justify_content": null,
            "justify_items": null,
            "left": null,
            "margin": null,
            "max_height": null,
            "max_width": null,
            "min_height": null,
            "min_width": null,
            "object_fit": null,
            "object_position": null,
            "order": null,
            "overflow": null,
            "overflow_x": null,
            "overflow_y": null,
            "padding": null,
            "right": null,
            "top": null,
            "visibility": null,
            "width": null
          }
        },
        "800bd9ef69e64e44ab830d200548fb86": {
          "model_module": "@jupyter-widgets/controls",
          "model_name": "DescriptionStyleModel",
          "model_module_version": "1.5.0",
          "state": {
            "_model_module": "@jupyter-widgets/controls",
            "_model_module_version": "1.5.0",
            "_model_name": "DescriptionStyleModel",
            "_view_count": null,
            "_view_module": "@jupyter-widgets/base",
            "_view_module_version": "1.2.0",
            "_view_name": "StyleView",
            "description_width": ""
          }
        },
        "7db14105cddf489f9e2e76d7b4f4acef": {
          "model_module": "@jupyter-widgets/base",
          "model_name": "LayoutModel",
          "model_module_version": "1.2.0",
          "state": {
            "_model_module": "@jupyter-widgets/base",
            "_model_module_version": "1.2.0",
            "_model_name": "LayoutModel",
            "_view_count": null,
            "_view_module": "@jupyter-widgets/base",
            "_view_module_version": "1.2.0",
            "_view_name": "LayoutView",
            "align_content": null,
            "align_items": null,
            "align_self": null,
            "border": null,
            "bottom": null,
            "display": null,
            "flex": null,
            "flex_flow": null,
            "grid_area": null,
            "grid_auto_columns": null,
            "grid_auto_flow": null,
            "grid_auto_rows": null,
            "grid_column": null,
            "grid_gap": null,
            "grid_row": null,
            "grid_template_areas": null,
            "grid_template_columns": null,
            "grid_template_rows": null,
            "height": null,
            "justify_content": null,
            "justify_items": null,
            "left": null,
            "margin": null,
            "max_height": null,
            "max_width": null,
            "min_height": null,
            "min_width": null,
            "object_fit": null,
            "object_position": null,
            "order": null,
            "overflow": null,
            "overflow_x": null,
            "overflow_y": null,
            "padding": null,
            "right": null,
            "top": null,
            "visibility": null,
            "width": null
          }
        },
        "0da27dfb607142e989d04f7ea4fbca3b": {
          "model_module": "@jupyter-widgets/controls",
          "model_name": "ProgressStyleModel",
          "model_module_version": "1.5.0",
          "state": {
            "_model_module": "@jupyter-widgets/controls",
            "_model_module_version": "1.5.0",
            "_model_name": "ProgressStyleModel",
            "_view_count": null,
            "_view_module": "@jupyter-widgets/base",
            "_view_module_version": "1.2.0",
            "_view_name": "StyleView",
            "bar_color": null,
            "description_width": ""
          }
        },
        "d2d3ee9eb6624a509b87083c716b642f": {
          "model_module": "@jupyter-widgets/base",
          "model_name": "LayoutModel",
          "model_module_version": "1.2.0",
          "state": {
            "_model_module": "@jupyter-widgets/base",
            "_model_module_version": "1.2.0",
            "_model_name": "LayoutModel",
            "_view_count": null,
            "_view_module": "@jupyter-widgets/base",
            "_view_module_version": "1.2.0",
            "_view_name": "LayoutView",
            "align_content": null,
            "align_items": null,
            "align_self": null,
            "border": null,
            "bottom": null,
            "display": null,
            "flex": null,
            "flex_flow": null,
            "grid_area": null,
            "grid_auto_columns": null,
            "grid_auto_flow": null,
            "grid_auto_rows": null,
            "grid_column": null,
            "grid_gap": null,
            "grid_row": null,
            "grid_template_areas": null,
            "grid_template_columns": null,
            "grid_template_rows": null,
            "height": null,
            "justify_content": null,
            "justify_items": null,
            "left": null,
            "margin": null,
            "max_height": null,
            "max_width": null,
            "min_height": null,
            "min_width": null,
            "object_fit": null,
            "object_position": null,
            "order": null,
            "overflow": null,
            "overflow_x": null,
            "overflow_y": null,
            "padding": null,
            "right": null,
            "top": null,
            "visibility": null,
            "width": null
          }
        },
        "e59c9578ac0e432280c052656a60c3a7": {
          "model_module": "@jupyter-widgets/controls",
          "model_name": "DescriptionStyleModel",
          "model_module_version": "1.5.0",
          "state": {
            "_model_module": "@jupyter-widgets/controls",
            "_model_module_version": "1.5.0",
            "_model_name": "DescriptionStyleModel",
            "_view_count": null,
            "_view_module": "@jupyter-widgets/base",
            "_view_module_version": "1.2.0",
            "_view_name": "StyleView",
            "description_width": ""
          }
        },
        "62f46cb050d143a3ae3ce754bc91b026": {
          "model_module": "@jupyter-widgets/controls",
          "model_name": "HBoxModel",
          "model_module_version": "1.5.0",
          "state": {
            "_dom_classes": [],
            "_model_module": "@jupyter-widgets/controls",
            "_model_module_version": "1.5.0",
            "_model_name": "HBoxModel",
            "_view_count": null,
            "_view_module": "@jupyter-widgets/controls",
            "_view_module_version": "1.5.0",
            "_view_name": "HBoxView",
            "box_style": "",
            "children": [
              "IPY_MODEL_dc7e3ffe0095494aa189f2258df049e7",
              "IPY_MODEL_058ac80314504115933751e62ec2ae38",
              "IPY_MODEL_c6272e37d854435a8597ca94a9e76c5d"
            ],
            "layout": "IPY_MODEL_1a529ca5fff7473d882d68ee1ab637fd"
          }
        },
        "dc7e3ffe0095494aa189f2258df049e7": {
          "model_module": "@jupyter-widgets/controls",
          "model_name": "HTMLModel",
          "model_module_version": "1.5.0",
          "state": {
            "_dom_classes": [],
            "_model_module": "@jupyter-widgets/controls",
            "_model_module_version": "1.5.0",
            "_model_name": "HTMLModel",
            "_view_count": null,
            "_view_module": "@jupyter-widgets/controls",
            "_view_module_version": "1.5.0",
            "_view_name": "HTMLView",
            "description": "",
            "description_tooltip": null,
            "layout": "IPY_MODEL_72d67bc0124a42f689e0ae596de8cea1",
            "placeholder": "​",
            "style": "IPY_MODEL_1e844b7968d94421a03ab49f659a9d69",
            "value": "model.safetensors: 100%"
          }
        },
        "058ac80314504115933751e62ec2ae38": {
          "model_module": "@jupyter-widgets/controls",
          "model_name": "FloatProgressModel",
          "model_module_version": "1.5.0",
          "state": {
            "_dom_classes": [],
            "_model_module": "@jupyter-widgets/controls",
            "_model_module_version": "1.5.0",
            "_model_name": "FloatProgressModel",
            "_view_count": null,
            "_view_module": "@jupyter-widgets/controls",
            "_view_module_version": "1.5.0",
            "_view_name": "ProgressView",
            "bar_style": "success",
            "description": "",
            "description_tooltip": null,
            "layout": "IPY_MODEL_17eadb2aaca94b94987e7ddd92cc34a3",
            "max": 440449768,
            "min": 0,
            "orientation": "horizontal",
            "style": "IPY_MODEL_4282eb2eecbf41e39af00921cdba8b82",
            "value": 440449768
          }
        },
        "c6272e37d854435a8597ca94a9e76c5d": {
          "model_module": "@jupyter-widgets/controls",
          "model_name": "HTMLModel",
          "model_module_version": "1.5.0",
          "state": {
            "_dom_classes": [],
            "_model_module": "@jupyter-widgets/controls",
            "_model_module_version": "1.5.0",
            "_model_name": "HTMLModel",
            "_view_count": null,
            "_view_module": "@jupyter-widgets/controls",
            "_view_module_version": "1.5.0",
            "_view_name": "HTMLView",
            "description": "",
            "description_tooltip": null,
            "layout": "IPY_MODEL_475c76db421847bda9f328a5e2e31b69",
            "placeholder": "​",
            "style": "IPY_MODEL_a7da05fee4a644c490dd5192c8f782d0",
            "value": " 440M/440M [00:02&lt;00:00, 190MB/s]"
          }
        },
        "1a529ca5fff7473d882d68ee1ab637fd": {
          "model_module": "@jupyter-widgets/base",
          "model_name": "LayoutModel",
          "model_module_version": "1.2.0",
          "state": {
            "_model_module": "@jupyter-widgets/base",
            "_model_module_version": "1.2.0",
            "_model_name": "LayoutModel",
            "_view_count": null,
            "_view_module": "@jupyter-widgets/base",
            "_view_module_version": "1.2.0",
            "_view_name": "LayoutView",
            "align_content": null,
            "align_items": null,
            "align_self": null,
            "border": null,
            "bottom": null,
            "display": null,
            "flex": null,
            "flex_flow": null,
            "grid_area": null,
            "grid_auto_columns": null,
            "grid_auto_flow": null,
            "grid_auto_rows": null,
            "grid_column": null,
            "grid_gap": null,
            "grid_row": null,
            "grid_template_areas": null,
            "grid_template_columns": null,
            "grid_template_rows": null,
            "height": null,
            "justify_content": null,
            "justify_items": null,
            "left": null,
            "margin": null,
            "max_height": null,
            "max_width": null,
            "min_height": null,
            "min_width": null,
            "object_fit": null,
            "object_position": null,
            "order": null,
            "overflow": null,
            "overflow_x": null,
            "overflow_y": null,
            "padding": null,
            "right": null,
            "top": null,
            "visibility": null,
            "width": null
          }
        },
        "72d67bc0124a42f689e0ae596de8cea1": {
          "model_module": "@jupyter-widgets/base",
          "model_name": "LayoutModel",
          "model_module_version": "1.2.0",
          "state": {
            "_model_module": "@jupyter-widgets/base",
            "_model_module_version": "1.2.0",
            "_model_name": "LayoutModel",
            "_view_count": null,
            "_view_module": "@jupyter-widgets/base",
            "_view_module_version": "1.2.0",
            "_view_name": "LayoutView",
            "align_content": null,
            "align_items": null,
            "align_self": null,
            "border": null,
            "bottom": null,
            "display": null,
            "flex": null,
            "flex_flow": null,
            "grid_area": null,
            "grid_auto_columns": null,
            "grid_auto_flow": null,
            "grid_auto_rows": null,
            "grid_column": null,
            "grid_gap": null,
            "grid_row": null,
            "grid_template_areas": null,
            "grid_template_columns": null,
            "grid_template_rows": null,
            "height": null,
            "justify_content": null,
            "justify_items": null,
            "left": null,
            "margin": null,
            "max_height": null,
            "max_width": null,
            "min_height": null,
            "min_width": null,
            "object_fit": null,
            "object_position": null,
            "order": null,
            "overflow": null,
            "overflow_x": null,
            "overflow_y": null,
            "padding": null,
            "right": null,
            "top": null,
            "visibility": null,
            "width": null
          }
        },
        "1e844b7968d94421a03ab49f659a9d69": {
          "model_module": "@jupyter-widgets/controls",
          "model_name": "DescriptionStyleModel",
          "model_module_version": "1.5.0",
          "state": {
            "_model_module": "@jupyter-widgets/controls",
            "_model_module_version": "1.5.0",
            "_model_name": "DescriptionStyleModel",
            "_view_count": null,
            "_view_module": "@jupyter-widgets/base",
            "_view_module_version": "1.2.0",
            "_view_name": "StyleView",
            "description_width": ""
          }
        },
        "17eadb2aaca94b94987e7ddd92cc34a3": {
          "model_module": "@jupyter-widgets/base",
          "model_name": "LayoutModel",
          "model_module_version": "1.2.0",
          "state": {
            "_model_module": "@jupyter-widgets/base",
            "_model_module_version": "1.2.0",
            "_model_name": "LayoutModel",
            "_view_count": null,
            "_view_module": "@jupyter-widgets/base",
            "_view_module_version": "1.2.0",
            "_view_name": "LayoutView",
            "align_content": null,
            "align_items": null,
            "align_self": null,
            "border": null,
            "bottom": null,
            "display": null,
            "flex": null,
            "flex_flow": null,
            "grid_area": null,
            "grid_auto_columns": null,
            "grid_auto_flow": null,
            "grid_auto_rows": null,
            "grid_column": null,
            "grid_gap": null,
            "grid_row": null,
            "grid_template_areas": null,
            "grid_template_columns": null,
            "grid_template_rows": null,
            "height": null,
            "justify_content": null,
            "justify_items": null,
            "left": null,
            "margin": null,
            "max_height": null,
            "max_width": null,
            "min_height": null,
            "min_width": null,
            "object_fit": null,
            "object_position": null,
            "order": null,
            "overflow": null,
            "overflow_x": null,
            "overflow_y": null,
            "padding": null,
            "right": null,
            "top": null,
            "visibility": null,
            "width": null
          }
        },
        "4282eb2eecbf41e39af00921cdba8b82": {
          "model_module": "@jupyter-widgets/controls",
          "model_name": "ProgressStyleModel",
          "model_module_version": "1.5.0",
          "state": {
            "_model_module": "@jupyter-widgets/controls",
            "_model_module_version": "1.5.0",
            "_model_name": "ProgressStyleModel",
            "_view_count": null,
            "_view_module": "@jupyter-widgets/base",
            "_view_module_version": "1.2.0",
            "_view_name": "StyleView",
            "bar_color": null,
            "description_width": ""
          }
        },
        "475c76db421847bda9f328a5e2e31b69": {
          "model_module": "@jupyter-widgets/base",
          "model_name": "LayoutModel",
          "model_module_version": "1.2.0",
          "state": {
            "_model_module": "@jupyter-widgets/base",
            "_model_module_version": "1.2.0",
            "_model_name": "LayoutModel",
            "_view_count": null,
            "_view_module": "@jupyter-widgets/base",
            "_view_module_version": "1.2.0",
            "_view_name": "LayoutView",
            "align_content": null,
            "align_items": null,
            "align_self": null,
            "border": null,
            "bottom": null,
            "display": null,
            "flex": null,
            "flex_flow": null,
            "grid_area": null,
            "grid_auto_columns": null,
            "grid_auto_flow": null,
            "grid_auto_rows": null,
            "grid_column": null,
            "grid_gap": null,
            "grid_row": null,
            "grid_template_areas": null,
            "grid_template_columns": null,
            "grid_template_rows": null,
            "height": null,
            "justify_content": null,
            "justify_items": null,
            "left": null,
            "margin": null,
            "max_height": null,
            "max_width": null,
            "min_height": null,
            "min_width": null,
            "object_fit": null,
            "object_position": null,
            "order": null,
            "overflow": null,
            "overflow_x": null,
            "overflow_y": null,
            "padding": null,
            "right": null,
            "top": null,
            "visibility": null,
            "width": null
          }
        },
        "a7da05fee4a644c490dd5192c8f782d0": {
          "model_module": "@jupyter-widgets/controls",
          "model_name": "DescriptionStyleModel",
          "model_module_version": "1.5.0",
          "state": {
            "_model_module": "@jupyter-widgets/controls",
            "_model_module_version": "1.5.0",
            "_model_name": "DescriptionStyleModel",
            "_view_count": null,
            "_view_module": "@jupyter-widgets/base",
            "_view_module_version": "1.2.0",
            "_view_name": "StyleView",
            "description_width": ""
          }
        }
      }
    }
  },
  "cells": [
    {
      "cell_type": "markdown",
      "source": [
        "# 1. clean the data\n",
        "\n"
      ],
      "metadata": {
        "id": "3MTS8C_fjfN7"
      }
    },
    {
      "cell_type": "code",
      "source": [
        "import pandas as pd\n",
        "import re\n",
        "import nltk\n",
        "!pip install pyspellchecker\n",
        "from nltk.corpus import stopwords\n",
        "from nltk.stem import WordNetLemmatizer\n",
        "from spellchecker import SpellChecker\n",
        "import tensorflow as tf\n",
        "from transformers import BertTokenizer, TFBertModel\n",
        "from sklearn.linear_model import LogisticRegression\n",
        "from sklearn.metrics import f1_score\n",
        "from sklearn.model_selection import train_test_split\n",
        "from sklearn.metrics import make_scorer\n",
        "import gc\n",
        "from sklearn.model_selection import cross_val_score\n",
        "from sklearn.svm import SVC\n",
        "from sklearn.feature_extraction.text import TfidfVectorizer\n",
        "from gensim.models import Word2Vec\n",
        "import numpy as np\n",
        "nltk.download('wordnet')\n",
        "nltk.download('omw-1.4')\n",
        "nltk.download('stopwords')"
      ],
      "metadata": {
        "colab": {
          "base_uri": "https://localhost:8080/",
          "height": 0
        },
        "id": "uIL5IWo2lATT",
        "outputId": "97d96dd0-5e90-4b29-d6f6-2cd647c306fc"
      },
      "execution_count": 1,
      "outputs": [
        {
          "output_type": "stream",
          "name": "stdout",
          "text": [
            "Collecting pyspellchecker\n",
            "  Downloading pyspellchecker-0.8.1-py3-none-any.whl.metadata (9.4 kB)\n",
            "Downloading pyspellchecker-0.8.1-py3-none-any.whl (6.8 MB)\n",
            "\u001b[2K   \u001b[90m━━━━━━━━━━━━━━━━━━━━━━━━━━━━━━━━━━━━━━━━\u001b[0m \u001b[32m6.8/6.8 MB\u001b[0m \u001b[31m48.4 MB/s\u001b[0m eta \u001b[36m0:00:00\u001b[0m\n",
            "\u001b[?25hInstalling collected packages: pyspellchecker\n",
            "Successfully installed pyspellchecker-0.8.1\n"
          ]
        },
        {
          "output_type": "stream",
          "name": "stderr",
          "text": [
            "[nltk_data] Downloading package wordnet to /root/nltk_data...\n",
            "[nltk_data] Downloading package omw-1.4 to /root/nltk_data...\n",
            "[nltk_data] Downloading package stopwords to /root/nltk_data...\n",
            "[nltk_data]   Unzipping corpora/stopwords.zip.\n"
          ]
        },
        {
          "output_type": "execute_result",
          "data": {
            "text/plain": [
              "True"
            ]
          },
          "metadata": {},
          "execution_count": 1
        }
      ]
    },
    {
      "cell_type": "code",
      "source": [
        "# loading the data\n",
        "train_df = pd.read_csv('train.csv')\n",
        "test_df = pd.read_csv('test.csv')\n",
        "\n",
        "# clean data\n",
        "def clean_text(text):\n",
        "    text = re.sub(r'http\\S+', '<url>', text)\n",
        "    text = re.sub(r'@\\w+', '<user>', text)\n",
        "    text = re.sub(r'#\\w+', '<hashtag>', text)\n",
        "    text = text.lower()\n",
        "    text = re.sub(r'[^a-z\\s]', '', text)\n",
        "    return text\n",
        "\n",
        "train_df['cleaned_text'] = train_df['text'].apply(clean_text)\n",
        "test_df['cleaned_text'] = test_df['text'].apply(clean_text)"
      ],
      "metadata": {
        "id": "NOD7JIS0IEPX"
      },
      "execution_count": 2,
      "outputs": []
    },
    {
      "cell_type": "code",
      "source": [
        "print(train_df[['text', 'cleaned_text']].head())\n",
        "print(test_df[['text', 'cleaned_text']].head())"
      ],
      "metadata": {
        "colab": {
          "base_uri": "https://localhost:8080/",
          "height": 0
        },
        "id": "r0xuRsYenalL",
        "outputId": "6f24dfd0-4ad4-43b3-8bed-9efda50de15f"
      },
      "execution_count": 3,
      "outputs": [
        {
          "output_type": "stream",
          "name": "stdout",
          "text": [
            "                                                text  \\\n",
            "0  Our Deeds are the Reason of this #earthquake M...   \n",
            "1             Forest fire near La Ronge Sask. Canada   \n",
            "2  All residents asked to 'shelter in place' are ...   \n",
            "3  13,000 people receive #wildfires evacuation or...   \n",
            "4  Just got sent this photo from Ruby #Alaska as ...   \n",
            "\n",
            "                                        cleaned_text  \n",
            "0  our deeds are the reason of this hashtag may a...  \n",
            "1              forest fire near la ronge sask canada  \n",
            "2  all residents asked to shelter in place are be...  \n",
            "3   people receive hashtag evacuation orders in c...  \n",
            "4  just got sent this photo from ruby hashtag as ...  \n",
            "                                                text  \\\n",
            "0                 Just happened a terrible car crash   \n",
            "1  Heard about #earthquake is different cities, s...   \n",
            "2  there is a forest fire at spot pond, geese are...   \n",
            "3           Apocalypse lighting. #Spokane #wildfires   \n",
            "4      Typhoon Soudelor kills 28 in China and Taiwan   \n",
            "\n",
            "                                        cleaned_text  \n",
            "0                 just happened a terrible car crash  \n",
            "1  heard about hashtag is different cities stay s...  \n",
            "2  there is a forest fire at spot pond geese are ...  \n",
            "3                apocalypse lighting hashtag hashtag  \n",
            "4        typhoon soudelor kills  in china and taiwan  \n"
          ]
        }
      ]
    },
    {
      "cell_type": "markdown",
      "source": [
        "# 2. Feature Engineering and Preprocessing"
      ],
      "metadata": {
        "id": "zfa17lMbny3a"
      }
    },
    {
      "cell_type": "code",
      "source": [
        "def cross_validate_model(model, X, y, cv=10):\n",
        "    f1_scores = cross_val_score(model, X, y, cv=cv, scoring='f1')\n",
        "    return f1_scores.mean()"
      ],
      "metadata": {
        "id": "uRznisaPpKzh"
      },
      "execution_count": 4,
      "outputs": []
    },
    {
      "cell_type": "code",
      "source": [
        "# TF-IDF\n",
        "vectorizer = TfidfVectorizer(max_features=5000)\n",
        "X_tfidf = vectorizer.fit_transform(train_df['cleaned_text'])\n",
        "\n",
        "X_train_tfidf, X_val_tfidf, y_train, y_val = train_test_split(X_tfidf, train_df['target'], test_size=0.2, random_state=42)\n",
        "\n",
        "svm_model = SVC()\n",
        "\n",
        "tfidf_f1_score = cross_validate_model(svm_model, X_tfidf, train_df['target'])"
      ],
      "metadata": {
        "id": "d4wxSHdunnj2"
      },
      "execution_count": 5,
      "outputs": []
    },
    {
      "cell_type": "code",
      "source": [
        "# Word2Vec\n",
        "sentences = [text.split() for text in train_df['cleaned_text']]\n",
        "w2v_model = Word2Vec(sentences, vector_size=100, window=5, min_count=1, workers=4)\n",
        "\n",
        "def get_w2v_features(text, model):\n",
        "    words = text.split()\n",
        "    features = np.mean([model.wv[word] for word in words if word in model.wv], axis=0)\n",
        "    return features\n",
        "\n",
        "X_w2v = np.array([get_w2v_features(text, w2v_model) for text in train_df['cleaned_text']])\n",
        "\n",
        "X_train_w2v, X_val_w2v, y_train, y_val = train_test_split(X_w2v, train_df['target'], test_size=0.2, random_state=42)\n",
        "\n",
        "w2v_f1_score = cross_validate_model(svm_model, X_w2v, train_df['target'])"
      ],
      "metadata": {
        "id": "nVS04lV2oanx"
      },
      "execution_count": 6,
      "outputs": []
    },
    {
      "cell_type": "code",
      "source": [
        "# Glove\n",
        "def load_glove_model(glove_file):\n",
        "    model = {}\n",
        "    with open(glove_file, 'r', encoding='utf-8') as f:\n",
        "        for line in f:\n",
        "            split_line = line.split()\n",
        "            word = split_line[0]\n",
        "            embedding = np.array([float(val) for val in split_line[1:]])\n",
        "            model[word] = embedding\n",
        "    return model\n",
        "\n",
        "glove_model = load_glove_model('glove.6B.50d.txt')\n",
        "\n",
        "def get_glove_features(text, model):\n",
        "    words = text.split()\n",
        "    features = np.mean([model[word] for word in words if word in model], axis=0)\n",
        "    if np.isnan(features).any():\n",
        "        return np.zeros(50)\n",
        "    return features\n",
        "\n",
        "def handle_missing_features(features):\n",
        "    if np.isnan(features).any():\n",
        "        return np.zeros(features.shape)\n",
        "    return features\n",
        "\n",
        "X_glove = np.array([handle_missing_features(get_glove_features(text, glove_model)) for text in train_df['cleaned_text']])\n",
        "\n",
        "X_train_glove, X_val_glove, y_train, y_val = train_test_split(X_glove, train_df['target'], test_size=0.2, random_state=42)\n",
        "\n",
        "def cross_validate_model(model, X, y, cv=10):\n",
        "    f1_scores = cross_val_score(model, X, y, cv=cv, scoring='f1')\n",
        "    return f1_scores.mean()\n",
        "\n",
        "svm_model = SVC()\n",
        "glove_f1_score = cross_validate_model(svm_model, X_glove, train_df['target'])"
      ],
      "metadata": {
        "colab": {
          "base_uri": "https://localhost:8080/",
          "height": 0
        },
        "id": "vmqOQFaKoc4h",
        "outputId": "3fca1b52-2002-450f-d144-1901d7d67859"
      },
      "execution_count": 7,
      "outputs": [
        {
          "output_type": "stream",
          "name": "stderr",
          "text": [
            "/usr/local/lib/python3.10/dist-packages/numpy/core/fromnumeric.py:3504: RuntimeWarning: Mean of empty slice.\n",
            "  return _methods._mean(a, axis=axis, dtype=dtype,\n",
            "/usr/local/lib/python3.10/dist-packages/numpy/core/_methods.py:129: RuntimeWarning: invalid value encountered in scalar divide\n",
            "  ret = ret.dtype.type(ret / rcount)\n"
          ]
        }
      ]
    },
    {
      "cell_type": "code",
      "source": [
        "# BERT\n",
        "tokenizer = BertTokenizer.from_pretrained('bert-base-uncased')\n",
        "\n",
        "def bert_encode(data, maximum_length):\n",
        "    input_ids = []\n",
        "    attention_masks = []\n",
        "\n",
        "    for text in data:\n",
        "        encoded = tokenizer.encode_plus(\n",
        "            text,\n",
        "            add_special_tokens=True,\n",
        "            max_length=maximum_length,\n",
        "            truncation=True,\n",
        "            padding='max_length',\n",
        "            return_attention_mask=True,\n",
        "        )\n",
        "        input_ids.append(encoded['input_ids'])\n",
        "        attention_masks.append(encoded['attention_mask'])\n",
        "\n",
        "    return np.array(input_ids), np.array(attention_masks)\n",
        "\n",
        "texts = train_df['cleaned_text']\n",
        "target = train_df['target']\n",
        "\n",
        "train_input_ids, train_attention_masks = bert_encode(texts, 60)\n",
        "\n",
        "bert_model = TFBertModel.from_pretrained('bert-base-uncased')\n",
        "\n",
        "def extract_bert_features(input_ids, attention_masks, bert_model):\n",
        "    inputs = {\n",
        "        'input_ids': input_ids,\n",
        "        'attention_mask': attention_masks\n",
        "    }\n",
        "    outputs = bert_model(inputs)\n",
        "    return outputs.last_hidden_state\n",
        "\n",
        "def extract_bert_features_in_batches(input_ids, attention_masks, bert_model, batch_size=8):\n",
        "    features = []\n",
        "    for i in range(0, len(input_ids), batch_size):\n",
        "        batch_input_ids = input_ids[i:i+batch_size]\n",
        "        batch_attention_masks = attention_masks[i:i+batch_size]\n",
        "        batch_features = extract_bert_features(batch_input_ids, batch_attention_masks, bert_model)\n",
        "        features.append(batch_features)\n",
        "    return np.vstack(features)\n",
        "\n",
        "train_features = extract_bert_features_in_batches(train_input_ids, train_attention_masks, bert_model, batch_size=8)\n",
        "\n",
        "del train_input_ids, train_attention_masks\n",
        "gc.collect()\n",
        "\n",
        "def mean_pooling(features):\n",
        "    return np.mean(features, axis=1)\n",
        "\n",
        "train_features_pooled = mean_pooling(train_features)\n",
        "\n",
        "def cross_validate_model(model, X, y, cv=10):\n",
        "    f1_scorer = make_scorer(f1_score)\n",
        "    f1_scores = cross_val_score(model, X, y, cv=cv, scoring=f1_scorer)\n",
        "    return f1_scores.mean()\n",
        "\n",
        "logistic_model = LogisticRegression(max_iter=1000)\n",
        "logistic_f1_score = cross_validate_model(logistic_model, train_features_pooled, target)"
      ],
      "metadata": {
        "colab": {
          "base_uri": "https://localhost:8080/",
          "height": 388,
          "referenced_widgets": [
            "9faeb9eb32c7434c91532b695ff09e46",
            "0ca38feef4dd45ee99810d72ab40fb1e",
            "44c26921a962448cb9d813b4eca45d5f",
            "531f9d5f48b24e2eb2b70004ba7fb1b5",
            "bb6e5d08bcc94220a2f24127241946b6",
            "488acd36f1a4458a81769b69745623d0",
            "fcb81d27e63d4e4f9ddf7670fa67f1b4",
            "94b0c413d2b84bc68309ea9d83f4df2e",
            "65832a84c9f34974aa27eb765d7721b2",
            "badb5eeecc6b4218a71e9f985233f0d4",
            "91858a7f826a4066a249030eba2fb1e6",
            "1514761e7c88433dbb996e6587c95023",
            "87e71e8c6d614d2e8e9cd278f7cd288b",
            "3339f55ad23e46b9998792f9da88e16e",
            "ef6f7a9f3f3d45a38d5ab3ba94ec1495",
            "49d827e9118b4552b8068183bef46fd1",
            "a8c67436d39d4cf2aaf7c95626eef8a3",
            "23acea3ba41a43f783ae01c44aa170f7",
            "40b7e22cac8f4887bad5c1ebcb48ed5f",
            "e052b994e2fe44688b9ca3344c3fe053",
            "9af4498235c54eba88b4c1ce98248801",
            "63b26d0c8f304c85b2656632c4afbd77",
            "7204e85992664fe2955c8352fcbf85e8",
            "d6d233a101aa424a98f1d8233200df31",
            "993398ae295e45178e78e68b3ce5f0c9",
            "76806729906d459da2957758a5294324",
            "80aa47891d8e470abdf12a37c73de660",
            "81a559834a4c4daa8df813dc3ed77a1a",
            "8338cdbb41664b68b6f447ceae5232cb",
            "104223c5bc8945a2bf0b62e043bdc0d9",
            "a8f0cc83706c45269c1c299f4ad0b74b",
            "110558c813804de580125aa986d58e4e",
            "8177f9a0b0524f7cb146acec8aa5c6d2",
            "07bbd9bbcca24da1bae167f7b1ca5537",
            "abb05c34c9e041a3846a3ef0e44adc03",
            "7d87b8b9a5614431bab7fd776ae2d6e5",
            "4cda228224194fe3983a28d5c3437d4f",
            "da481d2ffac4412b8f038de136116fa3",
            "5e56d8cc7c5c4cafa20404380f25ddde",
            "800bd9ef69e64e44ab830d200548fb86",
            "7db14105cddf489f9e2e76d7b4f4acef",
            "0da27dfb607142e989d04f7ea4fbca3b",
            "d2d3ee9eb6624a509b87083c716b642f",
            "e59c9578ac0e432280c052656a60c3a7",
            "62f46cb050d143a3ae3ce754bc91b026",
            "dc7e3ffe0095494aa189f2258df049e7",
            "058ac80314504115933751e62ec2ae38",
            "c6272e37d854435a8597ca94a9e76c5d",
            "1a529ca5fff7473d882d68ee1ab637fd",
            "72d67bc0124a42f689e0ae596de8cea1",
            "1e844b7968d94421a03ab49f659a9d69",
            "17eadb2aaca94b94987e7ddd92cc34a3",
            "4282eb2eecbf41e39af00921cdba8b82",
            "475c76db421847bda9f328a5e2e31b69",
            "a7da05fee4a644c490dd5192c8f782d0"
          ]
        },
        "id": "wQkIbcwmhwJ4",
        "outputId": "4ba88246-f142-407c-b398-2b6eef063563"
      },
      "execution_count": 8,
      "outputs": [
        {
          "output_type": "stream",
          "name": "stderr",
          "text": [
            "/usr/local/lib/python3.10/dist-packages/huggingface_hub/utils/_token.py:89: UserWarning: \n",
            "The secret `HF_TOKEN` does not exist in your Colab secrets.\n",
            "To authenticate with the Hugging Face Hub, create a token in your settings tab (https://huggingface.co/settings/tokens), set it as secret in your Google Colab and restart your session.\n",
            "You will be able to reuse this secret in all of your notebooks.\n",
            "Please note that authentication is recommended but still optional to access public models or datasets.\n",
            "  warnings.warn(\n"
          ]
        },
        {
          "output_type": "display_data",
          "data": {
            "text/plain": [
              "tokenizer_config.json:   0%|          | 0.00/48.0 [00:00<?, ?B/s]"
            ],
            "application/vnd.jupyter.widget-view+json": {
              "version_major": 2,
              "version_minor": 0,
              "model_id": "9faeb9eb32c7434c91532b695ff09e46"
            }
          },
          "metadata": {}
        },
        {
          "output_type": "display_data",
          "data": {
            "text/plain": [
              "vocab.txt:   0%|          | 0.00/232k [00:00<?, ?B/s]"
            ],
            "application/vnd.jupyter.widget-view+json": {
              "version_major": 2,
              "version_minor": 0,
              "model_id": "1514761e7c88433dbb996e6587c95023"
            }
          },
          "metadata": {}
        },
        {
          "output_type": "display_data",
          "data": {
            "text/plain": [
              "tokenizer.json:   0%|          | 0.00/466k [00:00<?, ?B/s]"
            ],
            "application/vnd.jupyter.widget-view+json": {
              "version_major": 2,
              "version_minor": 0,
              "model_id": "7204e85992664fe2955c8352fcbf85e8"
            }
          },
          "metadata": {}
        },
        {
          "output_type": "display_data",
          "data": {
            "text/plain": [
              "config.json:   0%|          | 0.00/570 [00:00<?, ?B/s]"
            ],
            "application/vnd.jupyter.widget-view+json": {
              "version_major": 2,
              "version_minor": 0,
              "model_id": "07bbd9bbcca24da1bae167f7b1ca5537"
            }
          },
          "metadata": {}
        },
        {
          "output_type": "display_data",
          "data": {
            "text/plain": [
              "model.safetensors:   0%|          | 0.00/440M [00:00<?, ?B/s]"
            ],
            "application/vnd.jupyter.widget-view+json": {
              "version_major": 2,
              "version_minor": 0,
              "model_id": "62f46cb050d143a3ae3ce754bc91b026"
            }
          },
          "metadata": {}
        },
        {
          "output_type": "stream",
          "name": "stderr",
          "text": [
            "Some weights of the PyTorch model were not used when initializing the TF 2.0 model TFBertModel: ['cls.predictions.transform.LayerNorm.weight', 'cls.seq_relationship.weight', 'cls.predictions.transform.dense.weight', 'cls.predictions.bias', 'cls.predictions.transform.LayerNorm.bias', 'cls.predictions.transform.dense.bias', 'cls.seq_relationship.bias']\n",
            "- This IS expected if you are initializing TFBertModel from a PyTorch model trained on another task or with another architecture (e.g. initializing a TFBertForSequenceClassification model from a BertForPreTraining model).\n",
            "- This IS NOT expected if you are initializing TFBertModel from a PyTorch model that you expect to be exactly identical (e.g. initializing a TFBertForSequenceClassification model from a BertForSequenceClassification model).\n",
            "All the weights of TFBertModel were initialized from the PyTorch model.\n",
            "If your task is similar to the task the model of the checkpoint was trained on, you can already use TFBertModel for predictions without further training.\n"
          ]
        }
      ]
    },
    {
      "cell_type": "code",
      "source": [
        "from sklearn.metrics import accuracy_score, precision_score, recall_score, f1_score\n",
        "\n",
        "def cross_validate_model(model, X, y, cv=5):\n",
        "    from sklearn.model_selection import cross_validate\n",
        "\n",
        "    scoring = {'accuracy': 'accuracy',\n",
        "               'precision': 'precision',\n",
        "               'recall': 'recall',\n",
        "               'f1': 'f1'}\n",
        "\n",
        "    scores = cross_validate(model, X, y, cv=cv, scoring=scoring)\n",
        "\n",
        "    return {\n",
        "        'accuracy': scores['test_accuracy'].mean(),\n",
        "        'precision': scores['test_precision'].mean(),\n",
        "        'recall': scores['test_recall'].mean(),\n",
        "        'f1': scores['test_f1'].mean()\n",
        "    }\n",
        "\n",
        "tfidf_scores = cross_validate_model(svm_model, X_tfidf, train_df['target'])\n",
        "\n",
        "w2v_scores = cross_validate_model(svm_model, X_w2v, train_df['target'])\n",
        "\n",
        "glove_scores = cross_validate_model(svm_model, X_glove, train_df['target'])\n",
        "\n",
        "bert_scores = cross_validate_model(logistic_model, train_features_pooled, target)"
      ],
      "metadata": {
        "id": "B653rnzlVFec"
      },
      "execution_count": 11,
      "outputs": []
    },
    {
      "cell_type": "code",
      "source": [
        "import pandas as pd\n",
        "\n",
        "results = pd.DataFrame({\n",
        "    'TF-IDF': tfidf_scores,\n",
        "    'Word2Vec': w2v_scores,\n",
        "    'GloVe': glove_scores,\n",
        "    'BERT': bert_scores\n",
        "})\n",
        "\n",
        "import matplotlib.pyplot as plt\n",
        "\n",
        "ax = results.plot(kind='bar', figsize=(12, 6), width=0.8)\n",
        "plt.title('Model Performance Comparison')\n",
        "plt.xlabel('Metrics')\n",
        "plt.ylabel('Score')\n",
        "plt.legend(title='Feature Extraction Method')\n",
        "plt.xticks(rotation=0)\n",
        "\n",
        "for container in ax.containers:\n",
        "    ax.bar_label(container, fmt='%.3f', padding=3)\n",
        "\n",
        "plt.tight_layout()\n",
        "plt.show()\n",
        "\n",
        "print(results.to_string(float_format='{:.3f}'.format))"
      ],
      "metadata": {
        "colab": {
          "base_uri": "https://localhost:8080/",
          "height": 694
        },
        "id": "V3AFCXXWVGI5",
        "outputId": "4bd4011d-099f-443f-9a16-2f64039d17c2"
      },
      "execution_count": 12,
      "outputs": [
        {
          "output_type": "display_data",
          "data": {
            "text/plain": [
              "<Figure size 1200x600 with 1 Axes>"
            ],
            "image/png": "[encoded data removed]"
          },
          "metadata": {}
        },
        {
          "output_type": "stream",
          "name": "stdout",
          "text": [
            "           TF-IDF  Word2Vec  GloVe  BERT\n",
            "accuracy    0.726     0.641  0.780 0.783\n",
            "precision   0.785     0.595  0.813 0.764\n",
            "recall      0.503     0.519  0.634 0.719\n",
            "f1          0.610     0.554  0.712 0.740\n"
          ]
        }
      ]
    },
    {
      "cell_type": "markdown",
      "source": [
        "I compare the four feature extraction methods which are TF-IDF, Word2Vec, GloVe, and BERT, from the results of performance across accuracy, precision, recall, and F1-score metrics. While GloVe showed strong performance in accuracy(0.780) and precision(0.813), but BERT demonstrated the best overall balance across all metrics with highest accuracy(0.783) and F1-score(0.740). BERT's strength lies in its capacity to capture contextual nuances and semantic relationships in text, thanks to its deep bidirectional architecture and pre-training on vast corpora. This allows BERT to understand complex language patterns and generalize well to our specific task. Given the overall perfomance across all metrics, spcially from the high recall and F1-score, BERT has the most suitable choice for our text classification task."
      ],
      "metadata": {
        "id": "RjQYUBNiUlBZ"
      }
    },
    {
      "cell_type": "markdown",
      "source": [
        "# 3. MODEL DEVELOPMENT"
      ],
      "metadata": {
        "id": "IWm0E63Wv1vw"
      }
    },
    {
      "cell_type": "code",
      "source": [
        "import tensorflow as tf\n",
        "from transformers import BertTokenizer, TFBertModel\n",
        "from sklearn.linear_model import LogisticRegression\n",
        "from sklearn.svm import SVC\n",
        "from sklearn.ensemble import GradientBoostingClassifier\n",
        "from sklearn.model_selection import KFold\n",
        "\n",
        "def cross_validate_model(model, X, y, cv=10):\n",
        "    f1_scorer = make_scorer(f1_score)\n",
        "    f1_scores = cross_val_score(model, X, y, cv=cv, scoring=f1_scorer)\n",
        "    return f1_scores.mean()"
      ],
      "metadata": {
        "id": "LxUJ3rKBoAaS"
      },
      "execution_count": 13,
      "outputs": []
    },
    {
      "cell_type": "code",
      "source": [
        "#SVM model\n",
        "svm_model = SVC()\n",
        "svm_f1_score = cross_validate_model(svm_model, train_features_pooled, target)"
      ],
      "metadata": {
        "id": "IMZFp80uxEY5"
      },
      "execution_count": 14,
      "outputs": []
    },
    {
      "cell_type": "code",
      "source": [
        "# LSTM model\n",
        "def create_lstm_model(input_shape):\n",
        "    model = tf.keras.Sequential([\n",
        "        tf.keras.layers.Input(shape=input_shape),\n",
        "        tf.keras.layers.LSTM(128, return_sequences=False),\n",
        "        tf.keras.layers.Dense(32, activation='relu'),\n",
        "        tf.keras.layers.Dropout(0.2),\n",
        "        tf.keras.layers.Dense(1, activation='sigmoid')\n",
        "    ])\n",
        "    model.compile(optimizer=tf.keras.optimizers.Adam(learning_rate=1e-5), loss='binary_crossentropy', metrics=['accuracy'])\n",
        "    return model\n",
        "\n",
        "def cross_validate_lstm_model(X, y, cv=5):\n",
        "    kf = KFold(n_splits=cv, shuffle=True, random_state=42)\n",
        "    f1_scores = []\n",
        "\n",
        "    for train_index, val_index in kf.split(X):\n",
        "        X_train, X_val = X[train_index], X[val_index]\n",
        "        y_train, y_val = y[train_index], y[val_index]\n",
        "\n",
        "        input_shape = (X_train.shape[1], X_train.shape[2])\n",
        "        lstm_model = create_lstm_model(input_shape)\n",
        "\n",
        "        train_dataset = tf.data.Dataset.from_tensor_slices((X_train, y_train)).batch(8)\n",
        "        val_dataset = tf.data.Dataset.from_tensor_slices((X_val, y_val)).batch(8)\n",
        "\n",
        "        lstm_model.fit(\n",
        "            train_dataset,\n",
        "            validation_data=val_dataset,\n",
        "            epochs=3,\n",
        "            verbose=1\n",
        "        )\n",
        "\n",
        "        y_pred = (lstm_model.predict(X_val) > 0.5).astype(\"int32\")\n",
        "        f1 = f1_score(y_val, y_pred)\n",
        "        f1_scores.append(f1)\n",
        "        print(f\"Fold F1 Score: {f1}\")\n",
        "\n",
        "    print(f\"Mean LSTM F1 Score: {np.mean(f1_scores)}\")\n",
        "    return np.mean(f1_scores)\n",
        "\n",
        "lstm_f1_score = cross_validate_lstm_model(train_features, target)"
      ],
      "metadata": {
        "colab": {
          "base_uri": "https://localhost:8080/",
          "height": 0
        },
        "id": "ldoDYfD9oFzY",
        "outputId": "9eed7352-7490-4a5d-8151-b805b8c1b0ef"
      },
      "execution_count": 15,
      "outputs": [
        {
          "output_type": "stream",
          "name": "stdout",
          "text": [
            "Epoch 1/3\n",
            "762/762 [==============================] - 24s 8ms/step - loss: 0.6363 - accuracy: 0.6686 - val_loss: 0.5699 - val_accuracy: 0.7610\n",
            "Epoch 2/3\n",
            "762/762 [==============================] - 5s 6ms/step - loss: 0.5362 - accuracy: 0.7603 - val_loss: 0.4991 - val_accuracy: 0.7787\n",
            "Epoch 3/3\n",
            "762/762 [==============================] - 5s 6ms/step - loss: 0.4894 - accuracy: 0.7791 - val_loss: 0.4704 - val_accuracy: 0.7951\n",
            "48/48 [==============================] - 1s 5ms/step\n",
            "Fold F1 Score: 0.7391304347826089\n",
            "Epoch 1/3\n",
            "762/762 [==============================] - 8s 7ms/step - loss: 0.6147 - accuracy: 0.6844 - val_loss: 0.5422 - val_accuracy: 0.7722\n",
            "Epoch 2/3\n",
            "762/762 [==============================] - 5s 6ms/step - loss: 0.5156 - accuracy: 0.7695 - val_loss: 0.4747 - val_accuracy: 0.7846\n",
            "Epoch 3/3\n",
            "762/762 [==============================] - 5s 6ms/step - loss: 0.4742 - accuracy: 0.7882 - val_loss: 0.4476 - val_accuracy: 0.7951\n",
            "48/48 [==============================] - 1s 4ms/step\n",
            "Fold F1 Score: 0.746341463414634\n",
            "Epoch 1/3\n",
            "762/762 [==============================] - 8s 7ms/step - loss: 0.6344 - accuracy: 0.6586 - val_loss: 0.5632 - val_accuracy: 0.7682\n",
            "Epoch 2/3\n",
            "762/762 [==============================] - 5s 6ms/step - loss: 0.5423 - accuracy: 0.7511 - val_loss: 0.4871 - val_accuracy: 0.7873\n",
            "Epoch 3/3\n",
            "762/762 [==============================] - 5s 6ms/step - loss: 0.4958 - accuracy: 0.7742 - val_loss: 0.4568 - val_accuracy: 0.7951\n",
            "48/48 [==============================] - 1s 4ms/step\n",
            "Fold F1 Score: 0.7551020408163265\n",
            "Epoch 1/3\n",
            "762/762 [==============================] - 8s 7ms/step - loss: 0.6514 - accuracy: 0.6301 - val_loss: 0.5909 - val_accuracy: 0.7444\n",
            "Epoch 2/3\n",
            "762/762 [==============================] - 5s 6ms/step - loss: 0.5453 - accuracy: 0.7575 - val_loss: 0.5212 - val_accuracy: 0.7523\n",
            "Epoch 3/3\n",
            "762/762 [==============================] - 5s 6ms/step - loss: 0.4914 - accuracy: 0.7762 - val_loss: 0.4929 - val_accuracy: 0.7622\n",
            "48/48 [==============================] - 1s 4ms/step\n",
            "Fold F1 Score: 0.7090032154340836\n",
            "Epoch 1/3\n",
            "762/762 [==============================] - 8s 8ms/step - loss: 0.6479 - accuracy: 0.6322 - val_loss: 0.5820 - val_accuracy: 0.7451\n",
            "Epoch 2/3\n",
            "762/762 [==============================] - 5s 6ms/step - loss: 0.5440 - accuracy: 0.7588 - val_loss: 0.5113 - val_accuracy: 0.7812\n",
            "Epoch 3/3\n",
            "762/762 [==============================] - 5s 6ms/step - loss: 0.4919 - accuracy: 0.7764 - val_loss: 0.4840 - val_accuracy: 0.7838\n",
            "48/48 [==============================] - 1s 5ms/step\n",
            "Fold F1 Score: 0.7296631059983566\n",
            "Mean LSTM F1 Score: 0.7358480520892019\n"
          ]
        }
      ]
    },
    {
      "cell_type": "code",
      "source": [
        "# GRU model\n",
        "def create_gru_model(input_shape):\n",
        "    model = tf.keras.Sequential([\n",
        "        tf.keras.layers.Input(shape=input_shape),\n",
        "        tf.keras.layers.GRU(128, return_sequences=False),\n",
        "        tf.keras.layers.Dense(32, activation='relu'),\n",
        "        tf.keras.layers.Dropout(0.2),\n",
        "        tf.keras.layers.Dense(1, activation='sigmoid')\n",
        "    ])\n",
        "    model.compile(optimizer=tf.keras.optimizers.Adam(learning_rate=1e-5), loss='binary_crossentropy', metrics=['accuracy'])\n",
        "    return model\n",
        "\n",
        "def cross_validate_gru_model(X, y, cv=5):\n",
        "    kf = KFold(n_splits=cv, shuffle=True, random_state=42)\n",
        "    f1_scores = []\n",
        "\n",
        "    for train_index, val_index in kf.split(X):\n",
        "        X_train, X_val = X[train_index], X[val_index]\n",
        "        y_train, y_val = y[train_index], y[val_index]\n",
        "\n",
        "        input_shape = (X_train.shape[1], X_train.shape[2])\n",
        "        gru_model = create_gru_model(input_shape)\n",
        "\n",
        "        gru_model.fit(\n",
        "            X_train, y_train,\n",
        "            validation_data=(X_val, y_val),\n",
        "            epochs=3,\n",
        "            batch_size=8,\n",
        "            verbose=1\n",
        "        )\n",
        "\n",
        "        y_pred = (gru_model.predict(X_val) > 0.5).astype(\"int32\")\n",
        "        f1 = f1_score(y_val, y_pred)\n",
        "        f1_scores.append(f1)\n",
        "        print(f\"Fold F1 Score: {f1}\")\n",
        "\n",
        "    print(f\"Mean GRU F1 Score: {np.mean(f1_scores)}\")\n",
        "    return np.mean(f1_scores)\n",
        "\n",
        "gru_f1_score = cross_validate_gru_model(train_features, target)"
      ],
      "metadata": {
        "colab": {
          "base_uri": "https://localhost:8080/",
          "height": 0
        },
        "id": "NtG2vBl3oN0g",
        "outputId": "16a70c3f-380e-4fd7-bc08-af68268df905"
      },
      "execution_count": 16,
      "outputs": [
        {
          "output_type": "stream",
          "name": "stdout",
          "text": [
            "Epoch 1/3\n",
            "762/762 [==============================] - 9s 8ms/step - loss: 0.6165 - accuracy: 0.6808 - val_loss: 0.5588 - val_accuracy: 0.7617\n",
            "Epoch 2/3\n",
            "762/762 [==============================] - 5s 7ms/step - loss: 0.5400 - accuracy: 0.7527 - val_loss: 0.5073 - val_accuracy: 0.7781\n",
            "Epoch 3/3\n",
            "762/762 [==============================] - 5s 6ms/step - loss: 0.5058 - accuracy: 0.7690 - val_loss: 0.4841 - val_accuracy: 0.7840\n",
            "48/48 [==============================] - 1s 5ms/step\n",
            "Fold F1 Score: 0.7175965665236052\n",
            "Epoch 1/3\n",
            "762/762 [==============================] - 9s 8ms/step - loss: 0.6248 - accuracy: 0.6644 - val_loss: 0.5702 - val_accuracy: 0.7406\n",
            "Epoch 2/3\n",
            "762/762 [==============================] - 5s 6ms/step - loss: 0.5587 - accuracy: 0.7429 - val_loss: 0.5212 - val_accuracy: 0.7689\n",
            "Epoch 3/3\n",
            "762/762 [==============================] - 5s 6ms/step - loss: 0.5160 - accuracy: 0.7660 - val_loss: 0.4928 - val_accuracy: 0.7748\n",
            "48/48 [==============================] - 1s 4ms/step\n",
            "Fold F1 Score: 0.7009590235396687\n",
            "Epoch 1/3\n",
            "762/762 [==============================] - 8s 8ms/step - loss: 0.6187 - accuracy: 0.6745 - val_loss: 0.5563 - val_accuracy: 0.7669\n",
            "Epoch 2/3\n",
            "762/762 [==============================] - 5s 7ms/step - loss: 0.5520 - accuracy: 0.7489 - val_loss: 0.5052 - val_accuracy: 0.7840\n",
            "Epoch 3/3\n",
            "762/762 [==============================] - 5s 6ms/step - loss: 0.5167 - accuracy: 0.7668 - val_loss: 0.4775 - val_accuracy: 0.7958\n",
            "48/48 [==============================] - 1s 4ms/step\n",
            "Fold F1 Score: 0.7481781376518218\n",
            "Epoch 1/3\n",
            "762/762 [==============================] - 8s 8ms/step - loss: 0.6298 - accuracy: 0.6585 - val_loss: 0.5696 - val_accuracy: 0.7339\n",
            "Epoch 2/3\n",
            "762/762 [==============================] - 5s 7ms/step - loss: 0.5388 - accuracy: 0.7567 - val_loss: 0.5235 - val_accuracy: 0.7654\n",
            "Epoch 3/3\n",
            "762/762 [==============================] - 6s 7ms/step - loss: 0.5050 - accuracy: 0.7703 - val_loss: 0.5032 - val_accuracy: 0.7746\n",
            "48/48 [==============================] - 1s 5ms/step\n",
            "Fold F1 Score: 0.7209113100081367\n",
            "Epoch 1/3\n",
            "762/762 [==============================] - 8s 8ms/step - loss: 0.6368 - accuracy: 0.6428 - val_loss: 0.5946 - val_accuracy: 0.7280\n",
            "Epoch 2/3\n",
            "762/762 [==============================] - 5s 6ms/step - loss: 0.5657 - accuracy: 0.7472 - val_loss: 0.5458 - val_accuracy: 0.7516\n",
            "Epoch 3/3\n",
            "762/762 [==============================] - 5s 7ms/step - loss: 0.5256 - accuracy: 0.7680 - val_loss: 0.5198 - val_accuracy: 0.7700\n",
            "48/48 [==============================] - 1s 4ms/step\n",
            "Fold F1 Score: 0.7102649006622516\n",
            "Mean GRU F1 Score: 0.7195819876770967\n"
          ]
        }
      ]
    },
    {
      "cell_type": "code",
      "source": [
        "#compare the best model\n",
        "print(f\"SVM F1 Score: {svm_f1_score}\")\n",
        "print(f\"LSTM F1 Score: {lstm_f1_score}\")\n",
        "print(f\"GRU F1 Score: {gru_f1_score}\")\n",
        "\n",
        "best_model = max(('SVM', svm_f1_score), ('LSTM', lstm_f1_score), ('GRU', gru_f1_score), key=lambda x: x[1])\n",
        "print(f\"Best Model: {best_model[0]} with F1 Score: {best_model[1]}\")"
      ],
      "metadata": {
        "id": "DC_-PEFL9QhS",
        "outputId": "da625c22-4460-4db6-93d7-567d02728339",
        "colab": {
          "base_uri": "https://localhost:8080/"
        }
      },
      "execution_count": null,
      "outputs": [
        {
          "output_type": "stream",
          "name": "stdout",
          "text": [
            "SVM F1 Score: 0.7486201545728027\n",
            "LSTM F1 Score: 0.7389155298379315\n",
            "GRU F1 Score: 0.7166672799927664\n",
            "Best Model: SVM with F1 Score: 0.7486201545728027\n"
          ]
        }
      ]
    },
    {
      "cell_type": "code",
      "source": [
        "from sklearn.metrics import accuracy_score, precision_score, recall_score, f1_score\n",
        "import numpy as np\n",
        "import pandas as pd\n",
        "import matplotlib.pyplot as plt\n",
        "\n",
        "def cross_validate_svm(model, X, y, cv=5):\n",
        "    kf = KFold(n_splits=cv, shuffle=True, random_state=42)\n",
        "    scores = {'accuracy': [], 'precision': [], 'recall': [], 'f1': []}\n",
        "\n",
        "    for train_index, val_index in kf.split(X):\n",
        "        X_train, X_val = X[train_index], X[val_index]\n",
        "        y_train, y_val = y[train_index], y[val_index]\n",
        "\n",
        "        model.fit(X_train, y_train)\n",
        "        y_pred = model.predict(X_val)\n",
        "\n",
        "        scores['accuracy'].append(accuracy_score(y_val, y_pred))\n",
        "        scores['precision'].append(precision_score(y_val, y_pred))\n",
        "        scores['recall'].append(recall_score(y_val, y_pred))\n",
        "        scores['f1'].append(f1_score(y_val, y_pred))\n",
        "\n",
        "    return {k: np.mean(v) for k, v in scores.items()}\n",
        "\n",
        "def cross_validate_nn_model(create_model_func, X, y, cv=5):\n",
        "    kf = KFold(n_splits=cv, shuffle=True, random_state=42)\n",
        "    scores = {'accuracy': [], 'precision': [], 'recall': [], 'f1': []}\n",
        "\n",
        "    for train_index, val_index in kf.split(X):\n",
        "        X_train, X_val = X[train_index], X[val_index]\n",
        "        y_train, y_val = y[train_index], y[val_index]\n",
        "\n",
        "        input_shape = (X_train.shape[1], X_train.shape[2])\n",
        "        model = create_model_func(input_shape)\n",
        "\n",
        "        model.fit(X_train, y_train, validation_data=(X_val, y_val), epochs=3, batch_size=8, verbose=0)\n",
        "\n",
        "        y_pred = (model.predict(X_val) > 0.5).astype(\"int32\")\n",
        "\n",
        "        scores['accuracy'].append(accuracy_score(y_val, y_pred))\n",
        "        scores['precision'].append(precision_score(y_val, y_pred))\n",
        "        scores['recall'].append(recall_score(y_val, y_pred))\n",
        "        scores['f1'].append(f1_score(y_val, y_pred))\n",
        "\n",
        "    return {k: np.mean(v) for k, v in scores.items()}\n",
        "\n",
        "svm_scores = cross_validate_svm(svm_model, train_features_pooled, target)\n",
        "lstm_scores = cross_validate_nn_model(create_lstm_model, train_features, target)\n",
        "gru_scores = cross_validate_nn_model(create_gru_model, train_features, target)\n",
        "\n",
        "results = pd.DataFrame({\n",
        "    'SVM': svm_scores,\n",
        "    'LSTM': lstm_scores,\n",
        "    'GRU': gru_scores\n",
        "})\n",
        "\n",
        "print(results.to_string(float_format='{:.3f}'.format))\n",
        "\n",
        "ax = results.plot(kind='bar', figsize=(12, 6), width=0.8)\n",
        "plt.title('Model Performance Comparison')\n",
        "plt.xlabel('Metrics')\n",
        "plt.ylabel('Score')\n",
        "plt.legend(title='Model')\n",
        "plt.xticks(rotation=0)\n",
        "\n",
        "for container in ax.containers:\n",
        "    ax.bar_label(container, fmt='%.3f', padding=3)\n",
        "\n",
        "plt.tight_layout()\n",
        "plt.show()"
      ],
      "metadata": {
        "colab": {
          "base_uri": "https://localhost:8080/",
          "height": 867
        },
        "id": "134IhYWMfnsC",
        "outputId": "f2618c56-cd81-4159-e1d3-a0c83550f7d6"
      },
      "execution_count": 17,
      "outputs": [
        {
          "output_type": "stream",
          "name": "stdout",
          "text": [
            "48/48 [==============================] - 1s 5ms/step\n",
            "48/48 [==============================] - 1s 5ms/step\n",
            "48/48 [==============================] - 1s 5ms/step\n",
            "48/48 [==============================] - 1s 4ms/step\n",
            "48/48 [==============================] - 1s 4ms/step\n",
            "48/48 [==============================] - 1s 4ms/step\n",
            "48/48 [==============================] - 1s 5ms/step\n",
            "48/48 [==============================] - 2s 5ms/step\n",
            "48/48 [==============================] - 1s 4ms/step\n",
            "48/48 [==============================] - 1s 4ms/step\n",
            "            SVM  LSTM   GRU\n",
            "accuracy  0.821 0.792 0.775\n",
            "precision 0.857 0.800 0.792\n",
            "recall    0.700 0.689 0.647\n",
            "f1        0.771 0.740 0.712\n"
          ]
        },
        {
          "output_type": "display_data",
          "data": {
            "text/plain": [
              "<Figure size 1200x600 with 1 Axes>"
            ],
            "image/png": "[encoded data removed]"
          },
          "metadata": {}
        }
      ]
    },
    {
      "cell_type": "markdown",
      "source": [
        "# 3. Enhancing Model Robustness\n",
        "\n"
      ],
      "metadata": {
        "id": "y55gfP4o-Uq7"
      }
    },
    {
      "cell_type": "code",
      "source": [
        "from sklearn.ensemble import BaggingClassifier, RandomForestClassifier, GradientBoostingClassifier, StackingClassifier\n",
        "from sklearn.model_selection import cross_val_score, KFold\n",
        "from sklearn.svm import SVC\n",
        "from sklearn.linear_model import LogisticRegression\n",
        "import numpy as np"
      ],
      "metadata": {
        "id": "_lYt-Y6H-Xlj"
      },
      "execution_count": 18,
      "outputs": []
    },
    {
      "cell_type": "code",
      "source": [
        "svm_clf = SVC(probability=True)\n",
        "rf_clf = RandomForestClassifier(n_estimators=100, random_state=42)\n",
        "gbm_clf = GradientBoostingClassifier(n_estimators=100, learning_rate=0.1, max_depth=3, random_state=42)"
      ],
      "metadata": {
        "id": "4Z82PsMV-gc8"
      },
      "execution_count": 19,
      "outputs": []
    },
    {
      "cell_type": "code",
      "source": [
        "# Bagging\n",
        "bagging_clf = BaggingClassifier(estimator=svm_clf, n_estimators=5, random_state=42)\n",
        "kf = KFold(n_splits=5, shuffle=True, random_state=42)\n",
        "bagging_scores = cross_val_score(bagging_clf, train_features_pooled, target, cv=kf, scoring='f1')\n",
        "print(f\"Bagging F1 Score: {np.mean(bagging_scores)}\")"
      ],
      "metadata": {
        "id": "7-eR-vH4-h8S",
        "outputId": "2eb80f43-2efa-49f3-edd0-14ab9aca7348",
        "colab": {
          "base_uri": "https://localhost:8080/"
        }
      },
      "execution_count": null,
      "outputs": [
        {
          "output_type": "stream",
          "name": "stdout",
          "text": [
            "Bagging F1 Score: 0.7764360346360005\n"
          ]
        }
      ]
    },
    {
      "cell_type": "code",
      "source": [
        "# Boosting\n",
        "boosting_clf = GradientBoostingClassifier(n_estimators=100, learning_rate=0.1, max_depth=3, random_state=42)\n",
        "boosting_scores = cross_val_score(boosting_clf, train_features_pooled, target, cv=kf, scoring='f1')\n",
        "print(f\"Boosting F1 Score: {np.mean(boosting_scores)}\")"
      ],
      "metadata": {
        "id": "wlS0990x-iuY",
        "outputId": "a452f028-2ed9-44d3-fe69-1f1fac97b3ac",
        "colab": {
          "base_uri": "https://localhost:8080/"
        }
      },
      "execution_count": null,
      "outputs": [
        {
          "output_type": "stream",
          "name": "stdout",
          "text": [
            "Boosting F1 Score: 0.7471109849763561\n"
          ]
        }
      ]
    },
    {
      "cell_type": "code",
      "source": [
        "# compare the model robustness\n",
        "print(f\"Bagging F1 Score: {np.mean(bagging_scores)}\")\n",
        "print(f\"Boosting F1 Score: {np.mean(boosting_scores)}\")\n",
        "\n",
        "best_ensemble_model = max(('Bagging', np.mean(bagging_scores)), ('Boosting', np.mean(boosting_scores)), key=lambda x: x[1])\n",
        "print(f\"Best Ensemble Model: {best_ensemble_model[0]} with F1 Score: {best_ensemble_model[1]}\")"
      ],
      "metadata": {
        "id": "UkH6ClwD-mnx",
        "outputId": "c8424def-6f3c-43c2-d09a-172c00eee26d",
        "colab": {
          "base_uri": "https://localhost:8080/"
        }
      },
      "execution_count": null,
      "outputs": [
        {
          "output_type": "stream",
          "name": "stdout",
          "text": [
            "Bagging F1 Score: 0.7764360346360005\n",
            "Boosting F1 Score: 0.7471109849763561\n",
            "Best Ensemble Model: Bagging with F1 Score: 0.7764360346360005\n"
          ]
        }
      ]
    },
    {
      "cell_type": "code",
      "source": [
        "# save the best combo BERT + SVM + bagging\n",
        "import joblib\n",
        "from sklearn.ensemble import BaggingClassifier\n",
        "from sklearn.svm import SVC\n",
        "\n",
        "svm_clf = SVC(probability=True)\n",
        "bagging_clf = BaggingClassifier(estimator=svm_clf, n_estimators=5, random_state=42)\n",
        "\n",
        "bagging_clf.fit(train_features_pooled, target)\n",
        "\n",
        "joblib.dump(bagging_clf, 'best_model.pkl')\n",
        "print(\"Model saved as best_model.pkl\")"
      ],
      "metadata": {
        "id": "wImOjGMAN0lG",
        "outputId": "0840a5e1-0c49-45c9-fb3d-a0b4e5ca17d5",
        "colab": {
          "base_uri": "https://localhost:8080/"
        }
      },
      "execution_count": null,
      "outputs": [
        {
          "output_type": "stream",
          "name": "stdout",
          "text": [
            "Model saved as best_model.pkl\n"
          ]
        }
      ]
    },
    {
      "cell_type": "markdown",
      "source": [
        "# 4. for testing data"
      ],
      "metadata": {
        "id": "XHRzD9CRMSLN"
      }
    },
    {
      "cell_type": "code",
      "source": [
        "#BERT preprocessing\n",
        "\n",
        "tokenizer = BertTokenizer.from_pretrained('bert-base-uncased')\n",
        "\n",
        "def bert_encode(data, maximum_length):\n",
        "    input_ids = []\n",
        "    attention_masks = []\n",
        "\n",
        "    for text in data:\n",
        "        encoded = tokenizer.encode_plus(\n",
        "            text,\n",
        "            add_special_tokens=True,\n",
        "            max_length=maximum_length,\n",
        "            truncation=True,\n",
        "            padding='max_length',\n",
        "            return_attention_mask=True,\n",
        "        )\n",
        "        input_ids.append(encoded['input_ids'])\n",
        "        attention_masks.append(encoded['attention_mask'])\n",
        "\n",
        "    return np.array(input_ids), np.array(attention_masks)\n",
        "\n",
        "test_texts = test_df['cleaned_text']\n",
        "test_input_ids, test_attention_masks = bert_encode(test_texts, 60)\n",
        "\n",
        "bert_model = TFBertModel.from_pretrained('bert-base-uncased')\n",
        "\n",
        "def extract_bert_features(input_ids, attention_masks, bert_model):\n",
        "    inputs = {\n",
        "        'input_ids': input_ids,\n",
        "        'attention_mask': attention_masks\n",
        "    }\n",
        "    outputs = bert_model(inputs)\n",
        "    return outputs.last_hidden_state\n",
        "\n",
        "def extract_bert_features_in_batches(input_ids, attention_masks, bert_model, batch_size=8):\n",
        "    features = []\n",
        "    for i in range(0, len(input_ids), batch_size):\n",
        "        batch_input_ids = input_ids[i:i+batch_size]\n",
        "        batch_attention_masks = attention_masks[i:i+batch_size]\n",
        "        batch_features = extract_bert_features(batch_input_ids, batch_attention_masks, bert_model)\n",
        "        features.append(batch_features)\n",
        "    return np.vstack(features)\n",
        "\n",
        "test_features = extract_bert_features_in_batches(test_input_ids, test_attention_masks, bert_model, batch_size=8)\n",
        "\n",
        "del test_input_ids, test_attention_masks\n",
        "gc.collect()\n",
        "\n",
        "def mean_pooling(features):\n",
        "    return np.mean(features, axis=1)\n",
        "\n",
        "test_features_pooled = mean_pooling(test_features)"
      ],
      "metadata": {
        "id": "DwhV_ffuLKXH",
        "outputId": "fa36045b-57e7-4e83-f093-5791521eb4c1",
        "colab": {
          "base_uri": "https://localhost:8080/"
        }
      },
      "execution_count": null,
      "outputs": [
        {
          "output_type": "stream",
          "name": "stderr",
          "text": [
            "Some weights of the PyTorch model were not used when initializing the TF 2.0 model TFBertModel: ['cls.seq_relationship.weight', 'cls.predictions.transform.dense.bias', 'cls.predictions.transform.LayerNorm.weight', 'cls.seq_relationship.bias', 'cls.predictions.transform.LayerNorm.bias', 'cls.predictions.bias', 'cls.predictions.transform.dense.weight']\n",
            "- This IS expected if you are initializing TFBertModel from a PyTorch model trained on another task or with another architecture (e.g. initializing a TFBertForSequenceClassification model from a BertForPreTraining model).\n",
            "- This IS NOT expected if you are initializing TFBertModel from a PyTorch model that you expect to be exactly identical (e.g. initializing a TFBertForSequenceClassification model from a BertForSequenceClassification model).\n",
            "All the weights of TFBertModel were initialized from the PyTorch model.\n",
            "If your task is similar to the task the model of the checkpoint was trained on, you can already use TFBertModel for predictions without further training.\n"
          ]
        }
      ]
    },
    {
      "cell_type": "code",
      "source": [
        "#using the best model combo SVM+bagging\n",
        "best_model = joblib.load('best_model.pkl')\n",
        "\n",
        "test_predictions = best_model.predict(test_features_pooled)"
      ],
      "metadata": {
        "id": "EnXLFGKPNQKa"
      },
      "execution_count": null,
      "outputs": []
    },
    {
      "cell_type": "code",
      "source": [
        "import matplotlib.pyplot as plt\n",
        "import seaborn as sns\n",
        "\n",
        "prediction_counts = pd.Series(test_predictions).value_counts()\n",
        "\n",
        "print(prediction_counts)\n",
        "\n",
        "plt.figure(figsize=(10, 6))\n",
        "sns.countplot(test_predictions)\n",
        "plt.title('Distribution of Predictions')\n",
        "plt.xlabel('Prediction')\n",
        "plt.ylabel('Count')"
      ],
      "metadata": {
        "id": "qw3xMtqANZ3y",
        "outputId": "1ca56f38-e173-4202-c9cf-8b59f71bd278",
        "colab": {
          "base_uri": "https://localhost:8080/",
          "height": 633
        }
      },
      "execution_count": null,
      "outputs": [
        {
          "output_type": "stream",
          "name": "stdout",
          "text": [
            "0    2086\n",
            "1    1177\n",
            "Name: count, dtype: int64\n"
          ]
        },
        {
          "output_type": "execute_result",
          "data": {
            "text/plain": [
              "Text(0, 0.5, 'Count')"
            ]
          },
          "metadata": {},
          "execution_count": 33
        },
        {
          "output_type": "display_data",
          "data": {
            "text/plain": [
              "<Figure size 1000x600 with 1 Axes>"
            ],
            "image/png": "[encoded data removed]"
          },
          "metadata": {}
        }
      ]
    }
  ]
}